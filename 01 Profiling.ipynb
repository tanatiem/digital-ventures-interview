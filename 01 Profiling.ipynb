{
 "cells": [
  {
   "cell_type": "markdown",
   "id": "c75f9fd8-d0e3-4df5-98bc-d02d5002905b",
   "metadata": {},
   "source": [
    "# Data Profiling"
   ]
  },
  {
   "cell_type": "code",
   "execution_count": 65,
   "id": "e7603b13-79e6-4498-af8c-1fbd499d842b",
   "metadata": {},
   "outputs": [],
   "source": [
    "import numpy as np\n",
    "import pandas as pd\n",
    "import matplotlib.pyplot as plt\n",
    "import seaborn as sns\n",
    "\n",
    "from pandas_profiling import ProfileReport"
   ]
  },
  {
   "cell_type": "code",
   "execution_count": 70,
   "id": "de38e507-9445-48f0-8206-9d87ae2ba282",
   "metadata": {},
   "outputs": [
    {
     "name": "stdout",
     "output_type": "stream",
     "text": [
      "(316822, 27)\n",
      "<class 'pandas.core.frame.DataFrame'>\n",
      "RangeIndex: 316822 entries, 0 to 316821\n",
      "Data columns (total 27 columns):\n",
      " #   Column                Non-Null Count   Dtype  \n",
      "---  ------                --------------   -----  \n",
      " 0   id                    316822 non-null  int64  \n",
      " 1   loan_amnt             316822 non-null  int64  \n",
      " 2   term                  316822 non-null  object \n",
      " 3   int_rate              316822 non-null  float64\n",
      " 4   installment           316822 non-null  float64\n",
      " 5   grade                 316822 non-null  object \n",
      " 6   sub_grade             316822 non-null  object \n",
      " 7   emp_title             298748 non-null  object \n",
      " 8   emp_length            302489 non-null  object \n",
      " 9   home_ownership        316822 non-null  object \n",
      " 10  annual_inc            316822 non-null  float64\n",
      " 11  verification_status   316822 non-null  object \n",
      " 12  loan_status           316822 non-null  object \n",
      " 13  purpose               316822 non-null  object \n",
      " 14  title                 315430 non-null  object \n",
      " 15  dti                   316822 non-null  float64\n",
      " 16  earliest_cr_line      316822 non-null  object \n",
      " 17  open_acc              316822 non-null  int64  \n",
      " 18  pub_rec               316822 non-null  int64  \n",
      " 19  revol_bal             316822 non-null  int64  \n",
      " 20  revol_util            316601 non-null  float64\n",
      " 21  total_acc             316822 non-null  int64  \n",
      " 22  initial_list_status   316822 non-null  object \n",
      " 23  application_type      316822 non-null  object \n",
      " 24  mort_acc              286039 non-null  float64\n",
      " 25  pub_rec_bankruptcies  316389 non-null  float64\n",
      " 26  address               316822 non-null  object \n",
      "dtypes: float64(7), int64(6), object(14)\n",
      "memory usage: 65.3+ MB\n"
     ]
    }
   ],
   "source": [
    "src = pd.read_csv('data/00_dataset_cleansed.csv')\n",
    "print(src.shape)\n",
    "src.info()"
   ]
  },
  {
   "cell_type": "markdown",
   "id": "dd48c815-4d59-4d9d-8aca-4a5c35da057c",
   "metadata": {},
   "source": [
    "# Original Data Profiling"
   ]
  },
  {
   "cell_type": "code",
   "execution_count": 68,
   "id": "b0d18fd6-7df6-41fa-82f9-ccec5c584a4b",
   "metadata": {},
   "outputs": [
    {
     "data": {
      "application/vnd.jupyter.widget-view+json": {
       "model_id": "8e0f6cb5e7924ee2b8a4f8cbe65defc6",
       "version_major": 2,
       "version_minor": 0
      },
      "text/plain": [
       "Summarize dataset:   0%|          | 0/5 [00:00<?, ?it/s]"
      ]
     },
     "metadata": {},
     "output_type": "display_data"
    },
    {
     "name": "stderr",
     "output_type": "stream",
     "text": [
      "C:\\Python\\anaconda3\\envs\\corgi\\lib\\site-packages\\scipy\\stats\\stats.py:4812: RuntimeWarning: overflow encountered in longlong_scalars\n",
      "  (2 * xtie * ytie) / m + x0 * y0 / (9 * m * (size - 2)))\n"
     ]
    },
    {
     "data": {
      "application/vnd.jupyter.widget-view+json": {
       "model_id": "643de4b246934b90897c907b67c90fa6",
       "version_major": 2,
       "version_minor": 0
      },
      "text/plain": [
       "Generate report structure:   0%|          | 0/1 [00:00<?, ?it/s]"
      ]
     },
     "metadata": {},
     "output_type": "display_data"
    },
    {
     "data": {
      "application/vnd.jupyter.widget-view+json": {
       "model_id": "",
       "version_major": 2,
       "version_minor": 0
      },
      "text/plain": [
       "Render widgets:   0%|          | 0/1 [00:00<?, ?it/s]"
      ]
     },
     "metadata": {},
     "output_type": "display_data"
    },
    {
     "name": "stderr",
     "output_type": "stream",
     "text": [
      "IOPub message rate exceeded.\n",
      "The Jupyter server will temporarily stop sending output\n",
      "to the client in order to avoid crashing it.\n",
      "To change this limit, set the config variable\n",
      "`--ServerApp.iopub_msg_rate_limit`.\n",
      "\n",
      "Current values:\n",
      "ServerApp.iopub_msg_rate_limit=1000.0 (msgs/sec)\n",
      "ServerApp.rate_limit_window=3.0 (secs)\n",
      "\n",
      "IOPub message rate exceeded.\n",
      "The Jupyter server will temporarily stop sending output\n",
      "to the client in order to avoid crashing it.\n",
      "To change this limit, set the config variable\n",
      "`--ServerApp.iopub_msg_rate_limit`.\n",
      "\n",
      "Current values:\n",
      "ServerApp.iopub_msg_rate_limit=1000.0 (msgs/sec)\n",
      "ServerApp.rate_limit_window=3.0 (secs)\n",
      "\n"
     ]
    },
    {
     "data": {
      "application/vnd.jupyter.widget-view+json": {
       "model_id": "b90fbb6791e1464398a3d843ba4e29b9",
       "version_major": 2,
       "version_minor": 0
      },
      "text/plain": [
       "VBox(children=(Tab(children=(Tab(children=(GridBox(children=(VBox(children=(GridspecLayout(children=(HTML(valu…"
      ]
     },
     "metadata": {},
     "output_type": "display_data"
    }
   ],
   "source": [
    "profile = ProfileReport(src)\n",
    "profile.to_widgets()"
   ]
  },
  {
   "cell_type": "code",
   "execution_count": 122,
   "id": "ae3fdf2a-28da-4fab-b487-a0f12ae724e6",
   "metadata": {},
   "outputs": [
    {
     "data": {
      "text/plain": [
       "10+ years    101131\n",
       "2 years       28732\n",
       "3 years       25355\n",
       "< 1 year      25255\n",
       "5 years       21284\n",
       "1 year        20676\n",
       "4 years       19233\n",
       "6 years       16708\n",
       "7 years       16544\n",
       "8 years       15412\n",
       "NaN           14332\n",
       "9 years       12159\n",
       "Name: emp_length, dtype: int64"
      ]
     },
     "execution_count": 122,
     "metadata": {},
     "output_type": "execute_result"
    }
   ],
   "source": [
    "src.emp_length.value_counts(dropna=False)"
   ]
  },
  {
   "cell_type": "code",
   "execution_count": 125,
   "id": "95ccafe4-0227-4332-83ed-100e496d66cf",
   "metadata": {},
   "outputs": [
    {
     "data": {
      "text/plain": [
       "10+ years    101131\n",
       "2 years       28732\n",
       "3 years       25355\n",
       "< 1 year      25255\n",
       "5 years       21284\n",
       "1 year        20676\n",
       "4 years       19233\n",
       "6 years       16708\n",
       "7 years       16544\n",
       "8 years       15412\n",
       "NONE          14332\n",
       "9 years       12159\n",
       "Name: emp_length, dtype: int64"
      ]
     },
     "execution_count": 125,
     "metadata": {},
     "output_type": "execute_result"
    }
   ],
   "source": [
    "src.emp_length.fillna('NONE').value_counts(dropna=False)"
   ]
  },
  {
   "cell_type": "markdown",
   "id": "82f5ca65-e0f9-4dbe-847f-9031606a40c2",
   "metadata": {},
   "source": [
    "# Data Quality Check and EDA"
   ]
  },
  {
   "cell_type": "markdown",
   "id": "935bd41e-4bbd-4a41-861e-f97a7553e920",
   "metadata": {},
   "source": [
    "## Removing rows\n",
    "\n",
    "Annual Income should be required for loan application.  \n",
    "There's only one row with `annual_inc == 0`"
   ]
  },
  {
   "cell_type": "code",
   "execution_count": 71,
   "id": "dc6b39a5-7d05-480b-8f14-69dfe24b1cf2",
   "metadata": {},
   "outputs": [
    {
     "data": {
      "text/plain": [
       "1"
      ]
     },
     "execution_count": 71,
     "metadata": {},
     "output_type": "execute_result"
    }
   ],
   "source": [
    "(src.annual_inc == 0).sum()"
   ]
  },
  {
   "cell_type": "code",
   "execution_count": 76,
   "id": "60666167-b566-469e-a975-12f5a6e097df",
   "metadata": {},
   "outputs": [],
   "source": [
    "src = src[src.annual_inc > 0]"
   ]
  },
  {
   "cell_type": "markdown",
   "id": "7fefed99-5c62-4a84-9241-7e12bbfbdecb",
   "metadata": {},
   "source": [
    "# Experimental Feature"
   ]
  },
  {
   "cell_type": "markdown",
   "id": "90c2bbc7-b4a7-436c-850c-062c3e1c9481",
   "metadata": {},
   "source": [
    "## Feature Processing (Experiments)"
   ]
  },
  {
   "cell_type": "code",
   "execution_count": 126,
   "id": "0c3ea1ce-e145-4b84-a17c-8e36d48dad06",
   "metadata": {},
   "outputs": [],
   "source": [
    "def preprocess_dtypes(df):\n",
    "    data = df.copy()\n",
    "    \n",
    "    for col in ['loan_amnt','revol_bal']:\n",
    "        data[col] = data[col].astype(float)\n",
    "        \n",
    "    # emp_length\n",
    "    emp_length_levels = ['NONE', '< 1 year', '1 year', '2 years', '3 years', '4 years', \n",
    "                        '5 years', '6 years', '7 years', '8 years', '9 years', '10+ years']\n",
    "    data.emp_length = data.emp_length.fillna('NONE').astype(pd.CategoricalDtype(categories=emp_length_levels, ordered=True))\n",
    "    \n",
    "    # grade\n",
    "    grade_levels = ['A','B','C','D','E','F','G']\n",
    "    data.grade = data.grade.astype(pd.CategoricalDtype(categories=grade_levels, ordered=True))\n",
    "    \n",
    "    # sub grade\n",
    "    sub_grade_levels = ['A1', 'A2', 'A3', 'A4', 'A5', 'B1', 'B2', 'B3', 'B4', 'B5', \n",
    "                        'C1', 'C2', 'C3', 'C4', 'C5', 'D1', 'D2', 'D3', 'D4', 'D5', \n",
    "                        'E1', 'E2', 'E3', 'E4', 'E5', 'F1', 'F2', 'F3', 'F4', 'F5', \n",
    "                        'G1', 'G2', 'G3', 'G4', 'G5']\n",
    "    data.sub_grade = data.sub_grade.astype(pd.CategoricalDtype(categories=sub_grade_levels, ordered=True))\n",
    "    \n",
    "    # term\n",
    "    term_levels = ['36 months', '60 months']\n",
    "    data.term = data.term.str.strip().astype(pd.CategoricalDtype(categories=term_levels, ordered=True))\n",
    "    \n",
    "    # loan status\n",
    "    loan_status_levels = ['Charged Off', 'Fully Paid']\n",
    "    data.loan_status = data.loan_status.astype(pd.CategoricalDtype(categories=loan_status_levels))\n",
    "\n",
    "    # home ownership\n",
    "    data.home_ownership = data.home_ownership.replace({'NONE':'OTHER','ANY':'OTHER'}).astype('category')\n",
    "    \n",
    "    # purpose, intiial_list_staus, application_type\n",
    "    data.purpose = data.purpose.astype('category')\n",
    "    data.initial_list_status = data.initial_list_status.astype('category')\n",
    "    data.application_type = data.application_type.astype('category')\n",
    "    \n",
    "    # earlies_cr_line : datetime\n",
    "    data.earliest_cr_line = pd.to_datetime(data.earliest_cr_line)\n",
    "    \n",
    "    return data\n",
    "\n",
    "def featurize(df):\n",
    "    data = df.copy()\n",
    "    data['inc_not_verified'] = data.verification_status.eq('Not Verified')\n",
    "    data['earliest_cr_year'] = data.earliest_cr_line.dt.year.astype(int)\n",
    "    data['revol_util_missing'] = data.revol_util.isna()\n",
    "    data['mort_acc_missing'] = data.mort_acc.isna()\n",
    "    data['pub_rec_bankrupt_missing'] = data.pub_rec_bankruptcies.isna()\n",
    "    data['zip'] = data.address.str.split('[\\s,]', regex=True).apply(lambda x: x[-1]).astype('category')\n",
    "    data['state'] = data.address.str.split('[\\s,]', regex=True).apply(lambda x: x[-2]).astype('category')\n",
    "    data['installment_inc_ratio'] = data['installment'] / data['annual_inc'] * 12\n",
    "    return data\n",
    "\n",
    "def drop_features(df):\n",
    "    data = df.copy()\n",
    "    drop_cols = ['id','emp_title','earliest_cr_line','address','title']\n",
    "    data = data.drop(columns=drop_cols)    \n",
    "    return data\n",
    "\n",
    "\n",
    "# # impute missing values\n",
    "\n",
    "# impute_features = ['revol_util','mort_acc','pub_rec_bankruptcies']\n",
    "# for col in impute_features:\n",
    "#     df[col] = df[col].fillna(df[col].median())\n",
    "#     # df[col] = df[col].fillna(0)\n",
    "    \n",
    "# df.mort_acc = df.mort_acc.astype(int)\n",
    "# df.pub_rec_bankruptcies = df.pub_rec_bankruptcies.astype(int)\n",
    "\n",
    "\n",
    "# # one hot\n",
    "# nominal_features = ['home_ownership', 'purpose', \n",
    "#                 'initial_list_status', 'application_type','zip'] # 'state'\n",
    "# df = pd.get_dummies(df, columns=nominal_features)"
   ]
  },
  {
   "cell_type": "code",
   "execution_count": 127,
   "id": "d351701e-9c5a-45ea-99d9-9d850d5f78fb",
   "metadata": {},
   "outputs": [
    {
     "name": "stdout",
     "output_type": "stream",
     "text": [
      "<class 'pandas.core.frame.DataFrame'>\n",
      "Int64Index: 316821 entries, 0 to 316821\n",
      "Data columns (total 30 columns):\n",
      " #   Column                    Non-Null Count   Dtype   \n",
      "---  ------                    --------------   -----   \n",
      " 0   loan_amnt                 316821 non-null  float64 \n",
      " 1   term                      316821 non-null  category\n",
      " 2   int_rate                  316821 non-null  float64 \n",
      " 3   installment               316821 non-null  float64 \n",
      " 4   grade                     316821 non-null  category\n",
      " 5   sub_grade                 316821 non-null  category\n",
      " 6   emp_length                316821 non-null  category\n",
      " 7   home_ownership            316821 non-null  category\n",
      " 8   annual_inc                316821 non-null  float64 \n",
      " 9   verification_status       316821 non-null  object  \n",
      " 10  loan_status               316821 non-null  category\n",
      " 11  purpose                   316821 non-null  category\n",
      " 12  dti                       316821 non-null  float64 \n",
      " 13  open_acc                  316821 non-null  int64   \n",
      " 14  pub_rec                   316821 non-null  int64   \n",
      " 15  revol_bal                 316821 non-null  float64 \n",
      " 16  revol_util                316600 non-null  float64 \n",
      " 17  total_acc                 316821 non-null  int64   \n",
      " 18  initial_list_status       316821 non-null  category\n",
      " 19  application_type          316821 non-null  category\n",
      " 20  mort_acc                  286038 non-null  float64 \n",
      " 21  pub_rec_bankruptcies      316388 non-null  float64 \n",
      " 22  inc_not_verified          316821 non-null  bool    \n",
      " 23  earliest_cr_year          316821 non-null  int32   \n",
      " 24  revol_util_missing        316821 non-null  bool    \n",
      " 25  mort_acc_missing          316821 non-null  bool    \n",
      " 26  pub_rec_bankrupt_missing  316821 non-null  bool    \n",
      " 27  zip                       316821 non-null  category\n",
      " 28  state                     316821 non-null  category\n",
      " 29  installment_inc_ratio     316821 non-null  float64 \n",
      "dtypes: bool(4), category(11), float64(10), int32(1), int64(3), object(1)\n",
      "memory usage: 42.0+ MB\n"
     ]
    }
   ],
   "source": [
    "df = preprocess_dtypes(src)\n",
    "df = featurize(df)\n",
    "df = drop_features(df)\n",
    "df.info()"
   ]
  },
  {
   "cell_type": "markdown",
   "id": "0ace3ba4-09f1-402a-8336-edd91738b213",
   "metadata": {},
   "source": [
    "## Processced Data Profiling (Experiments)"
   ]
  },
  {
   "cell_type": "code",
   "execution_count": 128,
   "id": "570b5dae-5333-4c0b-b2de-4bb8d884379d",
   "metadata": {},
   "outputs": [
    {
     "data": {
      "application/vnd.jupyter.widget-view+json": {
       "model_id": "746ea8343b21432d9ff23ef5a6008b9c",
       "version_major": 2,
       "version_minor": 0
      },
      "text/plain": [
       "Summarize dataset:   0%|          | 0/5 [00:00<?, ?it/s]"
      ]
     },
     "metadata": {},
     "output_type": "display_data"
    },
    {
     "name": "stderr",
     "output_type": "stream",
     "text": [
      "C:\\Python\\anaconda3\\envs\\corgi\\lib\\site-packages\\scipy\\stats\\stats.py:4812: RuntimeWarning: overflow encountered in longlong_scalars\n",
      "  (2 * xtie * ytie) / m + x0 * y0 / (9 * m * (size - 2)))\n",
      "C:\\Python\\anaconda3\\envs\\corgi\\lib\\site-packages\\scipy\\stats\\stats.py:4814: RuntimeWarning: invalid value encountered in sqrt\n",
      "  np.sqrt(var) / np.sqrt(2)))\n"
     ]
    },
    {
     "data": {
      "application/vnd.jupyter.widget-view+json": {
       "model_id": "7c61132acd904827a779e4351d2916e0",
       "version_major": 2,
       "version_minor": 0
      },
      "text/plain": [
       "Generate report structure:   0%|          | 0/1 [00:00<?, ?it/s]"
      ]
     },
     "metadata": {},
     "output_type": "display_data"
    },
    {
     "data": {
      "application/vnd.jupyter.widget-view+json": {
       "model_id": "",
       "version_major": 2,
       "version_minor": 0
      },
      "text/plain": [
       "Render widgets:   0%|          | 0/1 [00:00<?, ?it/s]"
      ]
     },
     "metadata": {},
     "output_type": "display_data"
    },
    {
     "name": "stderr",
     "output_type": "stream",
     "text": [
      "IOPub message rate exceeded.\n",
      "The Jupyter server will temporarily stop sending output\n",
      "to the client in order to avoid crashing it.\n",
      "To change this limit, set the config variable\n",
      "`--ServerApp.iopub_msg_rate_limit`.\n",
      "\n",
      "Current values:\n",
      "ServerApp.iopub_msg_rate_limit=1000.0 (msgs/sec)\n",
      "ServerApp.rate_limit_window=3.0 (secs)\n",
      "\n",
      "IOPub message rate exceeded.\n",
      "The Jupyter server will temporarily stop sending output\n",
      "to the client in order to avoid crashing it.\n",
      "To change this limit, set the config variable\n",
      "`--ServerApp.iopub_msg_rate_limit`.\n",
      "\n",
      "Current values:\n",
      "ServerApp.iopub_msg_rate_limit=1000.0 (msgs/sec)\n",
      "ServerApp.rate_limit_window=3.0 (secs)\n",
      "\n",
      "IOPub message rate exceeded.\n",
      "The Jupyter server will temporarily stop sending output\n",
      "to the client in order to avoid crashing it.\n",
      "To change this limit, set the config variable\n",
      "`--ServerApp.iopub_msg_rate_limit`.\n",
      "\n",
      "Current values:\n",
      "ServerApp.iopub_msg_rate_limit=1000.0 (msgs/sec)\n",
      "ServerApp.rate_limit_window=3.0 (secs)\n",
      "\n"
     ]
    },
    {
     "data": {
      "application/vnd.jupyter.widget-view+json": {
       "model_id": "04c2b72f901e45c5ab84a87765db191c",
       "version_major": 2,
       "version_minor": 0
      },
      "text/plain": [
       "VBox(children=(Tab(children=(Tab(children=(GridBox(children=(VBox(children=(GridspecLayout(children=(HTML(valu…"
      ]
     },
     "metadata": {},
     "output_type": "display_data"
    }
   ],
   "source": [
    "profile = ProfileReport(df)\n",
    "profile.to_widgets()"
   ]
  },
  {
   "cell_type": "code",
   "execution_count": 112,
   "id": "1c479625-8165-4247-b1fe-f13545cd75da",
   "metadata": {},
   "outputs": [],
   "source": [
    "src.to_csv('data/01_cleansed.csv', index=False)"
   ]
  },
  {
   "cell_type": "code",
   "execution_count": null,
   "id": "97415b92-e71e-4f87-8dde-32ba159d521b",
   "metadata": {},
   "outputs": [],
   "source": []
  },
  {
   "cell_type": "code",
   "execution_count": 129,
   "id": "25bb876e-50b2-428e-9f44-e04b46aca0c1",
   "metadata": {},
   "outputs": [
    {
     "data": {
      "text/plain": [
       "loan_amnt                   0.000000\n",
       "term                        0.000000\n",
       "int_rate                    0.000000\n",
       "installment                 0.000000\n",
       "grade                       0.000000\n",
       "sub_grade                   0.000000\n",
       "emp_length                  0.000000\n",
       "home_ownership              0.000000\n",
       "annual_inc                  0.000000\n",
       "verification_status         0.000000\n",
       "loan_status                 0.000000\n",
       "purpose                     0.000000\n",
       "dti                         0.000000\n",
       "open_acc                    0.000000\n",
       "pub_rec                     0.000000\n",
       "revol_bal                   0.000000\n",
       "revol_util                  0.000698\n",
       "total_acc                   0.000000\n",
       "initial_list_status         0.000000\n",
       "application_type            0.000000\n",
       "mort_acc                    0.097162\n",
       "pub_rec_bankruptcies        0.001367\n",
       "inc_not_verified            0.000000\n",
       "earliest_cr_year            0.000000\n",
       "revol_util_missing          0.000000\n",
       "mort_acc_missing            0.000000\n",
       "pub_rec_bankrupt_missing    0.000000\n",
       "zip                         0.000000\n",
       "state                       0.000000\n",
       "installment_inc_ratio       0.000000\n",
       "dtype: float64"
      ]
     },
     "execution_count": 129,
     "metadata": {},
     "output_type": "execute_result"
    }
   ],
   "source": [
    "df.isna().mean()"
   ]
  }
 ],
 "metadata": {
  "kernelspec": {
   "display_name": "Python 3 (ipykernel)",
   "language": "python",
   "name": "python3"
  },
  "language_info": {
   "codemirror_mode": {
    "name": "ipython",
    "version": 3
   },
   "file_extension": ".py",
   "mimetype": "text/x-python",
   "name": "python",
   "nbconvert_exporter": "python",
   "pygments_lexer": "ipython3",
   "version": "3.9.12"
  }
 },
 "nbformat": 4,
 "nbformat_minor": 5
}
