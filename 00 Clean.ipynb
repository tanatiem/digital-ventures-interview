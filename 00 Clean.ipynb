{
 "cells": [
  {
   "cell_type": "markdown",
   "id": "ea1e6c56-8c09-48d1-803d-439fdd7138ce",
   "metadata": {},
   "source": [
    "# Data Cleaning"
   ]
  },
  {
   "cell_type": "markdown",
   "id": "2fa16faf-0d41-43d7-a229-9413b5783d66",
   "metadata": {},
   "source": [
    "It seems there are quite a number of 'intended' challenges putting in the dataset file. 😂  \n",
    "Pandas read_csv doesn't work"
   ]
  },
  {
   "cell_type": "code",
   "execution_count": 84,
   "id": "e7603b13-79e6-4498-af8c-1fbd499d842b",
   "metadata": {},
   "outputs": [],
   "source": [
    "import pandas as pd\n",
    "import numpy as np\n",
    "import matplotlib.pyplot as plt\n",
    "import csv"
   ]
  },
  {
   "cell_type": "markdown",
   "id": "2eef07d8-71f6-432b-a5b6-a219111c186c",
   "metadata": {},
   "source": [
    "## Error using pandas.read_csv"
   ]
  },
  {
   "cell_type": "code",
   "execution_count": 85,
   "id": "d1005c61-36f2-4ae6-8a76-f6cae348b773",
   "metadata": {},
   "outputs": [
    {
     "ename": "ParserError",
     "evalue": "Error tokenizing data. C error: Expected 27 fields in line 34792, saw 32\n",
     "output_type": "error",
     "traceback": [
      "\u001b[1;31m---------------------------------------------------------------------------\u001b[0m",
      "\u001b[1;31mParserError\u001b[0m                               Traceback (most recent call last)",
      "Input \u001b[1;32mIn [85]\u001b[0m, in \u001b[0;36m<cell line: 3>\u001b[1;34m()\u001b[0m\n\u001b[0;32m      1\u001b[0m filename \u001b[38;5;241m=\u001b[39m \u001b[38;5;124m'\u001b[39m\u001b[38;5;124mdata/dataset.csv\u001b[39m\u001b[38;5;124m'\u001b[39m\n\u001b[1;32m----> 3\u001b[0m src \u001b[38;5;241m=\u001b[39m \u001b[43mpd\u001b[49m\u001b[38;5;241;43m.\u001b[39;49m\u001b[43mread_csv\u001b[49m\u001b[43m(\u001b[49m\u001b[43mfilename\u001b[49m\u001b[43m)\u001b[49m\n",
      "File \u001b[1;32mC:\\Python\\anaconda3\\envs\\corgi\\lib\\site-packages\\pandas\\util\\_decorators.py:311\u001b[0m, in \u001b[0;36mdeprecate_nonkeyword_arguments.<locals>.decorate.<locals>.wrapper\u001b[1;34m(*args, **kwargs)\u001b[0m\n\u001b[0;32m    305\u001b[0m \u001b[38;5;28;01mif\u001b[39;00m \u001b[38;5;28mlen\u001b[39m(args) \u001b[38;5;241m>\u001b[39m num_allow_args:\n\u001b[0;32m    306\u001b[0m     warnings\u001b[38;5;241m.\u001b[39mwarn(\n\u001b[0;32m    307\u001b[0m         msg\u001b[38;5;241m.\u001b[39mformat(arguments\u001b[38;5;241m=\u001b[39marguments),\n\u001b[0;32m    308\u001b[0m         \u001b[38;5;167;01mFutureWarning\u001b[39;00m,\n\u001b[0;32m    309\u001b[0m         stacklevel\u001b[38;5;241m=\u001b[39mstacklevel,\n\u001b[0;32m    310\u001b[0m     )\n\u001b[1;32m--> 311\u001b[0m \u001b[38;5;28;01mreturn\u001b[39;00m func(\u001b[38;5;241m*\u001b[39margs, \u001b[38;5;241m*\u001b[39m\u001b[38;5;241m*\u001b[39mkwargs)\n",
      "File \u001b[1;32mC:\\Python\\anaconda3\\envs\\corgi\\lib\\site-packages\\pandas\\io\\parsers\\readers.py:680\u001b[0m, in \u001b[0;36mread_csv\u001b[1;34m(filepath_or_buffer, sep, delimiter, header, names, index_col, usecols, squeeze, prefix, mangle_dupe_cols, dtype, engine, converters, true_values, false_values, skipinitialspace, skiprows, skipfooter, nrows, na_values, keep_default_na, na_filter, verbose, skip_blank_lines, parse_dates, infer_datetime_format, keep_date_col, date_parser, dayfirst, cache_dates, iterator, chunksize, compression, thousands, decimal, lineterminator, quotechar, quoting, doublequote, escapechar, comment, encoding, encoding_errors, dialect, error_bad_lines, warn_bad_lines, on_bad_lines, delim_whitespace, low_memory, memory_map, float_precision, storage_options)\u001b[0m\n\u001b[0;32m    665\u001b[0m kwds_defaults \u001b[38;5;241m=\u001b[39m _refine_defaults_read(\n\u001b[0;32m    666\u001b[0m     dialect,\n\u001b[0;32m    667\u001b[0m     delimiter,\n\u001b[1;32m   (...)\u001b[0m\n\u001b[0;32m    676\u001b[0m     defaults\u001b[38;5;241m=\u001b[39m{\u001b[38;5;124m\"\u001b[39m\u001b[38;5;124mdelimiter\u001b[39m\u001b[38;5;124m\"\u001b[39m: \u001b[38;5;124m\"\u001b[39m\u001b[38;5;124m,\u001b[39m\u001b[38;5;124m\"\u001b[39m},\n\u001b[0;32m    677\u001b[0m )\n\u001b[0;32m    678\u001b[0m kwds\u001b[38;5;241m.\u001b[39mupdate(kwds_defaults)\n\u001b[1;32m--> 680\u001b[0m \u001b[38;5;28;01mreturn\u001b[39;00m \u001b[43m_read\u001b[49m\u001b[43m(\u001b[49m\u001b[43mfilepath_or_buffer\u001b[49m\u001b[43m,\u001b[49m\u001b[43m \u001b[49m\u001b[43mkwds\u001b[49m\u001b[43m)\u001b[49m\n",
      "File \u001b[1;32mC:\\Python\\anaconda3\\envs\\corgi\\lib\\site-packages\\pandas\\io\\parsers\\readers.py:581\u001b[0m, in \u001b[0;36m_read\u001b[1;34m(filepath_or_buffer, kwds)\u001b[0m\n\u001b[0;32m    578\u001b[0m     \u001b[38;5;28;01mreturn\u001b[39;00m parser\n\u001b[0;32m    580\u001b[0m \u001b[38;5;28;01mwith\u001b[39;00m parser:\n\u001b[1;32m--> 581\u001b[0m     \u001b[38;5;28;01mreturn\u001b[39;00m \u001b[43mparser\u001b[49m\u001b[38;5;241;43m.\u001b[39;49m\u001b[43mread\u001b[49m\u001b[43m(\u001b[49m\u001b[43mnrows\u001b[49m\u001b[43m)\u001b[49m\n",
      "File \u001b[1;32mC:\\Python\\anaconda3\\envs\\corgi\\lib\\site-packages\\pandas\\io\\parsers\\readers.py:1254\u001b[0m, in \u001b[0;36mTextFileReader.read\u001b[1;34m(self, nrows)\u001b[0m\n\u001b[0;32m   1252\u001b[0m nrows \u001b[38;5;241m=\u001b[39m validate_integer(\u001b[38;5;124m\"\u001b[39m\u001b[38;5;124mnrows\u001b[39m\u001b[38;5;124m\"\u001b[39m, nrows)\n\u001b[0;32m   1253\u001b[0m \u001b[38;5;28;01mtry\u001b[39;00m:\n\u001b[1;32m-> 1254\u001b[0m     index, columns, col_dict \u001b[38;5;241m=\u001b[39m \u001b[38;5;28;43mself\u001b[39;49m\u001b[38;5;241;43m.\u001b[39;49m\u001b[43m_engine\u001b[49m\u001b[38;5;241;43m.\u001b[39;49m\u001b[43mread\u001b[49m\u001b[43m(\u001b[49m\u001b[43mnrows\u001b[49m\u001b[43m)\u001b[49m\n\u001b[0;32m   1255\u001b[0m \u001b[38;5;28;01mexcept\u001b[39;00m \u001b[38;5;167;01mException\u001b[39;00m:\n\u001b[0;32m   1256\u001b[0m     \u001b[38;5;28mself\u001b[39m\u001b[38;5;241m.\u001b[39mclose()\n",
      "File \u001b[1;32mC:\\Python\\anaconda3\\envs\\corgi\\lib\\site-packages\\pandas\\io\\parsers\\c_parser_wrapper.py:225\u001b[0m, in \u001b[0;36mCParserWrapper.read\u001b[1;34m(self, nrows)\u001b[0m\n\u001b[0;32m    223\u001b[0m \u001b[38;5;28;01mtry\u001b[39;00m:\n\u001b[0;32m    224\u001b[0m     \u001b[38;5;28;01mif\u001b[39;00m \u001b[38;5;28mself\u001b[39m\u001b[38;5;241m.\u001b[39mlow_memory:\n\u001b[1;32m--> 225\u001b[0m         chunks \u001b[38;5;241m=\u001b[39m \u001b[38;5;28;43mself\u001b[39;49m\u001b[38;5;241;43m.\u001b[39;49m\u001b[43m_reader\u001b[49m\u001b[38;5;241;43m.\u001b[39;49m\u001b[43mread_low_memory\u001b[49m\u001b[43m(\u001b[49m\u001b[43mnrows\u001b[49m\u001b[43m)\u001b[49m\n\u001b[0;32m    226\u001b[0m         \u001b[38;5;66;03m# destructive to chunks\u001b[39;00m\n\u001b[0;32m    227\u001b[0m         data \u001b[38;5;241m=\u001b[39m _concatenate_chunks(chunks)\n",
      "File \u001b[1;32mC:\\Python\\anaconda3\\envs\\corgi\\lib\\site-packages\\pandas\\_libs\\parsers.pyx:805\u001b[0m, in \u001b[0;36mpandas._libs.parsers.TextReader.read_low_memory\u001b[1;34m()\u001b[0m\n",
      "File \u001b[1;32mC:\\Python\\anaconda3\\envs\\corgi\\lib\\site-packages\\pandas\\_libs\\parsers.pyx:861\u001b[0m, in \u001b[0;36mpandas._libs.parsers.TextReader._read_rows\u001b[1;34m()\u001b[0m\n",
      "File \u001b[1;32mC:\\Python\\anaconda3\\envs\\corgi\\lib\\site-packages\\pandas\\_libs\\parsers.pyx:847\u001b[0m, in \u001b[0;36mpandas._libs.parsers.TextReader._tokenize_rows\u001b[1;34m()\u001b[0m\n",
      "File \u001b[1;32mC:\\Python\\anaconda3\\envs\\corgi\\lib\\site-packages\\pandas\\_libs\\parsers.pyx:1960\u001b[0m, in \u001b[0;36mpandas._libs.parsers.raise_parser_error\u001b[1;34m()\u001b[0m\n",
      "\u001b[1;31mParserError\u001b[0m: Error tokenizing data. C error: Expected 27 fields in line 34792, saw 32\n"
     ]
    }
   ],
   "source": [
    "filename = 'data/dataset.csv'\n",
    "\n",
    "src = pd.read_csv(filename)"
   ]
  },
  {
   "cell_type": "markdown",
   "id": "b1d8cf76-0a04-4417-9ed3-51df5621bef3",
   "metadata": {},
   "source": [
    "## Use csv.reader"
   ]
  },
  {
   "cell_type": "code",
   "execution_count": 86,
   "id": "7436b1b7-d03f-4b98-8a68-0f05d0554a37",
   "metadata": {},
   "outputs": [
    {
     "name": "stdout",
     "output_type": "stream",
     "text": [
      "(316827, 3)\n"
     ]
    },
    {
     "data": {
      "text/html": [
       "<div>\n",
       "<style scoped>\n",
       "    .dataframe tbody tr th:only-of-type {\n",
       "        vertical-align: middle;\n",
       "    }\n",
       "\n",
       "    .dataframe tbody tr th {\n",
       "        vertical-align: top;\n",
       "    }\n",
       "\n",
       "    .dataframe thead th {\n",
       "        text-align: right;\n",
       "    }\n",
       "</style>\n",
       "<table border=\"1\" class=\"dataframe\">\n",
       "  <thead>\n",
       "    <tr style=\"text-align: right;\">\n",
       "      <th></th>\n",
       "      <th>first</th>\n",
       "      <th>row</th>\n",
       "      <th>ncol</th>\n",
       "    </tr>\n",
       "  </thead>\n",
       "  <tbody>\n",
       "    <tr>\n",
       "      <th>0</th>\n",
       "      <td>id</td>\n",
       "      <td>[id, loan_amnt, term, int_rate, installment, g...</td>\n",
       "      <td>27</td>\n",
       "    </tr>\n",
       "    <tr>\n",
       "      <th>1</th>\n",
       "      <td>1</td>\n",
       "      <td>[1, 10000,  60 months, 18.55, 256.94, E, E2, S...</td>\n",
       "      <td>27</td>\n",
       "    </tr>\n",
       "    <tr>\n",
       "      <th>2</th>\n",
       "      <td>2</td>\n",
       "      <td>[2, 12250,  36 months, 11.55, 404.25, B, B3, c...</td>\n",
       "      <td>27</td>\n",
       "    </tr>\n",
       "    <tr>\n",
       "      <th>3</th>\n",
       "      <td>3</td>\n",
       "      <td>[3, 4200,  36 months, 17.77, 151.36, D, D1, MV...</td>\n",
       "      <td>27</td>\n",
       "    </tr>\n",
       "    <tr>\n",
       "      <th>4</th>\n",
       "      <td>4</td>\n",
       "      <td>[4, 6000,  36 months, 15.22, 208.64, C, C3, Co...</td>\n",
       "      <td>27</td>\n",
       "    </tr>\n",
       "  </tbody>\n",
       "</table>\n",
       "</div>"
      ],
      "text/plain": [
       "  first                                                row  ncol\n",
       "0    id  [id, loan_amnt, term, int_rate, installment, g...    27\n",
       "1     1  [1, 10000,  60 months, 18.55, 256.94, E, E2, S...    27\n",
       "2     2  [2, 12250,  36 months, 11.55, 404.25, B, B3, c...    27\n",
       "3     3  [3, 4200,  36 months, 17.77, 151.36, D, D1, MV...    27\n",
       "4     4  [4, 6000,  36 months, 15.22, 208.64, C, C3, Co...    27"
      ]
     },
     "execution_count": 86,
     "metadata": {},
     "output_type": "execute_result"
    }
   ],
   "source": [
    "filename = 'data/dataset.csv'\n",
    "\n",
    "rows = []\n",
    "firsts = []\n",
    "ncols = []\n",
    "\n",
    "# with this setting, the problems of 'newline' character embeded in address column' are handled\n",
    "with open(filename,'r',newline='') as file:\n",
    "    reader = csv.reader(file, quotechar='\"', delimiter=',',doublequote=True)#quoting=csv.QUOTE_ALL)\n",
    "    for row in reader:\n",
    "        rows.append(row)\n",
    "        firsts.append(row[0]) # for quick check of ids\n",
    "        ncols.append(len(row)) # check number parsed columns\n",
    "        \n",
    "src = pd.DataFrame({'first': firsts, 'row': rows, 'ncol' : ncols})\n",
    "print(src.shape)\n",
    "src.head()"
   ]
  },
  {
   "cell_type": "code",
   "execution_count": 87,
   "id": "8f5ab870-28c8-49c2-b95a-17f6f888872c",
   "metadata": {},
   "outputs": [
    {
     "data": {
      "text/html": [
       "<div>\n",
       "<style scoped>\n",
       "    .dataframe tbody tr th:only-of-type {\n",
       "        vertical-align: middle;\n",
       "    }\n",
       "\n",
       "    .dataframe tbody tr th {\n",
       "        vertical-align: top;\n",
       "    }\n",
       "\n",
       "    .dataframe thead th {\n",
       "        text-align: right;\n",
       "    }\n",
       "</style>\n",
       "<table border=\"1\" class=\"dataframe\">\n",
       "  <thead>\n",
       "    <tr style=\"text-align: right;\">\n",
       "      <th></th>\n",
       "      <th>first</th>\n",
       "      <th>row</th>\n",
       "      <th>ncol</th>\n",
       "    </tr>\n",
       "  </thead>\n",
       "  <tbody>\n",
       "    <tr>\n",
       "      <th>271</th>\n",
       "      <td>356</td>\n",
       "      <td>[356, 20000,  36 months, 14.33, 686.77, C, C1,...</td>\n",
       "      <td>9</td>\n",
       "    </tr>\n",
       "    <tr>\n",
       "      <th>34791</th>\n",
       "      <td>97478</td>\n",
       "      <td>[97478, 21500,  60 months, 18.25, 548.89, D, D...</td>\n",
       "      <td>32</td>\n",
       "    </tr>\n",
       "    <tr>\n",
       "      <th>78154</th>\n",
       "      <td>West Katiefort</td>\n",
       "      <td>[West Katiefort,  SD 93700\"]</td>\n",
       "      <td>2</td>\n",
       "    </tr>\n",
       "  </tbody>\n",
       "</table>\n",
       "</div>"
      ],
      "text/plain": [
       "                first                                                row  ncol\n",
       "271               356  [356, 20000,  36 months, 14.33, 686.77, C, C1,...     9\n",
       "34791           97478  [97478, 21500,  60 months, 18.25, 548.89, D, D...    32\n",
       "78154  West Katiefort                       [West Katiefort,  SD 93700\"]     2"
      ]
     },
     "execution_count": 87,
     "metadata": {},
     "output_type": "execute_result"
    }
   ],
   "source": [
    "# find rows with issues\n",
    "src[src.ncol != 27]"
   ]
  },
  {
   "cell_type": "markdown",
   "id": "ab63cfcb-467b-40f3-a115-3efb370f0d3e",
   "metadata": {},
   "source": [
    "And this row's address seems to have problem. Just before 78154"
   ]
  },
  {
   "cell_type": "code",
   "execution_count": 88,
   "id": "17a03978-64a2-40c7-89f2-8a28dfd57315",
   "metadata": {},
   "outputs": [
    {
     "data": {
      "text/plain": [
       "['54313',\n",
       " '9000',\n",
       " ' 36 months',\n",
       " '7.49',\n",
       " '279.92',\n",
       " 'A',\n",
       " 'A4',\n",
       " 'friendship center golf cars',\n",
       " '4 years',\n",
       " 'RENT',\n",
       " '40000.0',\n",
       " 'Not Verified',\n",
       " 'Fully Paid',\n",
       " 'debt_consolidation',\n",
       " 'personal loan',\n",
       " '22.41',\n",
       " 'Apr-2000',\n",
       " '15',\n",
       " '0',\n",
       " '13414',\n",
       " '21.9',\n",
       " '29',\n",
       " 'f',\n",
       " 'INDIVIDUAL',\n",
       " '',\n",
       " '0.0',\n",
       " '49842 Deanna Street Apt. 820\\r\\nNorth Deborah, Mn,Debt consolidation,37.1,Sep-2004,24,0,5293,8.4,53,w,INDIVIDUAL,4.0,0.0,49778 Nancy Lake Apt. 783']"
      ]
     },
     "execution_count": 88,
     "metadata": {},
     "output_type": "execute_result"
    }
   ],
   "source": [
    "src.iloc[78153].row"
   ]
  },
  {
   "cell_type": "markdown",
   "id": "6994a091-9e3a-43c8-b399-c6b0209606c2",
   "metadata": {},
   "source": [
    "## Exclude problematic records"
   ]
  },
  {
   "cell_type": "code",
   "execution_count": 89,
   "id": "447f80fc-89cb-492e-9726-be9741d8e1c0",
   "metadata": {},
   "outputs": [
    {
     "data": {
      "text/plain": [
       "(316822, 27)"
      ]
     },
     "execution_count": 89,
     "metadata": {},
     "output_type": "execute_result"
    }
   ],
   "source": [
    "col_names = src.iloc[0,1]\n",
    "exclude_rec_no = [0, 271, 34791, 78153, 78154]\n",
    "df = pd.DataFrame(temp.loc[~src.index.isin(exclude_rec_no), 'row'].tolist(), columns=col_names)\n",
    "df.shape"
   ]
  },
  {
   "cell_type": "code",
   "execution_count": 90,
   "id": "367c7fc5-b5c1-4ec1-a3e8-00e1743f1d18",
   "metadata": {},
   "outputs": [
    {
     "data": {
      "text/html": [
       "<div>\n",
       "<style scoped>\n",
       "    .dataframe tbody tr th:only-of-type {\n",
       "        vertical-align: middle;\n",
       "    }\n",
       "\n",
       "    .dataframe tbody tr th {\n",
       "        vertical-align: top;\n",
       "    }\n",
       "\n",
       "    .dataframe thead th {\n",
       "        text-align: right;\n",
       "    }\n",
       "</style>\n",
       "<table border=\"1\" class=\"dataframe\">\n",
       "  <thead>\n",
       "    <tr style=\"text-align: right;\">\n",
       "      <th></th>\n",
       "      <th>id</th>\n",
       "      <th>loan_amnt</th>\n",
       "      <th>term</th>\n",
       "      <th>int_rate</th>\n",
       "      <th>installment</th>\n",
       "      <th>grade</th>\n",
       "      <th>sub_grade</th>\n",
       "      <th>emp_title</th>\n",
       "      <th>emp_length</th>\n",
       "      <th>home_ownership</th>\n",
       "      <th>...</th>\n",
       "      <th>open_acc</th>\n",
       "      <th>pub_rec</th>\n",
       "      <th>revol_bal</th>\n",
       "      <th>revol_util</th>\n",
       "      <th>total_acc</th>\n",
       "      <th>initial_list_status</th>\n",
       "      <th>application_type</th>\n",
       "      <th>mort_acc</th>\n",
       "      <th>pub_rec_bankruptcies</th>\n",
       "      <th>address</th>\n",
       "    </tr>\n",
       "  </thead>\n",
       "  <tbody>\n",
       "    <tr>\n",
       "      <th>0</th>\n",
       "      <td>1</td>\n",
       "      <td>10000</td>\n",
       "      <td>60 months</td>\n",
       "      <td>18.55</td>\n",
       "      <td>256.94</td>\n",
       "      <td>E</td>\n",
       "      <td>E2</td>\n",
       "      <td>Sr. Director OF Marketing &amp; Business Dev</td>\n",
       "      <td>5 years</td>\n",
       "      <td>MORTGAGE</td>\n",
       "      <td>...</td>\n",
       "      <td>16</td>\n",
       "      <td>0</td>\n",
       "      <td>151198</td>\n",
       "      <td>92.4</td>\n",
       "      <td>31</td>\n",
       "      <td>f</td>\n",
       "      <td>INDIVIDUAL</td>\n",
       "      <td>3.0</td>\n",
       "      <td>0.0</td>\n",
       "      <td>257 Smith Circles Apt. 186\\r\\nWilsonland, NH 1...</td>\n",
       "    </tr>\n",
       "    <tr>\n",
       "      <th>1</th>\n",
       "      <td>2</td>\n",
       "      <td>12250</td>\n",
       "      <td>36 months</td>\n",
       "      <td>11.55</td>\n",
       "      <td>404.25</td>\n",
       "      <td>B</td>\n",
       "      <td>B3</td>\n",
       "      <td>clearwater towing</td>\n",
       "      <td>2 years</td>\n",
       "      <td>OWN</td>\n",
       "      <td>...</td>\n",
       "      <td>8</td>\n",
       "      <td>0</td>\n",
       "      <td>16125</td>\n",
       "      <td>79.4</td>\n",
       "      <td>16</td>\n",
       "      <td>f</td>\n",
       "      <td>INDIVIDUAL</td>\n",
       "      <td>0.0</td>\n",
       "      <td>0.0</td>\n",
       "      <td>632 Villanueva View\\r\\nLawrencechester, NM 00813</td>\n",
       "    </tr>\n",
       "    <tr>\n",
       "      <th>2</th>\n",
       "      <td>3</td>\n",
       "      <td>4200</td>\n",
       "      <td>36 months</td>\n",
       "      <td>17.77</td>\n",
       "      <td>151.36</td>\n",
       "      <td>D</td>\n",
       "      <td>D1</td>\n",
       "      <td>MV Transportation</td>\n",
       "      <td>4 years</td>\n",
       "      <td>RENT</td>\n",
       "      <td>...</td>\n",
       "      <td>6</td>\n",
       "      <td>0</td>\n",
       "      <td>9525</td>\n",
       "      <td>73.8</td>\n",
       "      <td>7</td>\n",
       "      <td>f</td>\n",
       "      <td>INDIVIDUAL</td>\n",
       "      <td>0.0</td>\n",
       "      <td>0.0</td>\n",
       "      <td>612 Gillespie Island\\r\\nDavisside, KY 93700</td>\n",
       "    </tr>\n",
       "    <tr>\n",
       "      <th>3</th>\n",
       "      <td>4</td>\n",
       "      <td>6000</td>\n",
       "      <td>36 months</td>\n",
       "      <td>15.22</td>\n",
       "      <td>208.64</td>\n",
       "      <td>C</td>\n",
       "      <td>C3</td>\n",
       "      <td>County of Santa Clara</td>\n",
       "      <td>10+ years</td>\n",
       "      <td>RENT</td>\n",
       "      <td>...</td>\n",
       "      <td>9</td>\n",
       "      <td>0</td>\n",
       "      <td>12832</td>\n",
       "      <td>82.8</td>\n",
       "      <td>16</td>\n",
       "      <td>w</td>\n",
       "      <td>INDIVIDUAL</td>\n",
       "      <td>0.0</td>\n",
       "      <td>0.0</td>\n",
       "      <td>781 Jessica Trail\\r\\nRyanton, FL 05113</td>\n",
       "    </tr>\n",
       "    <tr>\n",
       "      <th>4</th>\n",
       "      <td>5</td>\n",
       "      <td>16200</td>\n",
       "      <td>36 months</td>\n",
       "      <td>10.16</td>\n",
       "      <td>523.95</td>\n",
       "      <td>B</td>\n",
       "      <td>B1</td>\n",
       "      <td>Memorial Hermann</td>\n",
       "      <td>&lt; 1 year</td>\n",
       "      <td>MORTGAGE</td>\n",
       "      <td>...</td>\n",
       "      <td>8</td>\n",
       "      <td>0</td>\n",
       "      <td>27084</td>\n",
       "      <td>71.7</td>\n",
       "      <td>24</td>\n",
       "      <td>f</td>\n",
       "      <td>INDIVIDUAL</td>\n",
       "      <td>4.0</td>\n",
       "      <td>0.0</td>\n",
       "      <td>261 Ashley Knolls\\r\\nNew Victor, CO 70466</td>\n",
       "    </tr>\n",
       "  </tbody>\n",
       "</table>\n",
       "<p>5 rows × 27 columns</p>\n",
       "</div>"
      ],
      "text/plain": [
       "  id loan_amnt        term int_rate installment grade sub_grade  \\\n",
       "0  1     10000   60 months    18.55      256.94     E        E2   \n",
       "1  2     12250   36 months    11.55      404.25     B        B3   \n",
       "2  3      4200   36 months    17.77      151.36     D        D1   \n",
       "3  4      6000   36 months    15.22      208.64     C        C3   \n",
       "4  5     16200   36 months    10.16      523.95     B        B1   \n",
       "\n",
       "                                  emp_title emp_length home_ownership  ...  \\\n",
       "0  Sr. Director OF Marketing & Business Dev    5 years       MORTGAGE  ...   \n",
       "1                         clearwater towing    2 years            OWN  ...   \n",
       "2                         MV Transportation    4 years           RENT  ...   \n",
       "3                     County of Santa Clara  10+ years           RENT  ...   \n",
       "4                          Memorial Hermann   < 1 year       MORTGAGE  ...   \n",
       "\n",
       "  open_acc pub_rec revol_bal revol_util total_acc initial_list_status  \\\n",
       "0       16       0    151198       92.4        31                   f   \n",
       "1        8       0     16125       79.4        16                   f   \n",
       "2        6       0      9525       73.8         7                   f   \n",
       "3        9       0     12832       82.8        16                   w   \n",
       "4        8       0     27084       71.7        24                   f   \n",
       "\n",
       "  application_type mort_acc pub_rec_bankruptcies  \\\n",
       "0       INDIVIDUAL      3.0                  0.0   \n",
       "1       INDIVIDUAL      0.0                  0.0   \n",
       "2       INDIVIDUAL      0.0                  0.0   \n",
       "3       INDIVIDUAL      0.0                  0.0   \n",
       "4       INDIVIDUAL      4.0                  0.0   \n",
       "\n",
       "                                             address  \n",
       "0  257 Smith Circles Apt. 186\\r\\nWilsonland, NH 1...  \n",
       "1   632 Villanueva View\\r\\nLawrencechester, NM 00813  \n",
       "2        612 Gillespie Island\\r\\nDavisside, KY 93700  \n",
       "3             781 Jessica Trail\\r\\nRyanton, FL 05113  \n",
       "4          261 Ashley Knolls\\r\\nNew Victor, CO 70466  \n",
       "\n",
       "[5 rows x 27 columns]"
      ]
     },
     "execution_count": 90,
     "metadata": {},
     "output_type": "execute_result"
    }
   ],
   "source": [
    "df.head()"
   ]
  },
  {
   "cell_type": "code",
   "execution_count": 92,
   "id": "d214507a-5b7d-4109-9963-996ec286698c",
   "metadata": {},
   "outputs": [],
   "source": [
    "df.to_csv('data/00_dataset_cleansed.csv', index=False)"
   ]
  },
  {
   "cell_type": "code",
   "execution_count": 93,
   "id": "8c045440-19eb-4944-9df2-5a2ff6d40682",
   "metadata": {},
   "outputs": [
    {
     "name": "stdout",
     "output_type": "stream",
     "text": [
      "(316822, 27)\n",
      "<class 'pandas.core.frame.DataFrame'>\n",
      "RangeIndex: 316822 entries, 0 to 316821\n",
      "Data columns (total 27 columns):\n",
      " #   Column                Non-Null Count   Dtype  \n",
      "---  ------                --------------   -----  \n",
      " 0   id                    316822 non-null  int64  \n",
      " 1   loan_amnt             316822 non-null  int64  \n",
      " 2   term                  316822 non-null  object \n",
      " 3   int_rate              316822 non-null  float64\n",
      " 4   installment           316822 non-null  float64\n",
      " 5   grade                 316822 non-null  object \n",
      " 6   sub_grade             316822 non-null  object \n",
      " 7   emp_title             298748 non-null  object \n",
      " 8   emp_length            302489 non-null  object \n",
      " 9   home_ownership        316822 non-null  object \n",
      " 10  annual_inc            316822 non-null  float64\n",
      " 11  verification_status   316822 non-null  object \n",
      " 12  loan_status           316822 non-null  object \n",
      " 13  purpose               316822 non-null  object \n",
      " 14  title                 315430 non-null  object \n",
      " 15  dti                   316822 non-null  float64\n",
      " 16  earliest_cr_line      316822 non-null  object \n",
      " 17  open_acc              316822 non-null  int64  \n",
      " 18  pub_rec               316822 non-null  int64  \n",
      " 19  revol_bal             316822 non-null  int64  \n",
      " 20  revol_util            316601 non-null  float64\n",
      " 21  total_acc             316822 non-null  int64  \n",
      " 22  initial_list_status   316822 non-null  object \n",
      " 23  application_type      316822 non-null  object \n",
      " 24  mort_acc              286039 non-null  float64\n",
      " 25  pub_rec_bankruptcies  316389 non-null  float64\n",
      " 26  address               316822 non-null  object \n",
      "dtypes: float64(7), int64(6), object(14)\n",
      "memory usage: 65.3+ MB\n"
     ]
    }
   ],
   "source": [
    "# test reading\n",
    "src = pd.read_csv('data/00_dataset_cleansed.csv')\n",
    "print(src.shape)\n",
    "src.info()"
   ]
  },
  {
   "cell_type": "code",
   "execution_count": null,
   "id": "94dd1379-38ed-4792-ad6d-cdcfb288793f",
   "metadata": {},
   "outputs": [],
   "source": []
  }
 ],
 "metadata": {
  "kernelspec": {
   "display_name": "Python 3 (ipykernel)",
   "language": "python",
   "name": "python3"
  },
  "language_info": {
   "codemirror_mode": {
    "name": "ipython",
    "version": 3
   },
   "file_extension": ".py",
   "mimetype": "text/x-python",
   "name": "python",
   "nbconvert_exporter": "python",
   "pygments_lexer": "ipython3",
   "version": "3.9.12"
  }
 },
 "nbformat": 4,
 "nbformat_minor": 5
}
