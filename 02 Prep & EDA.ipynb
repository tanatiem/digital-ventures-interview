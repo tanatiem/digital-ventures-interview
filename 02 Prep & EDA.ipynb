{
 "cells": [
  {
   "cell_type": "markdown",
   "id": "1ab0d063-25b4-42fc-ab14-aef7ff877600",
   "metadata": {},
   "source": [
    "# Data Prep & EDA"
   ]
  },
  {
   "cell_type": "code",
   "execution_count": 1,
   "id": "569affc5-e5b4-4128-8216-602e64fc0c22",
   "metadata": {},
   "outputs": [],
   "source": [
    "import numpy as np\n",
    "import pandas as pd\n",
    "import matplotlib.pyplot as plt\n",
    "import seaborn as sns"
   ]
  },
  {
   "cell_type": "code",
   "execution_count": 284,
   "id": "78b54723-bdf1-4773-82ac-4d58b139c21a",
   "metadata": {},
   "outputs": [
    {
     "name": "stdout",
     "output_type": "stream",
     "text": [
      "(316821, 27)\n",
      "<class 'pandas.core.frame.DataFrame'>\n",
      "Int64Index: 316821 entries, 0 to 316821\n",
      "Data columns (total 27 columns):\n",
      " #   Column                Non-Null Count   Dtype         \n",
      "---  ------                --------------   -----         \n",
      " 0   id                    316821 non-null  object        \n",
      " 1   loan_amnt             316821 non-null  int32         \n",
      " 2   term                  316821 non-null  object        \n",
      " 3   int_rate              316821 non-null  float64       \n",
      " 4   installment           316821 non-null  float64       \n",
      " 5   grade                 316821 non-null  object        \n",
      " 6   sub_grade             316821 non-null  object        \n",
      " 7   emp_title             316821 non-null  object        \n",
      " 8   emp_length            316821 non-null  object        \n",
      " 9   home_ownership        316821 non-null  object        \n",
      " 10  annual_inc            316821 non-null  float64       \n",
      " 11  verification_status   316821 non-null  object        \n",
      " 12  loan_status           316821 non-null  object        \n",
      " 13  purpose               316821 non-null  object        \n",
      " 14  title                 316821 non-null  object        \n",
      " 15  dti                   316821 non-null  float64       \n",
      " 16  earliest_cr_line      316821 non-null  datetime64[ns]\n",
      " 17  open_acc              316821 non-null  int32         \n",
      " 18  pub_rec               316821 non-null  int32         \n",
      " 19  revol_bal             316821 non-null  int32         \n",
      " 20  revol_util            316600 non-null  float64       \n",
      " 21  total_acc             316821 non-null  int32         \n",
      " 22  initial_list_status   316821 non-null  object        \n",
      " 23  application_type      316821 non-null  object        \n",
      " 24  mort_acc              286038 non-null  float64       \n",
      " 25  pub_rec_bankruptcies  316388 non-null  float64       \n",
      " 26  address               316821 non-null  object        \n",
      "dtypes: datetime64[ns](1), float64(7), int32(5), object(14)\n",
      "memory usage: 61.6+ MB\n"
     ]
    }
   ],
   "source": [
    "# df = pd.read_parquet('data/01_cleansed.parquet')\n",
    "df = pd.read_pickle('data/01_cleansed.pkl')\n",
    "print(df.shape)\n",
    "df.info()"
   ]
  },
  {
   "cell_type": "code",
   "execution_count": 285,
   "id": "d3b73738-7bdf-4a26-ab60-aac837bc10cf",
   "metadata": {},
   "outputs": [
    {
     "data": {
      "text/plain": [
       "mort_acc                9.716212\n",
       "pub_rec_bankruptcies    0.136670\n",
       "revol_util              0.069755\n",
       "id                      0.000000\n",
       "title                   0.000000\n",
       "application_type        0.000000\n",
       "initial_list_status     0.000000\n",
       "total_acc               0.000000\n",
       "revol_bal               0.000000\n",
       "pub_rec                 0.000000\n",
       "open_acc                0.000000\n",
       "earliest_cr_line        0.000000\n",
       "dti                     0.000000\n",
       "purpose                 0.000000\n",
       "loan_amnt               0.000000\n",
       "loan_status             0.000000\n",
       "verification_status     0.000000\n",
       "annual_inc              0.000000\n",
       "home_ownership          0.000000\n",
       "emp_length              0.000000\n",
       "emp_title               0.000000\n",
       "sub_grade               0.000000\n",
       "grade                   0.000000\n",
       "installment             0.000000\n",
       "int_rate                0.000000\n",
       "term                    0.000000\n",
       "address                 0.000000\n",
       "dtype: float64"
      ]
     },
     "execution_count": 285,
     "metadata": {},
     "output_type": "execute_result"
    }
   ],
   "source": [
    "df.isnull().mean().sort_values(ascending=False)*100"
   ]
  },
  {
   "cell_type": "code",
   "execution_count": 286,
   "id": "491dc66f-ec70-4013-ad2a-19fb8aee1b6d",
   "metadata": {},
   "outputs": [],
   "source": [
    "# Helper to see cross tab with categorical/discrete variable against the target\n",
    "def crosstab_target(df, col):\n",
    "    target_col = 'loan_status'\n",
    "    data = pd.crosstab(df[col],df[target_col], margins=True)\n",
    "    data['pct_0'] = data['Charged Off'] / data['All'] * 100\n",
    "    data['pct_1'] = data['Fully Paid'] / data['All'] * 100\n",
    "    return data"
   ]
  },
  {
   "cell_type": "markdown",
   "id": "b4423362-9963-4312-a3a5-c584c9e5b316",
   "metadata": {},
   "source": [
    "# Numerical Features\n",
    "\n",
    "This part will go through numerical features with EDA + Preprocessing.\n",
    "EDA is combined here for the sake of handling features properly."
   ]
  },
  {
   "cell_type": "markdown",
   "id": "271cb8ad-bd44-4a45-bf18-6f2005a84dea",
   "metadata": {},
   "source": [
    "## loan_amnt"
   ]
  },
  {
   "cell_type": "code",
   "execution_count": 287,
   "id": "1dcab9c1-149d-4ca7-9a83-d89ce998eae3",
   "metadata": {},
   "outputs": [
    {
     "data": {
      "text/html": [
       "<div>\n",
       "<style scoped>\n",
       "    .dataframe tbody tr th:only-of-type {\n",
       "        vertical-align: middle;\n",
       "    }\n",
       "\n",
       "    .dataframe tbody tr th {\n",
       "        vertical-align: top;\n",
       "    }\n",
       "\n",
       "    .dataframe thead th {\n",
       "        text-align: right;\n",
       "    }\n",
       "</style>\n",
       "<table border=\"1\" class=\"dataframe\">\n",
       "  <thead>\n",
       "    <tr style=\"text-align: right;\">\n",
       "      <th></th>\n",
       "      <th>count</th>\n",
       "      <th>mean</th>\n",
       "      <th>std</th>\n",
       "      <th>min</th>\n",
       "      <th>25%</th>\n",
       "      <th>50%</th>\n",
       "      <th>75%</th>\n",
       "      <th>max</th>\n",
       "    </tr>\n",
       "  </thead>\n",
       "  <tbody>\n",
       "    <tr>\n",
       "      <th>loan_amnt</th>\n",
       "      <td>316821.0</td>\n",
       "      <td>14070.782555</td>\n",
       "      <td>8342.495955</td>\n",
       "      <td>500.0</td>\n",
       "      <td>7925.0</td>\n",
       "      <td>12000.0</td>\n",
       "      <td>20000.0</td>\n",
       "      <td>40000.0</td>\n",
       "    </tr>\n",
       "  </tbody>\n",
       "</table>\n",
       "</div>"
      ],
      "text/plain": [
       "              count          mean          std    min     25%      50%  \\\n",
       "loan_amnt  316821.0  14070.782555  8342.495955  500.0  7925.0  12000.0   \n",
       "\n",
       "               75%      max  \n",
       "loan_amnt  20000.0  40000.0  "
      ]
     },
     "metadata": {},
     "output_type": "display_data"
    },
    {
     "data": {
      "image/png": "[encoded data removed]",
      "text/plain": [
       "<Figure size 864x288 with 2 Axes>"
      ]
     },
     "metadata": {
      "needs_background": "light"
     },
     "output_type": "display_data"
    }
   ],
   "source": [
    "col = 'loan_amnt'\n",
    "display(df[col].describe().to_frame().T)\n",
    "fig, ax = plt.subplots(1,2, figsize=(12,4), tight_layout=True)\n",
    "sns.histplot(data=df, x=col, bins=25, ax=ax[0])\n",
    "sns.boxenplot(data=df, x=col, y='loan_status', orient='h', ax=ax[1]);\n",
    "plt.show()"
   ]
  },
  {
   "cell_type": "markdown",
   "id": "884ade8b-dd21-4168-8a37-5760d598bf59",
   "metadata": {},
   "source": [
    "## int_rate"
   ]
  },
  {
   "cell_type": "code",
   "execution_count": 288,
   "id": "f429eb32-7266-4e5a-bcb7-8ae4dc064fc8",
   "metadata": {},
   "outputs": [
    {
     "data": {
      "text/html": [
       "<div>\n",
       "<style scoped>\n",
       "    .dataframe tbody tr th:only-of-type {\n",
       "        vertical-align: middle;\n",
       "    }\n",
       "\n",
       "    .dataframe tbody tr th {\n",
       "        vertical-align: top;\n",
       "    }\n",
       "\n",
       "    .dataframe thead th {\n",
       "        text-align: right;\n",
       "    }\n",
       "</style>\n",
       "<table border=\"1\" class=\"dataframe\">\n",
       "  <thead>\n",
       "    <tr style=\"text-align: right;\">\n",
       "      <th></th>\n",
       "      <th>count</th>\n",
       "      <th>mean</th>\n",
       "      <th>std</th>\n",
       "      <th>min</th>\n",
       "      <th>25%</th>\n",
       "      <th>50%</th>\n",
       "      <th>75%</th>\n",
       "      <th>max</th>\n",
       "    </tr>\n",
       "  </thead>\n",
       "  <tbody>\n",
       "    <tr>\n",
       "      <th>int_rate</th>\n",
       "      <td>316821.0</td>\n",
       "      <td>13.530403</td>\n",
       "      <td>4.44556</td>\n",
       "      <td>5.32</td>\n",
       "      <td>10.16</td>\n",
       "      <td>13.11</td>\n",
       "      <td>16.29</td>\n",
       "      <td>30.99</td>\n",
       "    </tr>\n",
       "  </tbody>\n",
       "</table>\n",
       "</div>"
      ],
      "text/plain": [
       "             count       mean      std   min    25%    50%    75%    max\n",
       "int_rate  316821.0  13.530403  4.44556  5.32  10.16  13.11  16.29  30.99"
      ]
     },
     "metadata": {},
     "output_type": "display_data"
    },
    {
     "data": {
      "image/png": "[encoded data removed]",
      "text/plain": [
       "<Figure size 864x288 with 2 Axes>"
      ]
     },
     "metadata": {
      "needs_background": "light"
     },
     "output_type": "display_data"
    }
   ],
   "source": [
    "col = 'int_rate'\n",
    "display(df[col].describe().to_frame().T)\n",
    "fig, ax = plt.subplots(1,2, figsize=(12,4), tight_layout=True)\n",
    "sns.histplot(data=df, x=col, bins=25, ax=ax[0])\n",
    "sns.boxenplot(data=df, x=col, y='loan_status', orient='h', ax=ax[1]);\n",
    "plt.show()"
   ]
  },
  {
   "cell_type": "markdown",
   "id": "8c7f39fa-fd35-47e7-a907-b90886c1a76f",
   "metadata": {
    "tags": []
   },
   "source": [
    "## installment"
   ]
  },
  {
   "cell_type": "code",
   "execution_count": 289,
   "id": "37617f0d-48a3-4549-b8ef-6bff14a73b29",
   "metadata": {},
   "outputs": [
    {
     "data": {
      "text/html": [
       "<div>\n",
       "<style scoped>\n",
       "    .dataframe tbody tr th:only-of-type {\n",
       "        vertical-align: middle;\n",
       "    }\n",
       "\n",
       "    .dataframe tbody tr th {\n",
       "        vertical-align: top;\n",
       "    }\n",
       "\n",
       "    .dataframe thead th {\n",
       "        text-align: right;\n",
       "    }\n",
       "</style>\n",
       "<table border=\"1\" class=\"dataframe\">\n",
       "  <thead>\n",
       "    <tr style=\"text-align: right;\">\n",
       "      <th></th>\n",
       "      <th>count</th>\n",
       "      <th>mean</th>\n",
       "      <th>std</th>\n",
       "      <th>min</th>\n",
       "      <th>25%</th>\n",
       "      <th>50%</th>\n",
       "      <th>75%</th>\n",
       "      <th>max</th>\n",
       "    </tr>\n",
       "  </thead>\n",
       "  <tbody>\n",
       "    <tr>\n",
       "      <th>installment</th>\n",
       "      <td>316821.0</td>\n",
       "      <td>431.057841</td>\n",
       "      <td>250.691557</td>\n",
       "      <td>16.08</td>\n",
       "      <td>249.55</td>\n",
       "      <td>374.92</td>\n",
       "      <td>566.44</td>\n",
       "      <td>1533.81</td>\n",
       "    </tr>\n",
       "  </tbody>\n",
       "</table>\n",
       "</div>"
      ],
      "text/plain": [
       "                count        mean         std    min     25%     50%     75%  \\\n",
       "installment  316821.0  431.057841  250.691557  16.08  249.55  374.92  566.44   \n",
       "\n",
       "                 max  \n",
       "installment  1533.81  "
      ]
     },
     "metadata": {},
     "output_type": "display_data"
    },
    {
     "data": {
      "image/png": "[encoded data removed]",
      "text/plain": [
       "<Figure size 864x288 with 2 Axes>"
      ]
     },
     "metadata": {
      "needs_background": "light"
     },
     "output_type": "display_data"
    }
   ],
   "source": [
    "col = 'installment'\n",
    "display(df[col].describe().to_frame().T)\n",
    "fig, ax = plt.subplots(1,2, figsize=(12,4), tight_layout=True)\n",
    "sns.histplot(data=df, x=col, bins=25, ax=ax[0])\n",
    "sns.boxenplot(data=df, x=col, y='loan_status', orient='h', ax=ax[1]);\n",
    "plt.show()"
   ]
  },
  {
   "cell_type": "code",
   "execution_count": 290,
   "id": "bc9837e8-e64b-4adb-bcd7-3888f4fb5c21",
   "metadata": {},
   "outputs": [
    {
     "data": {
      "text/html": [
       "<div>\n",
       "<style scoped>\n",
       "    .dataframe tbody tr th:only-of-type {\n",
       "        vertical-align: middle;\n",
       "    }\n",
       "\n",
       "    .dataframe tbody tr th {\n",
       "        vertical-align: top;\n",
       "    }\n",
       "\n",
       "    .dataframe thead th {\n",
       "        text-align: right;\n",
       "    }\n",
       "</style>\n",
       "<table border=\"1\" class=\"dataframe\">\n",
       "  <thead>\n",
       "    <tr style=\"text-align: right;\">\n",
       "      <th></th>\n",
       "      <th>loan_amnt</th>\n",
       "      <th>int_rate</th>\n",
       "      <th>installment</th>\n",
       "    </tr>\n",
       "  </thead>\n",
       "  <tbody>\n",
       "    <tr>\n",
       "      <th>loan_amnt</th>\n",
       "      <td>1.000000</td>\n",
       "      <td>0.164745</td>\n",
       "      <td>0.954423</td>\n",
       "    </tr>\n",
       "    <tr>\n",
       "      <th>int_rate</th>\n",
       "      <td>0.164745</td>\n",
       "      <td>1.000000</td>\n",
       "      <td>0.159186</td>\n",
       "    </tr>\n",
       "    <tr>\n",
       "      <th>installment</th>\n",
       "      <td>0.954423</td>\n",
       "      <td>0.159186</td>\n",
       "      <td>1.000000</td>\n",
       "    </tr>\n",
       "  </tbody>\n",
       "</table>\n",
       "</div>"
      ],
      "text/plain": [
       "             loan_amnt  int_rate  installment\n",
       "loan_amnt     1.000000  0.164745     0.954423\n",
       "int_rate      0.164745  1.000000     0.159186\n",
       "installment   0.954423  0.159186     1.000000"
      ]
     },
     "execution_count": 290,
     "metadata": {},
     "output_type": "execute_result"
    }
   ],
   "source": [
    "df[['loan_amnt','int_rate','installment']].corr()"
   ]
  },
  {
   "cell_type": "markdown",
   "id": "52495744-7185-4c29-be76-0beceb40db09",
   "metadata": {},
   "source": [
    "We may choose to drop installment later, since it highly correlates with loan_amnt."
   ]
  },
  {
   "cell_type": "markdown",
   "id": "cb58616d-bc1f-459f-bcfd-7c4c134e8544",
   "metadata": {},
   "source": [
    "## annual_inc"
   ]
  },
  {
   "cell_type": "code",
   "execution_count": 291,
   "id": "250b9a1a-5121-4cd5-8427-a1053ebe58b9",
   "metadata": {},
   "outputs": [
    {
     "data": {
      "text/html": [
       "<div>\n",
       "<style scoped>\n",
       "    .dataframe tbody tr th:only-of-type {\n",
       "        vertical-align: middle;\n",
       "    }\n",
       "\n",
       "    .dataframe tbody tr th {\n",
       "        vertical-align: top;\n",
       "    }\n",
       "\n",
       "    .dataframe thead th {\n",
       "        text-align: right;\n",
       "    }\n",
       "</style>\n",
       "<table border=\"1\" class=\"dataframe\">\n",
       "  <thead>\n",
       "    <tr style=\"text-align: right;\">\n",
       "      <th></th>\n",
       "      <th>count</th>\n",
       "      <th>mean</th>\n",
       "      <th>std</th>\n",
       "      <th>min</th>\n",
       "      <th>25%</th>\n",
       "      <th>50%</th>\n",
       "      <th>75%</th>\n",
       "      <th>max</th>\n",
       "    </tr>\n",
       "  </thead>\n",
       "  <tbody>\n",
       "    <tr>\n",
       "      <th>annual_inc</th>\n",
       "      <td>316821.0</td>\n",
       "      <td>74531.93796</td>\n",
       "      <td>62890.049203</td>\n",
       "      <td>600.0</td>\n",
       "      <td>45000.0</td>\n",
       "      <td>64500.0</td>\n",
       "      <td>90000.0</td>\n",
       "      <td>8706582.0</td>\n",
       "    </tr>\n",
       "  </tbody>\n",
       "</table>\n",
       "</div>"
      ],
      "text/plain": [
       "               count         mean           std    min      25%      50%  \\\n",
       "annual_inc  316821.0  74531.93796  62890.049203  600.0  45000.0  64500.0   \n",
       "\n",
       "                75%        max  \n",
       "annual_inc  90000.0  8706582.0  "
      ]
     },
     "metadata": {},
     "output_type": "display_data"
    },
    {
     "data": {
      "image/png": "[encoded data removed]",
      "text/plain": [
       "<Figure size 1152x288 with 3 Axes>"
      ]
     },
     "metadata": {
      "needs_background": "light"
     },
     "output_type": "display_data"
    }
   ],
   "source": [
    "col = 'annual_inc'\n",
    "display(df[col].describe().to_frame().T)\n",
    "fig, ax = plt.subplots(1, 3, figsize=(16,4), tight_layout=True)\n",
    "sns.histplot(data=df, x=col, bins=25, ax=ax[0])\n",
    "sns.histplot(np.log(df[col]+.001), bins=25, ax=ax[1]);\n",
    "sns.boxenplot(data=df, x=col, y='loan_status', orient='h', ax=ax[2])\n",
    "ax[2].set_xscale('log')\n",
    "plt.show()"
   ]
  },
  {
   "cell_type": "markdown",
   "id": "0e91b2e9-7d81-4c19-b5a9-4be0cd2213a5",
   "metadata": {},
   "source": [
    "### annual_inc_adj\n",
    "Handle outliers"
   ]
  },
  {
   "cell_type": "code",
   "execution_count": 292,
   "id": "740fd4e1-5e8e-4376-927d-853946b191d5",
   "metadata": {},
   "outputs": [
    {
     "name": "stdout",
     "output_type": "stream",
     "text": [
      "annual_inc outlier threshold: 263202.08556788415\n"
     ]
    }
   ],
   "source": [
    "threshold = df.annual_inc.mean() + df.annual_inc.std()*3\n",
    "print(f\"annual_inc outlier threshold: {threshold}\")\n",
    "df['annual_inc_adj'] = df.annual_inc.apply(lambda x: x if x < threshold else threshold)"
   ]
  },
  {
   "cell_type": "markdown",
   "id": "4f8cdad5-9dc9-498c-a88f-7f8da56c76d8",
   "metadata": {},
   "source": [
    "### annual_inc_q\n",
    "Quantile cut `q=10`"
   ]
  },
  {
   "cell_type": "code",
   "execution_count": 293,
   "id": "24d9c3da-4885-441b-99e9-85aada1ec038",
   "metadata": {},
   "outputs": [
    {
     "data": {
      "text/html": [
       "<div>\n",
       "<style scoped>\n",
       "    .dataframe tbody tr th:only-of-type {\n",
       "        vertical-align: middle;\n",
       "    }\n",
       "\n",
       "    .dataframe tbody tr th {\n",
       "        vertical-align: top;\n",
       "    }\n",
       "\n",
       "    .dataframe thead th {\n",
       "        text-align: right;\n",
       "    }\n",
       "</style>\n",
       "<table border=\"1\" class=\"dataframe\">\n",
       "  <thead>\n",
       "    <tr style=\"text-align: right;\">\n",
       "      <th>loan_status</th>\n",
       "      <th>Charged Off</th>\n",
       "      <th>Fully Paid</th>\n",
       "      <th>All</th>\n",
       "      <th>pct_0</th>\n",
       "      <th>pct_1</th>\n",
       "    </tr>\n",
       "    <tr>\n",
       "      <th>annual_inc_q</th>\n",
       "      <th></th>\n",
       "      <th></th>\n",
       "      <th></th>\n",
       "      <th></th>\n",
       "      <th></th>\n",
       "    </tr>\n",
       "  </thead>\n",
       "  <tbody>\n",
       "    <tr>\n",
       "      <th>(599.999, 34000.0]</th>\n",
       "      <td>6511</td>\n",
       "      <td>25174</td>\n",
       "      <td>31685</td>\n",
       "      <td>20.549156</td>\n",
       "      <td>79.450844</td>\n",
       "    </tr>\n",
       "    <tr>\n",
       "      <th>(34000.0, 42000.0]</th>\n",
       "      <td>6467</td>\n",
       "      <td>27500</td>\n",
       "      <td>33967</td>\n",
       "      <td>19.039067</td>\n",
       "      <td>80.960933</td>\n",
       "    </tr>\n",
       "    <tr>\n",
       "      <th>(42000.0, 50000.0]</th>\n",
       "      <td>6779</td>\n",
       "      <td>31333</td>\n",
       "      <td>38112</td>\n",
       "      <td>17.787049</td>\n",
       "      <td>82.212951</td>\n",
       "    </tr>\n",
       "    <tr>\n",
       "      <th>(50000.0, 56000.0]</th>\n",
       "      <td>4123</td>\n",
       "      <td>20328</td>\n",
       "      <td>24451</td>\n",
       "      <td>16.862296</td>\n",
       "      <td>83.137704</td>\n",
       "    </tr>\n",
       "    <tr>\n",
       "      <th>(56000.0, 64500.0]</th>\n",
       "      <td>4899</td>\n",
       "      <td>25371</td>\n",
       "      <td>30270</td>\n",
       "      <td>16.184341</td>\n",
       "      <td>83.815659</td>\n",
       "    </tr>\n",
       "    <tr>\n",
       "      <th>(64500.0, 72000.0]</th>\n",
       "      <td>5059</td>\n",
       "      <td>27384</td>\n",
       "      <td>32443</td>\n",
       "      <td>15.593502</td>\n",
       "      <td>84.406498</td>\n",
       "    </tr>\n",
       "    <tr>\n",
       "      <th>(72000.0, 83000.0]</th>\n",
       "      <td>4481</td>\n",
       "      <td>26932</td>\n",
       "      <td>31413</td>\n",
       "      <td>14.264795</td>\n",
       "      <td>85.735205</td>\n",
       "    </tr>\n",
       "    <tr>\n",
       "      <th>(83000.0, 98000.0]</th>\n",
       "      <td>4231</td>\n",
       "      <td>27769</td>\n",
       "      <td>32000</td>\n",
       "      <td>13.221875</td>\n",
       "      <td>86.778125</td>\n",
       "    </tr>\n",
       "    <tr>\n",
       "      <th>(98000.0, 121000.0]</th>\n",
       "      <td>3808</td>\n",
       "      <td>26999</td>\n",
       "      <td>30807</td>\n",
       "      <td>12.360827</td>\n",
       "      <td>87.639173</td>\n",
       "    </tr>\n",
       "    <tr>\n",
       "      <th>(121000.0, 8706582.0]</th>\n",
       "      <td>3591</td>\n",
       "      <td>28082</td>\n",
       "      <td>31673</td>\n",
       "      <td>11.337732</td>\n",
       "      <td>88.662268</td>\n",
       "    </tr>\n",
       "    <tr>\n",
       "      <th>All</th>\n",
       "      <td>49949</td>\n",
       "      <td>266872</td>\n",
       "      <td>316821</td>\n",
       "      <td>15.765685</td>\n",
       "      <td>84.234315</td>\n",
       "    </tr>\n",
       "  </tbody>\n",
       "</table>\n",
       "</div>"
      ],
      "text/plain": [
       "loan_status            Charged Off  Fully Paid     All      pct_0      pct_1\n",
       "annual_inc_q                                                                \n",
       "(599.999, 34000.0]            6511       25174   31685  20.549156  79.450844\n",
       "(34000.0, 42000.0]            6467       27500   33967  19.039067  80.960933\n",
       "(42000.0, 50000.0]            6779       31333   38112  17.787049  82.212951\n",
       "(50000.0, 56000.0]            4123       20328   24451  16.862296  83.137704\n",
       "(56000.0, 64500.0]            4899       25371   30270  16.184341  83.815659\n",
       "(64500.0, 72000.0]            5059       27384   32443  15.593502  84.406498\n",
       "(72000.0, 83000.0]            4481       26932   31413  14.264795  85.735205\n",
       "(83000.0, 98000.0]            4231       27769   32000  13.221875  86.778125\n",
       "(98000.0, 121000.0]           3808       26999   30807  12.360827  87.639173\n",
       "(121000.0, 8706582.0]         3591       28082   31673  11.337732  88.662268\n",
       "All                          49949      266872  316821  15.765685  84.234315"
      ]
     },
     "execution_count": 293,
     "metadata": {},
     "output_type": "execute_result"
    }
   ],
   "source": [
    "df['annual_inc_q'] = pd.qcut(df.annual_inc, q=10)\n",
    "crosstab_target(df, 'annual_inc_q')"
   ]
  },
  {
   "cell_type": "markdown",
   "id": "564bd61e-aafc-4454-9525-a33fa381f4a2",
   "metadata": {},
   "source": [
    "### installment_inc_ratio"
   ]
  },
  {
   "cell_type": "markdown",
   "id": "59512870-8740-4c3e-8df1-2d0a3111b005",
   "metadata": {},
   "source": [
    "Installment / Monthly Income ratio\n",
    "\n",
    "$$ratio = \\frac{Monthly Installment}{Monthly Income}$$\n",
    "Probably similar to DTI but looks like DTI doesn't include the requested loan.  \n",
    "This measures the new debt obligation in proportion to the borrow's monthly income.\n",
    "\n",
    "(Feature experiment)\n"
   ]
  },
  {
   "cell_type": "code",
   "execution_count": 294,
   "id": "c483d79b-a90e-4765-99cc-85847dd4c46f",
   "metadata": {},
   "outputs": [],
   "source": [
    "# also have to handle income = 0 -> division by zero -> inf -> 0.0\n",
    "df['installment_inc_ratio'] = df.installment / (df.annual_inc/12)"
   ]
  },
  {
   "cell_type": "code",
   "execution_count": 295,
   "id": "f4977aee-b0fe-4459-b093-e46dad6112cf",
   "metadata": {},
   "outputs": [
    {
     "data": {
      "text/html": [
       "<div>\n",
       "<style scoped>\n",
       "    .dataframe tbody tr th:only-of-type {\n",
       "        vertical-align: middle;\n",
       "    }\n",
       "\n",
       "    .dataframe tbody tr th {\n",
       "        vertical-align: top;\n",
       "    }\n",
       "\n",
       "    .dataframe thead th {\n",
       "        text-align: right;\n",
       "    }\n",
       "</style>\n",
       "<table border=\"1\" class=\"dataframe\">\n",
       "  <thead>\n",
       "    <tr style=\"text-align: right;\">\n",
       "      <th></th>\n",
       "      <th>count</th>\n",
       "      <th>mean</th>\n",
       "      <th>std</th>\n",
       "      <th>min</th>\n",
       "      <th>25%</th>\n",
       "      <th>50%</th>\n",
       "      <th>75%</th>\n",
       "      <th>max</th>\n",
       "    </tr>\n",
       "  </thead>\n",
       "  <tbody>\n",
       "    <tr>\n",
       "      <th>installment_inc_ratio</th>\n",
       "      <td>316821.0</td>\n",
       "      <td>0.078759</td>\n",
       "      <td>0.0494</td>\n",
       "      <td>0.000123</td>\n",
       "      <td>0.047187</td>\n",
       "      <td>0.07306</td>\n",
       "      <td>0.105308</td>\n",
       "      <td>15.2998</td>\n",
       "    </tr>\n",
       "  </tbody>\n",
       "</table>\n",
       "</div>"
      ],
      "text/plain": [
       "                          count      mean     std       min       25%  \\\n",
       "installment_inc_ratio  316821.0  0.078759  0.0494  0.000123  0.047187   \n",
       "\n",
       "                           50%       75%      max  \n",
       "installment_inc_ratio  0.07306  0.105308  15.2998  "
      ]
     },
     "metadata": {},
     "output_type": "display_data"
    },
    {
     "data": {
      "image/png": "[encoded data removed]",
      "text/plain": [
       "<Figure size 1152x288 with 3 Axes>"
      ]
     },
     "metadata": {
      "needs_background": "light"
     },
     "output_type": "display_data"
    }
   ],
   "source": [
    "col = 'installment_inc_ratio'\n",
    "display(df[col].describe().to_frame().T)\n",
    "fig, ax = plt.subplots(1, 3, figsize=(16,4), tight_layout=True)\n",
    "sns.histplot(data=df, x=col, bins=25, ax=ax[0])\n",
    "sns.histplot(np.log(df[col]+.001), bins=25, ax=ax[1]);\n",
    "sns.boxenplot(data=df, x=col, y='loan_status', orient='h', ax=ax[2])\n",
    "ax[2].set_xscale('log')\n",
    "plt.show()"
   ]
  },
  {
   "cell_type": "markdown",
   "id": "ff8981d4-1169-4d01-9658-d1c0a1e24e28",
   "metadata": {
    "tags": []
   },
   "source": [
    "## DTI\n",
    "\n",
    "Since there are outliers, I'll try creating 2 features"
   ]
  },
  {
   "cell_type": "code",
   "execution_count": 296,
   "id": "a34831f7-686d-4245-950e-d01f77057a5e",
   "metadata": {},
   "outputs": [
    {
     "data": {
      "text/plain": [
       "count    316821.000000\n",
       "mean         17.246776\n",
       "std           8.627046\n",
       "min           0.000000\n",
       "25%          11.200000\n",
       "50%          16.790000\n",
       "75%          22.850000\n",
       "90%          28.360000\n",
       "99%          36.280000\n",
       "max        1622.000000\n",
       "Name: dti, dtype: float64"
      ]
     },
     "execution_count": 296,
     "metadata": {},
     "output_type": "execute_result"
    }
   ],
   "source": [
    "df.dti.describe(percentiles=[.25,.75,.9,.99])"
   ]
  },
  {
   "cell_type": "markdown",
   "id": "6ce9a123-6ae3-4baf-a019-d2c88f0d6ca7",
   "metadata": {},
   "source": [
    "### DTI adjusted\n",
    "Replace outliers with an upper bound.  \n",
    "I'm using $\\mu + 3 \\sigma$ as a guideline threshold, and for simplicity, I choose 75.0"
   ]
  },
  {
   "cell_type": "code",
   "execution_count": 297,
   "id": "90c7013e-03e6-4fd3-8273-89d808bfe8d9",
   "metadata": {},
   "outputs": [
    {
     "name": "stdout",
     "output_type": "stream",
     "text": [
      "dti outlier threshold: 43.12791424867872\n"
     ]
    }
   ],
   "source": [
    "threshold = df.dti.mean() + df.dti.std()*3\n",
    "print(f\"dti outlier threshold: {threshold}\")\n",
    "df['dti_adj'] = df.dti.apply(lambda x: x if x < threshold else threshold)"
   ]
  },
  {
   "cell_type": "code",
   "execution_count": 298,
   "id": "290de095-b3c9-4398-bc36-63c867bb575b",
   "metadata": {},
   "outputs": [
    {
     "data": {
      "image/png": "[encoded data removed]",
      "text/plain": [
       "<Figure size 720x216 with 2 Axes>"
      ]
     },
     "metadata": {
      "needs_background": "light"
     },
     "output_type": "display_data"
    }
   ],
   "source": [
    "col = 'dti_adj'\n",
    "fig, ax = plt.subplots(1,2, figsize=(10,3), tight_layout=True)\n",
    "sns.histplot(data=df, x=col, bins=25, ax=ax[0])\n",
    "sns.boxenplot(data=df, x=col, y='loan_status', orient='h', ax=ax[1]);\n",
    "plt.show()"
   ]
  },
  {
   "cell_type": "markdown",
   "id": "29f99694-d47c-4008-af7c-d2f2cbcaf18e",
   "metadata": {},
   "source": [
    "### DTI Quantiles"
   ]
  },
  {
   "cell_type": "code",
   "execution_count": 299,
   "id": "d07460de-43d0-472a-b4c5-28912b87ae8e",
   "metadata": {},
   "outputs": [
    {
     "data": {
      "text/html": [
       "<div>\n",
       "<style scoped>\n",
       "    .dataframe tbody tr th:only-of-type {\n",
       "        vertical-align: middle;\n",
       "    }\n",
       "\n",
       "    .dataframe tbody tr th {\n",
       "        vertical-align: top;\n",
       "    }\n",
       "\n",
       "    .dataframe thead th {\n",
       "        text-align: right;\n",
       "    }\n",
       "</style>\n",
       "<table border=\"1\" class=\"dataframe\">\n",
       "  <thead>\n",
       "    <tr style=\"text-align: right;\">\n",
       "      <th>loan_status</th>\n",
       "      <th>Charged Off</th>\n",
       "      <th>Fully Paid</th>\n",
       "      <th>All</th>\n",
       "      <th>pct_0</th>\n",
       "      <th>pct_1</th>\n",
       "    </tr>\n",
       "    <tr>\n",
       "      <th>dti_q</th>\n",
       "      <th></th>\n",
       "      <th></th>\n",
       "      <th></th>\n",
       "      <th></th>\n",
       "      <th></th>\n",
       "    </tr>\n",
       "  </thead>\n",
       "  <tbody>\n",
       "    <tr>\n",
       "      <th>(-0.001, 6.83]</th>\n",
       "      <td>3334</td>\n",
       "      <td>28358</td>\n",
       "      <td>31692</td>\n",
       "      <td>10.520005</td>\n",
       "      <td>89.479995</td>\n",
       "    </tr>\n",
       "    <tr>\n",
       "      <th>(6.83, 9.93]</th>\n",
       "      <td>3637</td>\n",
       "      <td>28155</td>\n",
       "      <td>31792</td>\n",
       "      <td>11.439985</td>\n",
       "      <td>88.560015</td>\n",
       "    </tr>\n",
       "    <tr>\n",
       "      <th>(9.93, 12.38]</th>\n",
       "      <td>3879</td>\n",
       "      <td>27747</td>\n",
       "      <td>31626</td>\n",
       "      <td>12.265225</td>\n",
       "      <td>87.734775</td>\n",
       "    </tr>\n",
       "    <tr>\n",
       "      <th>(12.38, 14.59]</th>\n",
       "      <td>4191</td>\n",
       "      <td>27494</td>\n",
       "      <td>31685</td>\n",
       "      <td>13.227079</td>\n",
       "      <td>86.772921</td>\n",
       "    </tr>\n",
       "    <tr>\n",
       "      <th>(14.59, 16.79]</th>\n",
       "      <td>4441</td>\n",
       "      <td>27204</td>\n",
       "      <td>31645</td>\n",
       "      <td>14.033813</td>\n",
       "      <td>85.966187</td>\n",
       "    </tr>\n",
       "    <tr>\n",
       "      <th>(16.79, 19.03]</th>\n",
       "      <td>4929</td>\n",
       "      <td>26793</td>\n",
       "      <td>31722</td>\n",
       "      <td>15.538112</td>\n",
       "      <td>84.461888</td>\n",
       "    </tr>\n",
       "    <tr>\n",
       "      <th>(19.03, 21.47]</th>\n",
       "      <td>5174</td>\n",
       "      <td>26482</td>\n",
       "      <td>31656</td>\n",
       "      <td>16.344453</td>\n",
       "      <td>83.655547</td>\n",
       "    </tr>\n",
       "    <tr>\n",
       "      <th>(21.47, 24.34]</th>\n",
       "      <td>5702</td>\n",
       "      <td>26019</td>\n",
       "      <td>31721</td>\n",
       "      <td>17.975474</td>\n",
       "      <td>82.024526</td>\n",
       "    </tr>\n",
       "    <tr>\n",
       "      <th>(24.34, 28.36]</th>\n",
       "      <td>6528</td>\n",
       "      <td>25112</td>\n",
       "      <td>31640</td>\n",
       "      <td>20.632111</td>\n",
       "      <td>79.367889</td>\n",
       "    </tr>\n",
       "    <tr>\n",
       "      <th>(28.36, 1622.0]</th>\n",
       "      <td>8134</td>\n",
       "      <td>23508</td>\n",
       "      <td>31642</td>\n",
       "      <td>25.706340</td>\n",
       "      <td>74.293660</td>\n",
       "    </tr>\n",
       "    <tr>\n",
       "      <th>All</th>\n",
       "      <td>49949</td>\n",
       "      <td>266872</td>\n",
       "      <td>316821</td>\n",
       "      <td>15.765685</td>\n",
       "      <td>84.234315</td>\n",
       "    </tr>\n",
       "  </tbody>\n",
       "</table>\n",
       "</div>"
      ],
      "text/plain": [
       "loan_status      Charged Off  Fully Paid     All      pct_0      pct_1\n",
       "dti_q                                                                 \n",
       "(-0.001, 6.83]          3334       28358   31692  10.520005  89.479995\n",
       "(6.83, 9.93]            3637       28155   31792  11.439985  88.560015\n",
       "(9.93, 12.38]           3879       27747   31626  12.265225  87.734775\n",
       "(12.38, 14.59]          4191       27494   31685  13.227079  86.772921\n",
       "(14.59, 16.79]          4441       27204   31645  14.033813  85.966187\n",
       "(16.79, 19.03]          4929       26793   31722  15.538112  84.461888\n",
       "(19.03, 21.47]          5174       26482   31656  16.344453  83.655547\n",
       "(21.47, 24.34]          5702       26019   31721  17.975474  82.024526\n",
       "(24.34, 28.36]          6528       25112   31640  20.632111  79.367889\n",
       "(28.36, 1622.0]         8134       23508   31642  25.706340  74.293660\n",
       "All                    49949      266872  316821  15.765685  84.234315"
      ]
     },
     "execution_count": 299,
     "metadata": {},
     "output_type": "execute_result"
    }
   ],
   "source": [
    "df['dti_q'] = pd.qcut(df.dti, q=10)\n",
    "crosstab_target(df, 'dti_q')"
   ]
  },
  {
   "cell_type": "markdown",
   "id": "8df9c3f1-9829-4165-83d6-101cb30e574a",
   "metadata": {},
   "source": [
    "Looks promising as a feature. With the higher quantiles, we get less percentage of Fully Paid."
   ]
  },
  {
   "cell_type": "markdown",
   "id": "6c627865-9254-4208-9e1c-c1fcb5f0483b",
   "metadata": {},
   "source": [
    "## open_acc"
   ]
  },
  {
   "cell_type": "code",
   "execution_count": 300,
   "id": "2a44a606-a564-4880-aaab-8ac4cb5f40b1",
   "metadata": {},
   "outputs": [
    {
     "data": {
      "text/html": [
       "<div>\n",
       "<style scoped>\n",
       "    .dataframe tbody tr th:only-of-type {\n",
       "        vertical-align: middle;\n",
       "    }\n",
       "\n",
       "    .dataframe tbody tr th {\n",
       "        vertical-align: top;\n",
       "    }\n",
       "\n",
       "    .dataframe thead th {\n",
       "        text-align: right;\n",
       "    }\n",
       "</style>\n",
       "<table border=\"1\" class=\"dataframe\">\n",
       "  <thead>\n",
       "    <tr style=\"text-align: right;\">\n",
       "      <th></th>\n",
       "      <th>count</th>\n",
       "      <th>mean</th>\n",
       "      <th>std</th>\n",
       "      <th>min</th>\n",
       "      <th>25%</th>\n",
       "      <th>50%</th>\n",
       "      <th>75%</th>\n",
       "      <th>90%</th>\n",
       "      <th>99%</th>\n",
       "      <th>max</th>\n",
       "    </tr>\n",
       "  </thead>\n",
       "  <tbody>\n",
       "    <tr>\n",
       "      <th>open_acc</th>\n",
       "      <td>316821.0</td>\n",
       "      <td>11.290287</td>\n",
       "      <td>5.12788</td>\n",
       "      <td>0.0</td>\n",
       "      <td>8.0</td>\n",
       "      <td>10.0</td>\n",
       "      <td>14.0</td>\n",
       "      <td>18.0</td>\n",
       "      <td>27.0</td>\n",
       "      <td>90.0</td>\n",
       "    </tr>\n",
       "  </tbody>\n",
       "</table>\n",
       "</div>"
      ],
      "text/plain": [
       "             count       mean      std  min  25%   50%   75%   90%   99%   max\n",
       "open_acc  316821.0  11.290287  5.12788  0.0  8.0  10.0  14.0  18.0  27.0  90.0"
      ]
     },
     "metadata": {},
     "output_type": "display_data"
    },
    {
     "data": {
      "image/png": "[encoded data removed]",
      "text/plain": [
       "<Figure size 720x216 with 2 Axes>"
      ]
     },
     "metadata": {
      "needs_background": "light"
     },
     "output_type": "display_data"
    }
   ],
   "source": [
    "col = 'open_acc'\n",
    "display(df[col].describe([.25,.75,.9,.99]).to_frame().T)\n",
    "fig, ax = plt.subplots(1,2, figsize=(10,3), tight_layout=True)\n",
    "sns.histplot(data=df, x=col, bins=25, ax=ax[0])\n",
    "sns.boxenplot(data=df, x=col, y='loan_status', orient='h', ax=ax[1]);\n",
    "plt.show()"
   ]
  },
  {
   "cell_type": "markdown",
   "id": "8a62afcf-c462-4b46-b383-fcccfcf1b863",
   "metadata": {},
   "source": [
    "## pub_rec"
   ]
  },
  {
   "cell_type": "code",
   "execution_count": 301,
   "id": "f2f5a4d3-d2de-4bf5-ada0-37d2f6691133",
   "metadata": {},
   "outputs": [
    {
     "data": {
      "text/plain": [
       "0     85.491492\n",
       "1     12.502328\n",
       "2      1.372699\n",
       "3      0.385075\n",
       "4      0.127201\n",
       "5      0.058077\n",
       "6      0.031248\n",
       "7      0.013257\n",
       "8      0.008207\n",
       "9      0.002525\n",
       "11     0.002525\n",
       "10     0.002209\n",
       "13     0.001263\n",
       "86     0.000316\n",
       "24     0.000316\n",
       "40     0.000316\n",
       "19     0.000316\n",
       "17     0.000316\n",
       "12     0.000316\n",
       "Name: pub_rec, dtype: float64"
      ]
     },
     "execution_count": 301,
     "metadata": {},
     "output_type": "execute_result"
    }
   ],
   "source": [
    "df.pub_rec.value_counts(dropna=False, normalize=True)*100"
   ]
  },
  {
   "cell_type": "markdown",
   "id": "d14a4a85-3367-4242-8ca0-7bab52cc6189",
   "metadata": {},
   "source": [
    "### has_pub_rec\n",
    "Whether or not pub_rec > 1"
   ]
  },
  {
   "cell_type": "code",
   "execution_count": 302,
   "id": "d465554b-98e4-4040-8e46-fad5427d52f8",
   "metadata": {},
   "outputs": [
    {
     "data": {
      "text/html": [
       "<div>\n",
       "<style scoped>\n",
       "    .dataframe tbody tr th:only-of-type {\n",
       "        vertical-align: middle;\n",
       "    }\n",
       "\n",
       "    .dataframe tbody tr th {\n",
       "        vertical-align: top;\n",
       "    }\n",
       "\n",
       "    .dataframe thead th {\n",
       "        text-align: right;\n",
       "    }\n",
       "</style>\n",
       "<table border=\"1\" class=\"dataframe\">\n",
       "  <thead>\n",
       "    <tr style=\"text-align: right;\">\n",
       "      <th>loan_status</th>\n",
       "      <th>Charged Off</th>\n",
       "      <th>Fully Paid</th>\n",
       "      <th>All</th>\n",
       "      <th>pct_0</th>\n",
       "      <th>pct_1</th>\n",
       "    </tr>\n",
       "    <tr>\n",
       "      <th>has_pub_rec</th>\n",
       "      <th></th>\n",
       "      <th></th>\n",
       "      <th></th>\n",
       "      <th></th>\n",
       "      <th></th>\n",
       "    </tr>\n",
       "  </thead>\n",
       "  <tbody>\n",
       "    <tr>\n",
       "      <th>0</th>\n",
       "      <td>42011</td>\n",
       "      <td>228844</td>\n",
       "      <td>270855</td>\n",
       "      <td>15.510513</td>\n",
       "      <td>84.489487</td>\n",
       "    </tr>\n",
       "    <tr>\n",
       "      <th>1</th>\n",
       "      <td>7938</td>\n",
       "      <td>38028</td>\n",
       "      <td>45966</td>\n",
       "      <td>17.269286</td>\n",
       "      <td>82.730714</td>\n",
       "    </tr>\n",
       "    <tr>\n",
       "      <th>All</th>\n",
       "      <td>49949</td>\n",
       "      <td>266872</td>\n",
       "      <td>316821</td>\n",
       "      <td>15.765685</td>\n",
       "      <td>84.234315</td>\n",
       "    </tr>\n",
       "  </tbody>\n",
       "</table>\n",
       "</div>"
      ],
      "text/plain": [
       "loan_status  Charged Off  Fully Paid     All      pct_0      pct_1\n",
       "has_pub_rec                                                       \n",
       "0                  42011      228844  270855  15.510513  84.489487\n",
       "1                   7938       38028   45966  17.269286  82.730714\n",
       "All                49949      266872  316821  15.765685  84.234315"
      ]
     },
     "execution_count": 302,
     "metadata": {},
     "output_type": "execute_result"
    }
   ],
   "source": [
    "df['has_pub_rec'] = df['pub_rec'].gt(0).astype('int')\n",
    "crosstab_target(df, 'has_pub_rec')"
   ]
  },
  {
   "cell_type": "markdown",
   "id": "7db6f061-c2d5-42fa-9965-399b4a5efe4b",
   "metadata": {},
   "source": [
    "## revol_bal"
   ]
  },
  {
   "cell_type": "code",
   "execution_count": 303,
   "id": "511fcdeb-c1d4-40b1-b5f1-62e9d94a30b3",
   "metadata": {},
   "outputs": [
    {
     "data": {
      "text/plain": [
       "count    3.168210e+05\n",
       "mean     1.585891e+04\n",
       "std      2.062888e+04\n",
       "min      0.000000e+00\n",
       "25%      6.022000e+03\n",
       "50%      1.118400e+04\n",
       "75%      1.964800e+04\n",
       "max      1.743266e+06\n",
       "Name: revol_bal, dtype: float64"
      ]
     },
     "execution_count": 303,
     "metadata": {},
     "output_type": "execute_result"
    }
   ],
   "source": [
    "df.revol_bal.describe()"
   ]
  },
  {
   "cell_type": "markdown",
   "id": "e9076b4c-1117-45d7-b51b-b93b80dd79df",
   "metadata": {},
   "source": [
    "### revol_bal_adj\n",
    "handle outliers"
   ]
  },
  {
   "cell_type": "code",
   "execution_count": 304,
   "id": "341552dc-7db7-4a70-80e9-ecd8d5dd651c",
   "metadata": {},
   "outputs": [
    {
     "name": "stdout",
     "output_type": "stream",
     "text": [
      "revol_bal outlier threshold: 77745.54780029392\n"
     ]
    }
   ],
   "source": [
    "threshold = df.revol_bal.mean() + df.revol_bal.std()*3\n",
    "print(f\"revol_bal outlier threshold: {threshold}\")\n",
    "df['revol_bal_adj'] = df['revol_bal'].apply(lambda x: x if x < threshold else threshold)"
   ]
  },
  {
   "cell_type": "code",
   "execution_count": 305,
   "id": "ce2a0dbf-4b53-426c-81eb-cb005948ef0e",
   "metadata": {},
   "outputs": [
    {
     "data": {
      "text/plain": [
       "0.012142503180029102"
      ]
     },
     "execution_count": 305,
     "metadata": {},
     "output_type": "execute_result"
    }
   ],
   "source": [
    "(df.revol_bal > threshold).mean()"
   ]
  },
  {
   "cell_type": "code",
   "execution_count": 306,
   "id": "c526f375-6535-4323-b072-31ccc562aecb",
   "metadata": {},
   "outputs": [
    {
     "data": {
      "text/html": [
       "<div>\n",
       "<style scoped>\n",
       "    .dataframe tbody tr th:only-of-type {\n",
       "        vertical-align: middle;\n",
       "    }\n",
       "\n",
       "    .dataframe tbody tr th {\n",
       "        vertical-align: top;\n",
       "    }\n",
       "\n",
       "    .dataframe thead th {\n",
       "        text-align: right;\n",
       "    }\n",
       "</style>\n",
       "<table border=\"1\" class=\"dataframe\">\n",
       "  <thead>\n",
       "    <tr style=\"text-align: right;\">\n",
       "      <th></th>\n",
       "      <th>count</th>\n",
       "      <th>mean</th>\n",
       "      <th>std</th>\n",
       "      <th>min</th>\n",
       "      <th>25%</th>\n",
       "      <th>50%</th>\n",
       "      <th>75%</th>\n",
       "      <th>90%</th>\n",
       "      <th>99%</th>\n",
       "      <th>max</th>\n",
       "    </tr>\n",
       "  </thead>\n",
       "  <tbody>\n",
       "    <tr>\n",
       "      <th>revol_bal_adj</th>\n",
       "      <td>316821.0</td>\n",
       "      <td>15107.143549</td>\n",
       "      <td>13736.236167</td>\n",
       "      <td>0.0</td>\n",
       "      <td>6022.0</td>\n",
       "      <td>11184.0</td>\n",
       "      <td>19648.0</td>\n",
       "      <td>31504.0</td>\n",
       "      <td>77745.5478</td>\n",
       "      <td>77745.5478</td>\n",
       "    </tr>\n",
       "  </tbody>\n",
       "</table>\n",
       "</div>"
      ],
      "text/plain": [
       "                  count          mean           std  min     25%      50%  \\\n",
       "revol_bal_adj  316821.0  15107.143549  13736.236167  0.0  6022.0  11184.0   \n",
       "\n",
       "                   75%      90%         99%         max  \n",
       "revol_bal_adj  19648.0  31504.0  77745.5478  77745.5478  "
      ]
     },
     "metadata": {},
     "output_type": "display_data"
    },
    {
     "data": {
      "image/png": "[encoded data removed]",
      "text/plain": [
       "<Figure size 1152x288 with 3 Axes>"
      ]
     },
     "metadata": {
      "needs_background": "light"
     },
     "output_type": "display_data"
    }
   ],
   "source": [
    "col = 'revol_bal_adj'\n",
    "display(df[col].describe([.25,.75,.9,.99]).to_frame().T)\n",
    "fig, ax = plt.subplots(1, 3, figsize=(16,4), tight_layout=True)\n",
    "sns.histplot(data=df, x=col, bins=25, ax=ax[0])\n",
    "sns.histplot(np.log(df[col]+.001), bins=25, ax=ax[1]);\n",
    "sns.boxenplot(data=df, x=col, y='loan_status', orient='h', ax=ax[2])\n",
    "# ax[2].set_xscale('log')\n",
    "plt.show()"
   ]
  },
  {
   "cell_type": "markdown",
   "id": "f4383f89-b8e7-4833-a0e5-e1772773d3ef",
   "metadata": {
    "tags": []
   },
   "source": [
    "## revol_util"
   ]
  },
  {
   "cell_type": "code",
   "execution_count": 307,
   "id": "cd8a79ce-c1d2-4c81-a529-de5860d7f912",
   "metadata": {},
   "outputs": [
    {
     "data": {
      "text/plain": [
       "count    316600.000000\n",
       "mean         53.606233\n",
       "std          24.477192\n",
       "min           0.000000\n",
       "25%          35.600000\n",
       "50%          54.600000\n",
       "75%          72.700000\n",
       "90%          86.000000\n",
       "99%          98.000000\n",
       "max         892.300000\n",
       "Name: revol_util, dtype: float64"
      ]
     },
     "execution_count": 307,
     "metadata": {},
     "output_type": "execute_result"
    }
   ],
   "source": [
    "df.revol_util.describe(percentiles=[.25,.75,.9,.99])"
   ]
  },
  {
   "cell_type": "code",
   "execution_count": 308,
   "id": "4b2080ac-6e77-44a7-9e08-4beba85b0c52",
   "metadata": {},
   "outputs": [
    {
     "data": {
      "text/plain": [
       "(221, 0.06975547706749237)"
      ]
     },
     "execution_count": 308,
     "metadata": {},
     "output_type": "execute_result"
    }
   ],
   "source": [
    "df.revol_util.isna().sum(), df.revol_util.isna().mean()*100"
   ]
  },
  {
   "cell_type": "markdown",
   "id": "6082c97a-3d93-49dc-ae78-d41fa03886c5",
   "metadata": {
    "tags": []
   },
   "source": [
    "### revol_util_adj\n",
    "Impute 0 and handle outliers"
   ]
  },
  {
   "cell_type": "code",
   "execution_count": 309,
   "id": "f16681bb-6aa8-4664-896a-b0691beda1cf",
   "metadata": {},
   "outputs": [],
   "source": [
    "threshold = 100.0\n",
    "df['revol_util_adj'] = df.revol_util.fillna(0).apply(lambda x: x if x < threshold else threshold)"
   ]
  },
  {
   "cell_type": "code",
   "execution_count": 310,
   "id": "8a0aa53e-dc0e-476e-aa3f-ed0fe9036aca",
   "metadata": {},
   "outputs": [
    {
     "data": {
      "text/html": [
       "<div>\n",
       "<style scoped>\n",
       "    .dataframe tbody tr th:only-of-type {\n",
       "        vertical-align: middle;\n",
       "    }\n",
       "\n",
       "    .dataframe tbody tr th {\n",
       "        vertical-align: top;\n",
       "    }\n",
       "\n",
       "    .dataframe thead th {\n",
       "        text-align: right;\n",
       "    }\n",
       "</style>\n",
       "<table border=\"1\" class=\"dataframe\">\n",
       "  <thead>\n",
       "    <tr style=\"text-align: right;\">\n",
       "      <th></th>\n",
       "      <th>count</th>\n",
       "      <th>mean</th>\n",
       "      <th>std</th>\n",
       "      <th>min</th>\n",
       "      <th>25%</th>\n",
       "      <th>50%</th>\n",
       "      <th>75%</th>\n",
       "      <th>90%</th>\n",
       "      <th>99%</th>\n",
       "      <th>max</th>\n",
       "    </tr>\n",
       "  </thead>\n",
       "  <tbody>\n",
       "    <tr>\n",
       "      <th>revol_util_adj</th>\n",
       "      <td>316821.0</td>\n",
       "      <td>53.557477</td>\n",
       "      <td>24.445179</td>\n",
       "      <td>0.0</td>\n",
       "      <td>35.6</td>\n",
       "      <td>54.6</td>\n",
       "      <td>72.7</td>\n",
       "      <td>86.0</td>\n",
       "      <td>97.9</td>\n",
       "      <td>100.0</td>\n",
       "    </tr>\n",
       "  </tbody>\n",
       "</table>\n",
       "</div>"
      ],
      "text/plain": [
       "                   count       mean        std  min   25%   50%   75%   90%  \\\n",
       "revol_util_adj  316821.0  53.557477  24.445179  0.0  35.6  54.6  72.7  86.0   \n",
       "\n",
       "                 99%    max  \n",
       "revol_util_adj  97.9  100.0  "
      ]
     },
     "metadata": {},
     "output_type": "display_data"
    },
    {
     "data": {
      "image/png": "[encoded data removed]",
      "text/plain": [
       "<Figure size 720x216 with 2 Axes>"
      ]
     },
     "metadata": {
      "needs_background": "light"
     },
     "output_type": "display_data"
    }
   ],
   "source": [
    "col = 'revol_util_adj'\n",
    "display(df[col].describe([.25,.75,.9,.99]).to_frame().T)\n",
    "fig, ax = plt.subplots(1,2, figsize=(10,3), tight_layout=True)\n",
    "sns.histplot(data=df, x=col, bins=25, ax=ax[0])\n",
    "sns.boxenplot(data=df, x=col, y='loan_status', orient='h', ax=ax[1]);\n",
    "plt.show()"
   ]
  },
  {
   "cell_type": "markdown",
   "id": "d7fe8d29-23b1-4677-b43d-88b0e4683eb0",
   "metadata": {},
   "source": [
    "## total_acc"
   ]
  },
  {
   "cell_type": "code",
   "execution_count": 311,
   "id": "01609488-7cf8-436e-9329-63a1625004a8",
   "metadata": {},
   "outputs": [
    {
     "data": {
      "text/html": [
       "<div>\n",
       "<style scoped>\n",
       "    .dataframe tbody tr th:only-of-type {\n",
       "        vertical-align: middle;\n",
       "    }\n",
       "\n",
       "    .dataframe tbody tr th {\n",
       "        vertical-align: top;\n",
       "    }\n",
       "\n",
       "    .dataframe thead th {\n",
       "        text-align: right;\n",
       "    }\n",
       "</style>\n",
       "<table border=\"1\" class=\"dataframe\">\n",
       "  <thead>\n",
       "    <tr style=\"text-align: right;\">\n",
       "      <th></th>\n",
       "      <th>count</th>\n",
       "      <th>mean</th>\n",
       "      <th>std</th>\n",
       "      <th>min</th>\n",
       "      <th>25%</th>\n",
       "      <th>50%</th>\n",
       "      <th>75%</th>\n",
       "      <th>90%</th>\n",
       "      <th>99%</th>\n",
       "      <th>max</th>\n",
       "    </tr>\n",
       "  </thead>\n",
       "  <tbody>\n",
       "    <tr>\n",
       "      <th>total_acc</th>\n",
       "      <td>316821.0</td>\n",
       "      <td>25.421181</td>\n",
       "      <td>11.873874</td>\n",
       "      <td>2.0</td>\n",
       "      <td>17.0</td>\n",
       "      <td>24.0</td>\n",
       "      <td>32.0</td>\n",
       "      <td>41.0</td>\n",
       "      <td>60.0</td>\n",
       "      <td>150.0</td>\n",
       "    </tr>\n",
       "  </tbody>\n",
       "</table>\n",
       "</div>"
      ],
      "text/plain": [
       "              count       mean        std  min   25%   50%   75%   90%   99%  \\\n",
       "total_acc  316821.0  25.421181  11.873874  2.0  17.0  24.0  32.0  41.0  60.0   \n",
       "\n",
       "             max  \n",
       "total_acc  150.0  "
      ]
     },
     "metadata": {},
     "output_type": "display_data"
    },
    {
     "data": {
      "image/png": "[encoded data removed]",
      "text/plain": [
       "<Figure size 720x216 with 2 Axes>"
      ]
     },
     "metadata": {
      "needs_background": "light"
     },
     "output_type": "display_data"
    }
   ],
   "source": [
    "col = 'total_acc'\n",
    "display(df[col].describe([.25,.75,.9,.99]).to_frame().T)\n",
    "fig, ax = plt.subplots(1,2, figsize=(10,3), tight_layout=True)\n",
    "sns.histplot(data=df, x=col, bins=25, ax=ax[0])\n",
    "sns.boxenplot(data=df, x=col, y='loan_status', orient='h', ax=ax[1]);\n",
    "plt.show()"
   ]
  },
  {
   "cell_type": "markdown",
   "id": "6b8ac70a-afab-47ab-afb9-dac1c148a8a0",
   "metadata": {},
   "source": [
    "## mort_acc"
   ]
  },
  {
   "cell_type": "code",
   "execution_count": 312,
   "id": "6caf96be-ca33-4d07-a7b5-e1387916fb06",
   "metadata": {},
   "outputs": [
    {
     "data": {
      "text/plain": [
       "False    90.283788\n",
       "True      9.716212\n",
       "Name: mort_acc, dtype: float64"
      ]
     },
     "execution_count": 312,
     "metadata": {},
     "output_type": "execute_result"
    }
   ],
   "source": [
    "df.mort_acc.isna().value_counts(normalize=True)*100"
   ]
  },
  {
   "cell_type": "markdown",
   "id": "4033541c-6cdc-4a3f-bfe4-9dde30fbb601",
   "metadata": {},
   "source": [
    "### mort_acc_adj & mort_acc_missing\n",
    "Impute 0 + new flag to indicate missing mort_acc"
   ]
  },
  {
   "cell_type": "code",
   "execution_count": 313,
   "id": "931efcb3-116d-424a-9651-2544c81c00aa",
   "metadata": {},
   "outputs": [],
   "source": [
    "df['mort_acc_adj'] = df.mort_acc.fillna(0)\n",
    "df['mort_acc_missing'] = df.mort_acc.isna().astype('int')"
   ]
  },
  {
   "cell_type": "code",
   "execution_count": 314,
   "id": "2ae64c5a-7af9-4f29-84ac-e09920009842",
   "metadata": {},
   "outputs": [
    {
     "data": {
      "text/html": [
       "<div>\n",
       "<style scoped>\n",
       "    .dataframe tbody tr th:only-of-type {\n",
       "        vertical-align: middle;\n",
       "    }\n",
       "\n",
       "    .dataframe tbody tr th {\n",
       "        vertical-align: top;\n",
       "    }\n",
       "\n",
       "    .dataframe thead th {\n",
       "        text-align: right;\n",
       "    }\n",
       "</style>\n",
       "<table border=\"1\" class=\"dataframe\">\n",
       "  <thead>\n",
       "    <tr style=\"text-align: right;\">\n",
       "      <th></th>\n",
       "      <th>count</th>\n",
       "      <th>mean</th>\n",
       "      <th>std</th>\n",
       "      <th>min</th>\n",
       "      <th>25%</th>\n",
       "      <th>50%</th>\n",
       "      <th>75%</th>\n",
       "      <th>90%</th>\n",
       "      <th>99%</th>\n",
       "      <th>max</th>\n",
       "    </tr>\n",
       "  </thead>\n",
       "  <tbody>\n",
       "    <tr>\n",
       "      <th>mort_acc_adj</th>\n",
       "      <td>316821.0</td>\n",
       "      <td>1.652621</td>\n",
       "      <td>2.121487</td>\n",
       "      <td>0.0</td>\n",
       "      <td>0.0</td>\n",
       "      <td>1.0</td>\n",
       "      <td>3.0</td>\n",
       "      <td>5.0</td>\n",
       "      <td>8.0</td>\n",
       "      <td>34.0</td>\n",
       "    </tr>\n",
       "  </tbody>\n",
       "</table>\n",
       "</div>"
      ],
      "text/plain": [
       "                 count      mean       std  min  25%  50%  75%  90%  99%   max\n",
       "mort_acc_adj  316821.0  1.652621  2.121487  0.0  0.0  1.0  3.0  5.0  8.0  34.0"
      ]
     },
     "metadata": {},
     "output_type": "display_data"
    },
    {
     "data": {
      "image/png": "[encoded data removed]",
      "text/plain": [
       "<Figure size 720x216 with 2 Axes>"
      ]
     },
     "metadata": {
      "needs_background": "light"
     },
     "output_type": "display_data"
    }
   ],
   "source": [
    "col = 'mort_acc_adj'\n",
    "display(df[col].describe([.25,.75,.9,.99]).to_frame().T)\n",
    "fig, ax = plt.subplots(1,2, figsize=(10,3), tight_layout=True)\n",
    "sns.histplot(data=df, x=col, bins=25, ax=ax[0])\n",
    "sns.boxenplot(data=df, x=col, y='loan_status', orient='h', ax=ax[1]);\n",
    "plt.show()"
   ]
  },
  {
   "cell_type": "code",
   "execution_count": 315,
   "id": "c48ef47d-7e68-48b5-9577-6cc6217de072",
   "metadata": {},
   "outputs": [
    {
     "data": {
      "text/html": [
       "<div>\n",
       "<style scoped>\n",
       "    .dataframe tbody tr th:only-of-type {\n",
       "        vertical-align: middle;\n",
       "    }\n",
       "\n",
       "    .dataframe tbody tr th {\n",
       "        vertical-align: top;\n",
       "    }\n",
       "\n",
       "    .dataframe thead th {\n",
       "        text-align: right;\n",
       "    }\n",
       "</style>\n",
       "<table border=\"1\" class=\"dataframe\">\n",
       "  <thead>\n",
       "    <tr style=\"text-align: right;\">\n",
       "      <th>loan_status</th>\n",
       "      <th>Charged Off</th>\n",
       "      <th>Fully Paid</th>\n",
       "      <th>All</th>\n",
       "      <th>pct_0</th>\n",
       "      <th>pct_1</th>\n",
       "    </tr>\n",
       "    <tr>\n",
       "      <th>mort_acc_missing</th>\n",
       "      <th></th>\n",
       "      <th></th>\n",
       "      <th></th>\n",
       "      <th></th>\n",
       "      <th></th>\n",
       "    </tr>\n",
       "  </thead>\n",
       "  <tbody>\n",
       "    <tr>\n",
       "      <th>0</th>\n",
       "      <td>46346</td>\n",
       "      <td>239692</td>\n",
       "      <td>286038</td>\n",
       "      <td>16.202742</td>\n",
       "      <td>83.797258</td>\n",
       "    </tr>\n",
       "    <tr>\n",
       "      <th>1</th>\n",
       "      <td>3603</td>\n",
       "      <td>27180</td>\n",
       "      <td>30783</td>\n",
       "      <td>11.704512</td>\n",
       "      <td>88.295488</td>\n",
       "    </tr>\n",
       "    <tr>\n",
       "      <th>All</th>\n",
       "      <td>49949</td>\n",
       "      <td>266872</td>\n",
       "      <td>316821</td>\n",
       "      <td>15.765685</td>\n",
       "      <td>84.234315</td>\n",
       "    </tr>\n",
       "  </tbody>\n",
       "</table>\n",
       "</div>"
      ],
      "text/plain": [
       "loan_status       Charged Off  Fully Paid     All      pct_0      pct_1\n",
       "mort_acc_missing                                                       \n",
       "0                       46346      239692  286038  16.202742  83.797258\n",
       "1                        3603       27180   30783  11.704512  88.295488\n",
       "All                     49949      266872  316821  15.765685  84.234315"
      ]
     },
     "execution_count": 315,
     "metadata": {},
     "output_type": "execute_result"
    }
   ],
   "source": [
    "crosstab_target(df,'mort_acc_missing')"
   ]
  },
  {
   "cell_type": "markdown",
   "id": "098401b2-3083-430a-aeac-6b11878752bc",
   "metadata": {},
   "source": [
    "## pub_rec_bankruptcies"
   ]
  },
  {
   "cell_type": "code",
   "execution_count": 316,
   "id": "8f3e1998-7dfc-41cb-9d1d-d8181ec2c4e3",
   "metadata": {},
   "outputs": [
    {
     "data": {
      "text/plain": [
       "433"
      ]
     },
     "execution_count": 316,
     "metadata": {},
     "output_type": "execute_result"
    }
   ],
   "source": [
    "df.pub_rec_bankruptcies.isna().sum()"
   ]
  },
  {
   "cell_type": "code",
   "execution_count": 317,
   "id": "9be0cf87-27fd-4cb4-bac9-666630656dc0",
   "metadata": {},
   "outputs": [
    {
     "data": {
      "text/plain": [
       "count    316388.000000\n",
       "mean          0.121152\n",
       "std           0.355296\n",
       "min           0.000000\n",
       "25%           0.000000\n",
       "50%           0.000000\n",
       "75%           0.000000\n",
       "max           8.000000\n",
       "Name: pub_rec_bankruptcies, dtype: float64"
      ]
     },
     "execution_count": 317,
     "metadata": {},
     "output_type": "execute_result"
    }
   ],
   "source": [
    "df.pub_rec_bankruptcies.describe()"
   ]
  },
  {
   "cell_type": "markdown",
   "id": "bd80babe-f2ff-4603-b120-268c4f4932cc",
   "metadata": {},
   "source": [
    "### pub_rec_bankruptcies_adj\n",
    "Impute 0"
   ]
  },
  {
   "cell_type": "code",
   "execution_count": 318,
   "id": "1d93df70-bd4b-4a48-8bf8-5310f6f86023",
   "metadata": {},
   "outputs": [],
   "source": [
    "df['pub_rec_bankruptcies_adj'] = df.pub_rec_bankruptcies.fillna(0)"
   ]
  },
  {
   "cell_type": "code",
   "execution_count": 319,
   "id": "b7468255-3d92-44ae-b2c1-46ef2f931363",
   "metadata": {},
   "outputs": [
    {
     "data": {
      "text/html": [
       "<div>\n",
       "<style scoped>\n",
       "    .dataframe tbody tr th:only-of-type {\n",
       "        vertical-align: middle;\n",
       "    }\n",
       "\n",
       "    .dataframe tbody tr th {\n",
       "        vertical-align: top;\n",
       "    }\n",
       "\n",
       "    .dataframe thead th {\n",
       "        text-align: right;\n",
       "    }\n",
       "</style>\n",
       "<table border=\"1\" class=\"dataframe\">\n",
       "  <thead>\n",
       "    <tr style=\"text-align: right;\">\n",
       "      <th>loan_status</th>\n",
       "      <th>Charged Off</th>\n",
       "      <th>Fully Paid</th>\n",
       "      <th>All</th>\n",
       "      <th>pct_0</th>\n",
       "      <th>pct_1</th>\n",
       "    </tr>\n",
       "    <tr>\n",
       "      <th>pub_rec_bankruptcies</th>\n",
       "      <th></th>\n",
       "      <th></th>\n",
       "      <th></th>\n",
       "      <th></th>\n",
       "      <th></th>\n",
       "    </tr>\n",
       "  </thead>\n",
       "  <tbody>\n",
       "    <tr>\n",
       "      <th>0.0</th>\n",
       "      <td>43952</td>\n",
       "      <td>236470</td>\n",
       "      <td>280422</td>\n",
       "      <td>15.673521</td>\n",
       "      <td>84.326479</td>\n",
       "    </tr>\n",
       "    <tr>\n",
       "      <th>1.0</th>\n",
       "      <td>5604</td>\n",
       "      <td>28526</td>\n",
       "      <td>34130</td>\n",
       "      <td>16.419572</td>\n",
       "      <td>83.580428</td>\n",
       "    </tr>\n",
       "    <tr>\n",
       "      <th>2.0</th>\n",
       "      <td>263</td>\n",
       "      <td>1194</td>\n",
       "      <td>1457</td>\n",
       "      <td>18.050789</td>\n",
       "      <td>81.949211</td>\n",
       "    </tr>\n",
       "    <tr>\n",
       "      <th>3.0</th>\n",
       "      <td>49</td>\n",
       "      <td>234</td>\n",
       "      <td>283</td>\n",
       "      <td>17.314488</td>\n",
       "      <td>82.685512</td>\n",
       "    </tr>\n",
       "    <tr>\n",
       "      <th>4.0</th>\n",
       "      <td>18</td>\n",
       "      <td>43</td>\n",
       "      <td>61</td>\n",
       "      <td>29.508197</td>\n",
       "      <td>70.491803</td>\n",
       "    </tr>\n",
       "    <tr>\n",
       "      <th>5.0</th>\n",
       "      <td>3</td>\n",
       "      <td>20</td>\n",
       "      <td>23</td>\n",
       "      <td>13.043478</td>\n",
       "      <td>86.956522</td>\n",
       "    </tr>\n",
       "    <tr>\n",
       "      <th>6.0</th>\n",
       "      <td>2</td>\n",
       "      <td>5</td>\n",
       "      <td>7</td>\n",
       "      <td>28.571429</td>\n",
       "      <td>71.428571</td>\n",
       "    </tr>\n",
       "    <tr>\n",
       "      <th>7.0</th>\n",
       "      <td>1</td>\n",
       "      <td>2</td>\n",
       "      <td>3</td>\n",
       "      <td>33.333333</td>\n",
       "      <td>66.666667</td>\n",
       "    </tr>\n",
       "    <tr>\n",
       "      <th>8.0</th>\n",
       "      <td>1</td>\n",
       "      <td>1</td>\n",
       "      <td>2</td>\n",
       "      <td>50.000000</td>\n",
       "      <td>50.000000</td>\n",
       "    </tr>\n",
       "    <tr>\n",
       "      <th>All</th>\n",
       "      <td>49893</td>\n",
       "      <td>266495</td>\n",
       "      <td>316388</td>\n",
       "      <td>15.769561</td>\n",
       "      <td>84.230439</td>\n",
       "    </tr>\n",
       "  </tbody>\n",
       "</table>\n",
       "</div>"
      ],
      "text/plain": [
       "loan_status           Charged Off  Fully Paid     All      pct_0      pct_1\n",
       "pub_rec_bankruptcies                                                       \n",
       "0.0                         43952      236470  280422  15.673521  84.326479\n",
       "1.0                          5604       28526   34130  16.419572  83.580428\n",
       "2.0                           263        1194    1457  18.050789  81.949211\n",
       "3.0                            49         234     283  17.314488  82.685512\n",
       "4.0                            18          43      61  29.508197  70.491803\n",
       "5.0                             3          20      23  13.043478  86.956522\n",
       "6.0                             2           5       7  28.571429  71.428571\n",
       "7.0                             1           2       3  33.333333  66.666667\n",
       "8.0                             1           1       2  50.000000  50.000000\n",
       "All                         49893      266495  316388  15.769561  84.230439"
      ]
     },
     "execution_count": 319,
     "metadata": {},
     "output_type": "execute_result"
    }
   ],
   "source": [
    "crosstab_target(df,'pub_rec_bankruptcies')"
   ]
  },
  {
   "cell_type": "markdown",
   "id": "2181acbc-0b95-4e35-9124-538b7578a4b9",
   "metadata": {},
   "source": [
    "# Categorical Features"
   ]
  },
  {
   "cell_type": "markdown",
   "id": "82642918-d149-4865-8e15-74d7e4676e6d",
   "metadata": {},
   "source": [
    "To make a quick build of the model, I will go for Ordinal Encoding for most of the categorical features, even if some are considered nominal. Because I plan to use tree-based model, and it has a capability to learn. It will also quicker to train.\n",
    "In real world scenario, we might want to comeback and experiment one-hot encoding as well, as see if it's better or not."
   ]
  },
  {
   "cell_type": "markdown",
   "id": "0ae9b0c9-baef-4864-aa69-45a2be3a4f67",
   "metadata": {},
   "source": [
    "## term"
   ]
  },
  {
   "cell_type": "code",
   "execution_count": 320,
   "id": "af947b68-9508-4b44-b150-58bb6f9c0b34",
   "metadata": {},
   "outputs": [
    {
     "data": {
      "text/html": [
       "<div>\n",
       "<style scoped>\n",
       "    .dataframe tbody tr th:only-of-type {\n",
       "        vertical-align: middle;\n",
       "    }\n",
       "\n",
       "    .dataframe tbody tr th {\n",
       "        vertical-align: top;\n",
       "    }\n",
       "\n",
       "    .dataframe thead th {\n",
       "        text-align: right;\n",
       "    }\n",
       "</style>\n",
       "<table border=\"1\" class=\"dataframe\">\n",
       "  <thead>\n",
       "    <tr style=\"text-align: right;\">\n",
       "      <th>loan_status</th>\n",
       "      <th>Charged Off</th>\n",
       "      <th>Fully Paid</th>\n",
       "      <th>All</th>\n",
       "      <th>pct_0</th>\n",
       "      <th>pct_1</th>\n",
       "    </tr>\n",
       "    <tr>\n",
       "      <th>term</th>\n",
       "      <th></th>\n",
       "      <th></th>\n",
       "      <th></th>\n",
       "      <th></th>\n",
       "      <th></th>\n",
       "    </tr>\n",
       "  </thead>\n",
       "  <tbody>\n",
       "    <tr>\n",
       "      <th>36 months</th>\n",
       "      <td>30576</td>\n",
       "      <td>213326</td>\n",
       "      <td>243902</td>\n",
       "      <td>12.536183</td>\n",
       "      <td>87.463817</td>\n",
       "    </tr>\n",
       "    <tr>\n",
       "      <th>60 months</th>\n",
       "      <td>19373</td>\n",
       "      <td>53546</td>\n",
       "      <td>72919</td>\n",
       "      <td>26.567836</td>\n",
       "      <td>73.432164</td>\n",
       "    </tr>\n",
       "    <tr>\n",
       "      <th>All</th>\n",
       "      <td>49949</td>\n",
       "      <td>266872</td>\n",
       "      <td>316821</td>\n",
       "      <td>15.765685</td>\n",
       "      <td>84.234315</td>\n",
       "    </tr>\n",
       "  </tbody>\n",
       "</table>\n",
       "</div>"
      ],
      "text/plain": [
       "loan_status  Charged Off  Fully Paid     All      pct_0      pct_1\n",
       "term                                                              \n",
       "36 months          30576      213326  243902  12.536183  87.463817\n",
       "60 months          19373       53546   72919  26.567836  73.432164\n",
       "All                49949      266872  316821  15.765685  84.234315"
      ]
     },
     "execution_count": 320,
     "metadata": {},
     "output_type": "execute_result"
    }
   ],
   "source": [
    "crosstab_target(df, 'term')"
   ]
  },
  {
   "cell_type": "code",
   "execution_count": 321,
   "id": "4b7b4e7c-0163-4a73-8df3-54c009530c91",
   "metadata": {},
   "outputs": [
    {
     "data": {
      "text/plain": [
       "36 months    243902\n",
       "60 months     72919\n",
       "Name: term, dtype: int64"
      ]
     },
     "execution_count": 321,
     "metadata": {},
     "output_type": "execute_result"
    }
   ],
   "source": [
    "categories = ['36 months','60 months']\n",
    "ordered = True\n",
    "cat = pd.CategoricalDtype(categories=categories, ordered=ordered)\n",
    "df.term = df.term.astype(cat)\n",
    "df.term.value_counts()"
   ]
  },
  {
   "cell_type": "markdown",
   "id": "5eb371ce-2dce-4c40-8c15-1e64844fc934",
   "metadata": {},
   "source": [
    "## grade"
   ]
  },
  {
   "cell_type": "code",
   "execution_count": 322,
   "id": "e97278d7-1f49-4f01-983e-e7138170dd63",
   "metadata": {},
   "outputs": [
    {
     "data": {
      "text/html": [
       "<div>\n",
       "<style scoped>\n",
       "    .dataframe tbody tr th:only-of-type {\n",
       "        vertical-align: middle;\n",
       "    }\n",
       "\n",
       "    .dataframe tbody tr th {\n",
       "        vertical-align: top;\n",
       "    }\n",
       "\n",
       "    .dataframe thead th {\n",
       "        text-align: right;\n",
       "    }\n",
       "</style>\n",
       "<table border=\"1\" class=\"dataframe\">\n",
       "  <thead>\n",
       "    <tr style=\"text-align: right;\">\n",
       "      <th>loan_status</th>\n",
       "      <th>Charged Off</th>\n",
       "      <th>Fully Paid</th>\n",
       "      <th>All</th>\n",
       "      <th>pct_0</th>\n",
       "      <th>pct_1</th>\n",
       "    </tr>\n",
       "    <tr>\n",
       "      <th>grade</th>\n",
       "      <th></th>\n",
       "      <th></th>\n",
       "      <th></th>\n",
       "      <th></th>\n",
       "      <th></th>\n",
       "    </tr>\n",
       "  </thead>\n",
       "  <tbody>\n",
       "    <tr>\n",
       "      <th>A</th>\n",
       "      <td>2560</td>\n",
       "      <td>50435</td>\n",
       "      <td>52995</td>\n",
       "      <td>4.830644</td>\n",
       "      <td>95.169356</td>\n",
       "    </tr>\n",
       "    <tr>\n",
       "      <th>B</th>\n",
       "      <td>9374</td>\n",
       "      <td>85258</td>\n",
       "      <td>94632</td>\n",
       "      <td>9.905740</td>\n",
       "      <td>90.094260</td>\n",
       "    </tr>\n",
       "    <tr>\n",
       "      <th>C</th>\n",
       "      <td>14434</td>\n",
       "      <td>69846</td>\n",
       "      <td>84280</td>\n",
       "      <td>17.126246</td>\n",
       "      <td>82.873754</td>\n",
       "    </tr>\n",
       "    <tr>\n",
       "      <th>D</th>\n",
       "      <td>11794</td>\n",
       "      <td>37795</td>\n",
       "      <td>49589</td>\n",
       "      <td>23.783500</td>\n",
       "      <td>76.216500</td>\n",
       "    </tr>\n",
       "    <tr>\n",
       "      <th>E</th>\n",
       "      <td>7624</td>\n",
       "      <td>16580</td>\n",
       "      <td>24204</td>\n",
       "      <td>31.498926</td>\n",
       "      <td>68.501074</td>\n",
       "    </tr>\n",
       "    <tr>\n",
       "      <th>F</th>\n",
       "      <td>3220</td>\n",
       "      <td>5640</td>\n",
       "      <td>8860</td>\n",
       "      <td>36.343115</td>\n",
       "      <td>63.656885</td>\n",
       "    </tr>\n",
       "    <tr>\n",
       "      <th>G</th>\n",
       "      <td>943</td>\n",
       "      <td>1318</td>\n",
       "      <td>2261</td>\n",
       "      <td>41.707209</td>\n",
       "      <td>58.292791</td>\n",
       "    </tr>\n",
       "    <tr>\n",
       "      <th>All</th>\n",
       "      <td>49949</td>\n",
       "      <td>266872</td>\n",
       "      <td>316821</td>\n",
       "      <td>15.765685</td>\n",
       "      <td>84.234315</td>\n",
       "    </tr>\n",
       "  </tbody>\n",
       "</table>\n",
       "</div>"
      ],
      "text/plain": [
       "loan_status  Charged Off  Fully Paid     All      pct_0      pct_1\n",
       "grade                                                             \n",
       "A                   2560       50435   52995   4.830644  95.169356\n",
       "B                   9374       85258   94632   9.905740  90.094260\n",
       "C                  14434       69846   84280  17.126246  82.873754\n",
       "D                  11794       37795   49589  23.783500  76.216500\n",
       "E                   7624       16580   24204  31.498926  68.501074\n",
       "F                   3220        5640    8860  36.343115  63.656885\n",
       "G                    943        1318    2261  41.707209  58.292791\n",
       "All                49949      266872  316821  15.765685  84.234315"
      ]
     },
     "execution_count": 322,
     "metadata": {},
     "output_type": "execute_result"
    }
   ],
   "source": [
    "crosstab_target(df, 'grade')"
   ]
  },
  {
   "cell_type": "code",
   "execution_count": 323,
   "id": "6912db00-4491-4133-8be1-15b65c5c6fcb",
   "metadata": {},
   "outputs": [
    {
     "data": {
      "text/plain": [
       "B    94632\n",
       "C    84280\n",
       "A    52995\n",
       "D    49589\n",
       "E    24204\n",
       "F     8860\n",
       "G     2261\n",
       "Name: grade, dtype: int64"
      ]
     },
     "execution_count": 323,
     "metadata": {},
     "output_type": "execute_result"
    }
   ],
   "source": [
    "col = 'grade'\n",
    "categories = ['A', 'B', 'C', 'D', 'E', 'F', 'G']\n",
    "ordered = True\n",
    "cat = pd.CategoricalDtype(categories=categories, ordered=ordered)\n",
    "df[col] = df[col].astype(cat)\n",
    "df[col].value_counts(dropna=False)"
   ]
  },
  {
   "cell_type": "markdown",
   "id": "3748e021-9970-430d-bebc-969efc086afa",
   "metadata": {},
   "source": [
    "## sub_grade"
   ]
  },
  {
   "cell_type": "code",
   "execution_count": 324,
   "id": "62e21989-f313-4e64-acdc-67fe89be0e2a",
   "metadata": {},
   "outputs": [
    {
     "data": {
      "text/html": [
       "<div>\n",
       "<style scoped>\n",
       "    .dataframe tbody tr th:only-of-type {\n",
       "        vertical-align: middle;\n",
       "    }\n",
       "\n",
       "    .dataframe tbody tr th {\n",
       "        vertical-align: top;\n",
       "    }\n",
       "\n",
       "    .dataframe thead th {\n",
       "        text-align: right;\n",
       "    }\n",
       "</style>\n",
       "<table border=\"1\" class=\"dataframe\">\n",
       "  <thead>\n",
       "    <tr style=\"text-align: right;\">\n",
       "      <th>loan_status</th>\n",
       "      <th>Charged Off</th>\n",
       "      <th>Fully Paid</th>\n",
       "      <th>All</th>\n",
       "      <th>pct_0</th>\n",
       "      <th>pct_1</th>\n",
       "    </tr>\n",
       "    <tr>\n",
       "      <th>sub_grade</th>\n",
       "      <th></th>\n",
       "      <th></th>\n",
       "      <th></th>\n",
       "      <th></th>\n",
       "      <th></th>\n",
       "    </tr>\n",
       "  </thead>\n",
       "  <tbody>\n",
       "    <tr>\n",
       "      <th>A1</th>\n",
       "      <td>177</td>\n",
       "      <td>7933</td>\n",
       "      <td>8110</td>\n",
       "      <td>2.182491</td>\n",
       "      <td>97.817509</td>\n",
       "    </tr>\n",
       "    <tr>\n",
       "      <th>A2</th>\n",
       "      <td>289</td>\n",
       "      <td>7535</td>\n",
       "      <td>7824</td>\n",
       "      <td>3.693763</td>\n",
       "      <td>96.306237</td>\n",
       "    </tr>\n",
       "    <tr>\n",
       "      <th>A3</th>\n",
       "      <td>405</td>\n",
       "      <td>8361</td>\n",
       "      <td>8766</td>\n",
       "      <td>4.620123</td>\n",
       "      <td>95.379877</td>\n",
       "    </tr>\n",
       "    <tr>\n",
       "      <th>A4</th>\n",
       "      <td>713</td>\n",
       "      <td>12370</td>\n",
       "      <td>13083</td>\n",
       "      <td>5.449820</td>\n",
       "      <td>94.550180</td>\n",
       "    </tr>\n",
       "    <tr>\n",
       "      <th>A5</th>\n",
       "      <td>976</td>\n",
       "      <td>14236</td>\n",
       "      <td>15212</td>\n",
       "      <td>6.415987</td>\n",
       "      <td>93.584013</td>\n",
       "    </tr>\n",
       "    <tr>\n",
       "      <th>B1</th>\n",
       "      <td>1221</td>\n",
       "      <td>14565</td>\n",
       "      <td>15786</td>\n",
       "      <td>7.734702</td>\n",
       "      <td>92.265298</td>\n",
       "    </tr>\n",
       "    <tr>\n",
       "      <th>B2</th>\n",
       "      <td>1573</td>\n",
       "      <td>16776</td>\n",
       "      <td>18349</td>\n",
       "      <td>8.572674</td>\n",
       "      <td>91.427326</td>\n",
       "    </tr>\n",
       "    <tr>\n",
       "      <th>B3</th>\n",
       "      <td>2086</td>\n",
       "      <td>19684</td>\n",
       "      <td>21770</td>\n",
       "      <td>9.581994</td>\n",
       "      <td>90.418006</td>\n",
       "    </tr>\n",
       "    <tr>\n",
       "      <th>B4</th>\n",
       "      <td>2343</td>\n",
       "      <td>18581</td>\n",
       "      <td>20924</td>\n",
       "      <td>11.197668</td>\n",
       "      <td>88.802332</td>\n",
       "    </tr>\n",
       "    <tr>\n",
       "      <th>B5</th>\n",
       "      <td>2151</td>\n",
       "      <td>15652</td>\n",
       "      <td>17803</td>\n",
       "      <td>12.082233</td>\n",
       "      <td>87.917767</td>\n",
       "    </tr>\n",
       "    <tr>\n",
       "      <th>C1</th>\n",
       "      <td>2622</td>\n",
       "      <td>16317</td>\n",
       "      <td>18939</td>\n",
       "      <td>13.844448</td>\n",
       "      <td>86.155552</td>\n",
       "    </tr>\n",
       "    <tr>\n",
       "      <th>C2</th>\n",
       "      <td>2817</td>\n",
       "      <td>15185</td>\n",
       "      <td>18002</td>\n",
       "      <td>15.648261</td>\n",
       "      <td>84.351739</td>\n",
       "    </tr>\n",
       "    <tr>\n",
       "      <th>C3</th>\n",
       "      <td>3032</td>\n",
       "      <td>13883</td>\n",
       "      <td>16915</td>\n",
       "      <td>17.924919</td>\n",
       "      <td>82.075081</td>\n",
       "    </tr>\n",
       "    <tr>\n",
       "      <th>C4</th>\n",
       "      <td>3063</td>\n",
       "      <td>12928</td>\n",
       "      <td>15991</td>\n",
       "      <td>19.154524</td>\n",
       "      <td>80.845476</td>\n",
       "    </tr>\n",
       "    <tr>\n",
       "      <th>C5</th>\n",
       "      <td>2900</td>\n",
       "      <td>11533</td>\n",
       "      <td>14433</td>\n",
       "      <td>20.092843</td>\n",
       "      <td>79.907157</td>\n",
       "    </tr>\n",
       "    <tr>\n",
       "      <th>D1</th>\n",
       "      <td>2758</td>\n",
       "      <td>9907</td>\n",
       "      <td>12665</td>\n",
       "      <td>21.776550</td>\n",
       "      <td>78.223450</td>\n",
       "    </tr>\n",
       "    <tr>\n",
       "      <th>D2</th>\n",
       "      <td>2494</td>\n",
       "      <td>8380</td>\n",
       "      <td>10874</td>\n",
       "      <td>22.935442</td>\n",
       "      <td>77.064558</td>\n",
       "    </tr>\n",
       "    <tr>\n",
       "      <th>D3</th>\n",
       "      <td>2207</td>\n",
       "      <td>7291</td>\n",
       "      <td>9498</td>\n",
       "      <td>23.236471</td>\n",
       "      <td>76.763529</td>\n",
       "    </tr>\n",
       "    <tr>\n",
       "      <th>D4</th>\n",
       "      <td>2363</td>\n",
       "      <td>6682</td>\n",
       "      <td>9045</td>\n",
       "      <td>26.124931</td>\n",
       "      <td>73.875069</td>\n",
       "    </tr>\n",
       "    <tr>\n",
       "      <th>D5</th>\n",
       "      <td>1972</td>\n",
       "      <td>5535</td>\n",
       "      <td>7507</td>\n",
       "      <td>26.268816</td>\n",
       "      <td>73.731184</td>\n",
       "    </tr>\n",
       "    <tr>\n",
       "      <th>E1</th>\n",
       "      <td>1722</td>\n",
       "      <td>4374</td>\n",
       "      <td>6096</td>\n",
       "      <td>28.248031</td>\n",
       "      <td>71.751969</td>\n",
       "    </tr>\n",
       "    <tr>\n",
       "      <th>E2</th>\n",
       "      <td>1742</td>\n",
       "      <td>3937</td>\n",
       "      <td>5679</td>\n",
       "      <td>30.674415</td>\n",
       "      <td>69.325585</td>\n",
       "    </tr>\n",
       "    <tr>\n",
       "      <th>E3</th>\n",
       "      <td>1542</td>\n",
       "      <td>3277</td>\n",
       "      <td>4819</td>\n",
       "      <td>31.998340</td>\n",
       "      <td>68.001660</td>\n",
       "    </tr>\n",
       "    <tr>\n",
       "      <th>E4</th>\n",
       "      <td>1415</td>\n",
       "      <td>2711</td>\n",
       "      <td>4126</td>\n",
       "      <td>34.294716</td>\n",
       "      <td>65.705284</td>\n",
       "    </tr>\n",
       "    <tr>\n",
       "      <th>E5</th>\n",
       "      <td>1203</td>\n",
       "      <td>2281</td>\n",
       "      <td>3484</td>\n",
       "      <td>34.529277</td>\n",
       "      <td>65.470723</td>\n",
       "    </tr>\n",
       "    <tr>\n",
       "      <th>F1</th>\n",
       "      <td>897</td>\n",
       "      <td>1832</td>\n",
       "      <td>2729</td>\n",
       "      <td>32.869183</td>\n",
       "      <td>67.130817</td>\n",
       "    </tr>\n",
       "    <tr>\n",
       "      <th>F2</th>\n",
       "      <td>782</td>\n",
       "      <td>1324</td>\n",
       "      <td>2106</td>\n",
       "      <td>37.132004</td>\n",
       "      <td>62.867996</td>\n",
       "    </tr>\n",
       "    <tr>\n",
       "      <th>F3</th>\n",
       "      <td>618</td>\n",
       "      <td>1074</td>\n",
       "      <td>1692</td>\n",
       "      <td>36.524823</td>\n",
       "      <td>63.475177</td>\n",
       "    </tr>\n",
       "    <tr>\n",
       "      <th>F4</th>\n",
       "      <td>489</td>\n",
       "      <td>808</td>\n",
       "      <td>1297</td>\n",
       "      <td>37.702390</td>\n",
       "      <td>62.297610</td>\n",
       "    </tr>\n",
       "    <tr>\n",
       "      <th>F5</th>\n",
       "      <td>434</td>\n",
       "      <td>602</td>\n",
       "      <td>1036</td>\n",
       "      <td>41.891892</td>\n",
       "      <td>58.108108</td>\n",
       "    </tr>\n",
       "    <tr>\n",
       "      <th>G1</th>\n",
       "      <td>311</td>\n",
       "      <td>474</td>\n",
       "      <td>785</td>\n",
       "      <td>39.617834</td>\n",
       "      <td>60.382166</td>\n",
       "    </tr>\n",
       "    <tr>\n",
       "      <th>G2</th>\n",
       "      <td>225</td>\n",
       "      <td>320</td>\n",
       "      <td>545</td>\n",
       "      <td>41.284404</td>\n",
       "      <td>58.715596</td>\n",
       "    </tr>\n",
       "    <tr>\n",
       "      <th>G3</th>\n",
       "      <td>185</td>\n",
       "      <td>216</td>\n",
       "      <td>401</td>\n",
       "      <td>46.134663</td>\n",
       "      <td>53.865337</td>\n",
       "    </tr>\n",
       "    <tr>\n",
       "      <th>G4</th>\n",
       "      <td>106</td>\n",
       "      <td>171</td>\n",
       "      <td>277</td>\n",
       "      <td>38.267148</td>\n",
       "      <td>61.732852</td>\n",
       "    </tr>\n",
       "    <tr>\n",
       "      <th>G5</th>\n",
       "      <td>116</td>\n",
       "      <td>137</td>\n",
       "      <td>253</td>\n",
       "      <td>45.849802</td>\n",
       "      <td>54.150198</td>\n",
       "    </tr>\n",
       "    <tr>\n",
       "      <th>All</th>\n",
       "      <td>49949</td>\n",
       "      <td>266872</td>\n",
       "      <td>316821</td>\n",
       "      <td>15.765685</td>\n",
       "      <td>84.234315</td>\n",
       "    </tr>\n",
       "  </tbody>\n",
       "</table>\n",
       "</div>"
      ],
      "text/plain": [
       "loan_status  Charged Off  Fully Paid     All      pct_0      pct_1\n",
       "sub_grade                                                         \n",
       "A1                   177        7933    8110   2.182491  97.817509\n",
       "A2                   289        7535    7824   3.693763  96.306237\n",
       "A3                   405        8361    8766   4.620123  95.379877\n",
       "A4                   713       12370   13083   5.449820  94.550180\n",
       "A5                   976       14236   15212   6.415987  93.584013\n",
       "B1                  1221       14565   15786   7.734702  92.265298\n",
       "B2                  1573       16776   18349   8.572674  91.427326\n",
       "B3                  2086       19684   21770   9.581994  90.418006\n",
       "B4                  2343       18581   20924  11.197668  88.802332\n",
       "B5                  2151       15652   17803  12.082233  87.917767\n",
       "C1                  2622       16317   18939  13.844448  86.155552\n",
       "C2                  2817       15185   18002  15.648261  84.351739\n",
       "C3                  3032       13883   16915  17.924919  82.075081\n",
       "C4                  3063       12928   15991  19.154524  80.845476\n",
       "C5                  2900       11533   14433  20.092843  79.907157\n",
       "D1                  2758        9907   12665  21.776550  78.223450\n",
       "D2                  2494        8380   10874  22.935442  77.064558\n",
       "D3                  2207        7291    9498  23.236471  76.763529\n",
       "D4                  2363        6682    9045  26.124931  73.875069\n",
       "D5                  1972        5535    7507  26.268816  73.731184\n",
       "E1                  1722        4374    6096  28.248031  71.751969\n",
       "E2                  1742        3937    5679  30.674415  69.325585\n",
       "E3                  1542        3277    4819  31.998340  68.001660\n",
       "E4                  1415        2711    4126  34.294716  65.705284\n",
       "E5                  1203        2281    3484  34.529277  65.470723\n",
       "F1                   897        1832    2729  32.869183  67.130817\n",
       "F2                   782        1324    2106  37.132004  62.867996\n",
       "F3                   618        1074    1692  36.524823  63.475177\n",
       "F4                   489         808    1297  37.702390  62.297610\n",
       "F5                   434         602    1036  41.891892  58.108108\n",
       "G1                   311         474     785  39.617834  60.382166\n",
       "G2                   225         320     545  41.284404  58.715596\n",
       "G3                   185         216     401  46.134663  53.865337\n",
       "G4                   106         171     277  38.267148  61.732852\n",
       "G5                   116         137     253  45.849802  54.150198\n",
       "All                49949      266872  316821  15.765685  84.234315"
      ]
     },
     "execution_count": 324,
     "metadata": {},
     "output_type": "execute_result"
    }
   ],
   "source": [
    "crosstab_target(df, 'sub_grade')"
   ]
  },
  {
   "cell_type": "code",
   "execution_count": 325,
   "id": "ee7fd93a-c5f2-4cea-92ba-3add92716983",
   "metadata": {},
   "outputs": [
    {
     "data": {
      "text/plain": [
       "B3    21770\n",
       "B4    20924\n",
       "C1    18939\n",
       "B2    18349\n",
       "C2    18002\n",
       "B5    17803\n",
       "C3    16915\n",
       "C4    15991\n",
       "B1    15786\n",
       "A5    15212\n",
       "C5    14433\n",
       "A4    13083\n",
       "D1    12665\n",
       "D2    10874\n",
       "D3     9498\n",
       "D4     9045\n",
       "A3     8766\n",
       "A1     8110\n",
       "A2     7824\n",
       "D5     7507\n",
       "E1     6096\n",
       "E2     5679\n",
       "E3     4819\n",
       "E4     4126\n",
       "E5     3484\n",
       "F1     2729\n",
       "F2     2106\n",
       "F3     1692\n",
       "F4     1297\n",
       "F5     1036\n",
       "G1      785\n",
       "G2      545\n",
       "G3      401\n",
       "G4      277\n",
       "G5      253\n",
       "Name: sub_grade, dtype: int64"
      ]
     },
     "execution_count": 325,
     "metadata": {},
     "output_type": "execute_result"
    }
   ],
   "source": [
    "col = 'sub_grade'\n",
    "cat = pd.CategoricalDtype(ordered=True)\n",
    "df[col] = df[col].astype(cat)\n",
    "df[col].value_counts(dropna=False)"
   ]
  },
  {
   "cell_type": "markdown",
   "id": "99e8dfd8-9c49-4fe0-8d04-cc16e4417694",
   "metadata": {},
   "source": [
    "## emp_length"
   ]
  },
  {
   "cell_type": "code",
   "execution_count": 326,
   "id": "d6dd3093-9163-42b5-b1b0-8a4769214a11",
   "metadata": {},
   "outputs": [],
   "source": [
    "col = 'emp_length'\n",
    "categories = ['', '< 1 year', '1 year', '2 years', '3 years', '4 years', '5 years', \n",
    "            '6 years', '7 years', '8 years','9 years', '10+ years']\n",
    "ordered = True\n",
    "df[col] = df[col].astype(pd.CategoricalDtype(categories=categories, ordered=ordered))"
   ]
  },
  {
   "cell_type": "code",
   "execution_count": 327,
   "id": "3968ae1e-85ef-487f-afbd-96b44b384dd5",
   "metadata": {},
   "outputs": [
    {
     "data": {
      "text/html": [
       "<div>\n",
       "<style scoped>\n",
       "    .dataframe tbody tr th:only-of-type {\n",
       "        vertical-align: middle;\n",
       "    }\n",
       "\n",
       "    .dataframe tbody tr th {\n",
       "        vertical-align: top;\n",
       "    }\n",
       "\n",
       "    .dataframe thead th {\n",
       "        text-align: right;\n",
       "    }\n",
       "</style>\n",
       "<table border=\"1\" class=\"dataframe\">\n",
       "  <thead>\n",
       "    <tr style=\"text-align: right;\">\n",
       "      <th>loan_status</th>\n",
       "      <th>Charged Off</th>\n",
       "      <th>Fully Paid</th>\n",
       "      <th>All</th>\n",
       "      <th>pct_0</th>\n",
       "      <th>pct_1</th>\n",
       "    </tr>\n",
       "    <tr>\n",
       "      <th>emp_length</th>\n",
       "      <th></th>\n",
       "      <th></th>\n",
       "      <th></th>\n",
       "      <th></th>\n",
       "      <th></th>\n",
       "    </tr>\n",
       "  </thead>\n",
       "  <tbody>\n",
       "    <tr>\n",
       "      <th></th>\n",
       "      <td>3256</td>\n",
       "      <td>11076</td>\n",
       "      <td>14332</td>\n",
       "      <td>22.718392</td>\n",
       "      <td>77.281608</td>\n",
       "    </tr>\n",
       "    <tr>\n",
       "      <th>&lt; 1 year</th>\n",
       "      <td>4204</td>\n",
       "      <td>21051</td>\n",
       "      <td>25255</td>\n",
       "      <td>16.646209</td>\n",
       "      <td>83.353791</td>\n",
       "    </tr>\n",
       "    <tr>\n",
       "      <th>1 year</th>\n",
       "      <td>3361</td>\n",
       "      <td>17315</td>\n",
       "      <td>20676</td>\n",
       "      <td>16.255562</td>\n",
       "      <td>83.744438</td>\n",
       "    </tr>\n",
       "    <tr>\n",
       "      <th>2 years</th>\n",
       "      <td>4449</td>\n",
       "      <td>24283</td>\n",
       "      <td>28732</td>\n",
       "      <td>15.484477</td>\n",
       "      <td>84.515523</td>\n",
       "    </tr>\n",
       "    <tr>\n",
       "      <th>3 years</th>\n",
       "      <td>3950</td>\n",
       "      <td>21405</td>\n",
       "      <td>25355</td>\n",
       "      <td>15.578781</td>\n",
       "      <td>84.421219</td>\n",
       "    </tr>\n",
       "    <tr>\n",
       "      <th>4 years</th>\n",
       "      <td>2962</td>\n",
       "      <td>16271</td>\n",
       "      <td>19233</td>\n",
       "      <td>15.400614</td>\n",
       "      <td>84.599386</td>\n",
       "    </tr>\n",
       "    <tr>\n",
       "      <th>5 years</th>\n",
       "      <td>3298</td>\n",
       "      <td>17986</td>\n",
       "      <td>21284</td>\n",
       "      <td>15.495208</td>\n",
       "      <td>84.504792</td>\n",
       "    </tr>\n",
       "    <tr>\n",
       "      <th>6 years</th>\n",
       "      <td>2513</td>\n",
       "      <td>14195</td>\n",
       "      <td>16708</td>\n",
       "      <td>15.040699</td>\n",
       "      <td>84.959301</td>\n",
       "    </tr>\n",
       "    <tr>\n",
       "      <th>7 years</th>\n",
       "      <td>2604</td>\n",
       "      <td>13940</td>\n",
       "      <td>16544</td>\n",
       "      <td>15.739845</td>\n",
       "      <td>84.260155</td>\n",
       "    </tr>\n",
       "    <tr>\n",
       "      <th>8 years</th>\n",
       "      <td>2462</td>\n",
       "      <td>12950</td>\n",
       "      <td>15412</td>\n",
       "      <td>15.974565</td>\n",
       "      <td>84.025435</td>\n",
       "    </tr>\n",
       "    <tr>\n",
       "      <th>9 years</th>\n",
       "      <td>1934</td>\n",
       "      <td>10225</td>\n",
       "      <td>12159</td>\n",
       "      <td>15.905913</td>\n",
       "      <td>84.094087</td>\n",
       "    </tr>\n",
       "    <tr>\n",
       "      <th>10+ years</th>\n",
       "      <td>14956</td>\n",
       "      <td>86175</td>\n",
       "      <td>101131</td>\n",
       "      <td>14.788739</td>\n",
       "      <td>85.211261</td>\n",
       "    </tr>\n",
       "    <tr>\n",
       "      <th>All</th>\n",
       "      <td>49949</td>\n",
       "      <td>266872</td>\n",
       "      <td>316821</td>\n",
       "      <td>15.765685</td>\n",
       "      <td>84.234315</td>\n",
       "    </tr>\n",
       "  </tbody>\n",
       "</table>\n",
       "</div>"
      ],
      "text/plain": [
       "loan_status  Charged Off  Fully Paid     All      pct_0      pct_1\n",
       "emp_length                                                        \n",
       "                    3256       11076   14332  22.718392  77.281608\n",
       "< 1 year            4204       21051   25255  16.646209  83.353791\n",
       "1 year              3361       17315   20676  16.255562  83.744438\n",
       "2 years             4449       24283   28732  15.484477  84.515523\n",
       "3 years             3950       21405   25355  15.578781  84.421219\n",
       "4 years             2962       16271   19233  15.400614  84.599386\n",
       "5 years             3298       17986   21284  15.495208  84.504792\n",
       "6 years             2513       14195   16708  15.040699  84.959301\n",
       "7 years             2604       13940   16544  15.739845  84.260155\n",
       "8 years             2462       12950   15412  15.974565  84.025435\n",
       "9 years             1934       10225   12159  15.905913  84.094087\n",
       "10+ years          14956       86175  101131  14.788739  85.211261\n",
       "All                49949      266872  316821  15.765685  84.234315"
      ]
     },
     "execution_count": 327,
     "metadata": {},
     "output_type": "execute_result"
    }
   ],
   "source": [
    "crosstab_target(df, col)"
   ]
  },
  {
   "cell_type": "markdown",
   "id": "18642daf-ba38-459b-bd66-b1def8e2f351",
   "metadata": {},
   "source": [
    "## home_ownership"
   ]
  },
  {
   "cell_type": "markdown",
   "id": "ac9e0e52-83fd-44fd-a9ec-19447a4572bc",
   "metadata": {},
   "source": [
    "According to the data dict, there should be only `MORTGAGE, OWN, RENT, OTHER`"
   ]
  },
  {
   "cell_type": "code",
   "execution_count": 328,
   "id": "53300a79-d2f4-43ed-b0bd-bcb08f57c594",
   "metadata": {},
   "outputs": [
    {
     "data": {
      "text/plain": [
       "MORTGAGE    0.503972\n",
       "RENT        0.400722\n",
       "OWN         0.094934\n",
       "OTHER       0.000372\n",
       "Name: home_ownership, dtype: float64"
      ]
     },
     "execution_count": 328,
     "metadata": {},
     "output_type": "execute_result"
    }
   ],
   "source": [
    "df.home_ownership = df.home_ownership.replace({'ANY':'OTHER','NONE':'OTHER'})\n",
    "df.home_ownership.value_counts(normalize=True)"
   ]
  },
  {
   "cell_type": "code",
   "execution_count": 329,
   "id": "5a492740-6241-4125-898d-617d9aa1c322",
   "metadata": {},
   "outputs": [
    {
     "data": {
      "text/html": [
       "<div>\n",
       "<style scoped>\n",
       "    .dataframe tbody tr th:only-of-type {\n",
       "        vertical-align: middle;\n",
       "    }\n",
       "\n",
       "    .dataframe tbody tr th {\n",
       "        vertical-align: top;\n",
       "    }\n",
       "\n",
       "    .dataframe thead th {\n",
       "        text-align: right;\n",
       "    }\n",
       "</style>\n",
       "<table border=\"1\" class=\"dataframe\">\n",
       "  <thead>\n",
       "    <tr style=\"text-align: right;\">\n",
       "      <th>loan_status</th>\n",
       "      <th>Charged Off</th>\n",
       "      <th>Fully Paid</th>\n",
       "      <th>All</th>\n",
       "      <th>pct_0</th>\n",
       "      <th>pct_1</th>\n",
       "    </tr>\n",
       "    <tr>\n",
       "      <th>home_ownership</th>\n",
       "      <th></th>\n",
       "      <th></th>\n",
       "      <th></th>\n",
       "      <th></th>\n",
       "      <th></th>\n",
       "    </tr>\n",
       "  </thead>\n",
       "  <tbody>\n",
       "    <tr>\n",
       "      <th>RENT</th>\n",
       "      <td>23277</td>\n",
       "      <td>103680</td>\n",
       "      <td>126957</td>\n",
       "      <td>18.334554</td>\n",
       "      <td>81.665446</td>\n",
       "    </tr>\n",
       "    <tr>\n",
       "      <th>OWN</th>\n",
       "      <td>5055</td>\n",
       "      <td>25022</td>\n",
       "      <td>30077</td>\n",
       "      <td>16.806862</td>\n",
       "      <td>83.193138</td>\n",
       "    </tr>\n",
       "    <tr>\n",
       "      <th>All</th>\n",
       "      <td>49949</td>\n",
       "      <td>266872</td>\n",
       "      <td>316821</td>\n",
       "      <td>15.765685</td>\n",
       "      <td>84.234315</td>\n",
       "    </tr>\n",
       "    <tr>\n",
       "      <th>MORTGAGE</th>\n",
       "      <td>21602</td>\n",
       "      <td>138067</td>\n",
       "      <td>159669</td>\n",
       "      <td>13.529239</td>\n",
       "      <td>86.470761</td>\n",
       "    </tr>\n",
       "    <tr>\n",
       "      <th>OTHER</th>\n",
       "      <td>15</td>\n",
       "      <td>103</td>\n",
       "      <td>118</td>\n",
       "      <td>12.711864</td>\n",
       "      <td>87.288136</td>\n",
       "    </tr>\n",
       "  </tbody>\n",
       "</table>\n",
       "</div>"
      ],
      "text/plain": [
       "loan_status     Charged Off  Fully Paid     All      pct_0      pct_1\n",
       "home_ownership                                                       \n",
       "RENT                  23277      103680  126957  18.334554  81.665446\n",
       "OWN                    5055       25022   30077  16.806862  83.193138\n",
       "All                   49949      266872  316821  15.765685  84.234315\n",
       "MORTGAGE              21602      138067  159669  13.529239  86.470761\n",
       "OTHER                    15         103     118  12.711864  87.288136"
      ]
     },
     "execution_count": 329,
     "metadata": {},
     "output_type": "execute_result"
    }
   ],
   "source": [
    "crosstab_target(df, 'home_ownership').sort_values('pct_1')"
   ]
  },
  {
   "cell_type": "code",
   "execution_count": 330,
   "id": "2fad0c6e-d138-48b6-88a5-f5ff723cfed2",
   "metadata": {},
   "outputs": [
    {
     "data": {
      "text/plain": [
       "0         MORTGAGE\n",
       "1              OWN\n",
       "2             RENT\n",
       "3             RENT\n",
       "4         MORTGAGE\n",
       "            ...   \n",
       "316817        RENT\n",
       "316818        RENT\n",
       "316819    MORTGAGE\n",
       "316820        RENT\n",
       "316821    MORTGAGE\n",
       "Name: home_ownership, Length: 316821, dtype: category\n",
       "Categories (4, object): ['RENT', 'OWN', 'MORTGAGE', 'OTHER']"
      ]
     },
     "execution_count": 330,
     "metadata": {},
     "output_type": "execute_result"
    }
   ],
   "source": [
    "col = 'home_ownership'\n",
    "categories = ['RENT','OWN','MORTGAGE','OTHER']\n",
    "df[col] = df[col].astype(pd.CategoricalDtype(categories=categories))\n",
    "df[col]"
   ]
  },
  {
   "cell_type": "markdown",
   "id": "40f8ea18-cda9-4efe-8fa7-ccfe14776e1d",
   "metadata": {},
   "source": [
    "### home_rent, home_own, home_mortgage"
   ]
  },
  {
   "cell_type": "code",
   "execution_count": 331,
   "id": "6209a42e-515c-472c-9ad5-75d3c0b2b060",
   "metadata": {},
   "outputs": [],
   "source": [
    "df['home_rent'] = (df.home_ownership=='RENT').astype('int')\n",
    "df['home_own'] = (df.home_ownership=='OWN').astype('int')\n",
    "df['home_mortgage'] = (df.home_ownership=='MORTGAGE').astype('int')"
   ]
  },
  {
   "cell_type": "code",
   "execution_count": 332,
   "id": "a9adb8c6-7fef-4b73-915f-ca011806c9f9",
   "metadata": {},
   "outputs": [
    {
     "data": {
      "text/plain": [
       "(0.40072154307953073, 0.09493373229678588, 0.5039722745651329)"
      ]
     },
     "execution_count": 332,
     "metadata": {},
     "output_type": "execute_result"
    }
   ],
   "source": [
    "df.home_rent.mean(), df.home_own.mean(), df.home_mortgage.mean()"
   ]
  },
  {
   "cell_type": "markdown",
   "id": "82fdcde2-275e-4ca9-823b-88aa409b9d67",
   "metadata": {},
   "source": [
    "## verification_status"
   ]
  },
  {
   "cell_type": "code",
   "execution_count": 333,
   "id": "11ee14ea-e902-4fd2-8f49-b7c6b307e6fa",
   "metadata": {},
   "outputs": [
    {
     "data": {
      "text/html": [
       "<div>\n",
       "<style scoped>\n",
       "    .dataframe tbody tr th:only-of-type {\n",
       "        vertical-align: middle;\n",
       "    }\n",
       "\n",
       "    .dataframe tbody tr th {\n",
       "        vertical-align: top;\n",
       "    }\n",
       "\n",
       "    .dataframe thead th {\n",
       "        text-align: right;\n",
       "    }\n",
       "</style>\n",
       "<table border=\"1\" class=\"dataframe\">\n",
       "  <thead>\n",
       "    <tr style=\"text-align: right;\">\n",
       "      <th>loan_status</th>\n",
       "      <th>Charged Off</th>\n",
       "      <th>Fully Paid</th>\n",
       "      <th>All</th>\n",
       "      <th>pct_0</th>\n",
       "      <th>pct_1</th>\n",
       "    </tr>\n",
       "    <tr>\n",
       "      <th>verification_status</th>\n",
       "      <th></th>\n",
       "      <th></th>\n",
       "      <th></th>\n",
       "      <th></th>\n",
       "      <th></th>\n",
       "    </tr>\n",
       "  </thead>\n",
       "  <tbody>\n",
       "    <tr>\n",
       "      <th>Not Verified</th>\n",
       "      <td>11808</td>\n",
       "      <td>89779</td>\n",
       "      <td>101587</td>\n",
       "      <td>11.623535</td>\n",
       "      <td>88.376465</td>\n",
       "    </tr>\n",
       "    <tr>\n",
       "      <th>Source Verified</th>\n",
       "      <td>18174</td>\n",
       "      <td>86410</td>\n",
       "      <td>104584</td>\n",
       "      <td>17.377419</td>\n",
       "      <td>82.622581</td>\n",
       "    </tr>\n",
       "    <tr>\n",
       "      <th>Verified</th>\n",
       "      <td>19967</td>\n",
       "      <td>90683</td>\n",
       "      <td>110650</td>\n",
       "      <td>18.045188</td>\n",
       "      <td>81.954812</td>\n",
       "    </tr>\n",
       "    <tr>\n",
       "      <th>All</th>\n",
       "      <td>49949</td>\n",
       "      <td>266872</td>\n",
       "      <td>316821</td>\n",
       "      <td>15.765685</td>\n",
       "      <td>84.234315</td>\n",
       "    </tr>\n",
       "  </tbody>\n",
       "</table>\n",
       "</div>"
      ],
      "text/plain": [
       "loan_status          Charged Off  Fully Paid     All      pct_0      pct_1\n",
       "verification_status                                                       \n",
       "Not Verified               11808       89779  101587  11.623535  88.376465\n",
       "Source Verified            18174       86410  104584  17.377419  82.622581\n",
       "Verified                   19967       90683  110650  18.045188  81.954812\n",
       "All                        49949      266872  316821  15.765685  84.234315"
      ]
     },
     "execution_count": 333,
     "metadata": {},
     "output_type": "execute_result"
    }
   ],
   "source": [
    "crosstab_target(df, 'verification_status')"
   ]
  },
  {
   "cell_type": "code",
   "execution_count": 334,
   "id": "11ff518e-f7e0-4167-be1d-68f01b6254c6",
   "metadata": {},
   "outputs": [],
   "source": [
    "cat = pd.CategoricalDtype(categories=['Not Verified','Source Verified','Verified'])\n",
    "df.verification_status = df.verification_status.astype(cat)"
   ]
  },
  {
   "cell_type": "markdown",
   "id": "be36a550-d726-4bb5-985b-92109e3d352e",
   "metadata": {},
   "source": [
    "### inc_verified\n",
    "Whether or not income verified"
   ]
  },
  {
   "cell_type": "code",
   "execution_count": 335,
   "id": "d0cc0069-8db1-41c0-9c5a-93a030b29d94",
   "metadata": {},
   "outputs": [
    {
     "data": {
      "text/plain": [
       "1    0.679355\n",
       "0    0.320645\n",
       "Name: inc_verified, dtype: float64"
      ]
     },
     "execution_count": 335,
     "metadata": {},
     "output_type": "execute_result"
    }
   ],
   "source": [
    "df['inc_verified'] = (df.verification_status != 'Not Verified').astype('int')\n",
    "df.inc_verified.value_counts(normalize=True)"
   ]
  },
  {
   "cell_type": "code",
   "execution_count": 336,
   "id": "e900d39b-fc9f-4eea-8745-40fdc171a344",
   "metadata": {},
   "outputs": [
    {
     "data": {
      "text/html": [
       "<div>\n",
       "<style scoped>\n",
       "    .dataframe tbody tr th:only-of-type {\n",
       "        vertical-align: middle;\n",
       "    }\n",
       "\n",
       "    .dataframe tbody tr th {\n",
       "        vertical-align: top;\n",
       "    }\n",
       "\n",
       "    .dataframe thead th {\n",
       "        text-align: right;\n",
       "    }\n",
       "</style>\n",
       "<table border=\"1\" class=\"dataframe\">\n",
       "  <thead>\n",
       "    <tr style=\"text-align: right;\">\n",
       "      <th>loan_status</th>\n",
       "      <th>Charged Off</th>\n",
       "      <th>Fully Paid</th>\n",
       "      <th>All</th>\n",
       "      <th>pct_0</th>\n",
       "      <th>pct_1</th>\n",
       "    </tr>\n",
       "    <tr>\n",
       "      <th>inc_verified</th>\n",
       "      <th></th>\n",
       "      <th></th>\n",
       "      <th></th>\n",
       "      <th></th>\n",
       "      <th></th>\n",
       "    </tr>\n",
       "  </thead>\n",
       "  <tbody>\n",
       "    <tr>\n",
       "      <th>0</th>\n",
       "      <td>11808</td>\n",
       "      <td>89779</td>\n",
       "      <td>101587</td>\n",
       "      <td>11.623535</td>\n",
       "      <td>88.376465</td>\n",
       "    </tr>\n",
       "    <tr>\n",
       "      <th>1</th>\n",
       "      <td>38141</td>\n",
       "      <td>177093</td>\n",
       "      <td>215234</td>\n",
       "      <td>17.720713</td>\n",
       "      <td>82.279287</td>\n",
       "    </tr>\n",
       "    <tr>\n",
       "      <th>All</th>\n",
       "      <td>49949</td>\n",
       "      <td>266872</td>\n",
       "      <td>316821</td>\n",
       "      <td>15.765685</td>\n",
       "      <td>84.234315</td>\n",
       "    </tr>\n",
       "  </tbody>\n",
       "</table>\n",
       "</div>"
      ],
      "text/plain": [
       "loan_status   Charged Off  Fully Paid     All      pct_0      pct_1\n",
       "inc_verified                                                       \n",
       "0                   11808       89779  101587  11.623535  88.376465\n",
       "1                   38141      177093  215234  17.720713  82.279287\n",
       "All                 49949      266872  316821  15.765685  84.234315"
      ]
     },
     "execution_count": 336,
     "metadata": {},
     "output_type": "execute_result"
    }
   ],
   "source": [
    "crosstab_target(df, 'inc_verified')"
   ]
  },
  {
   "cell_type": "markdown",
   "id": "c6b24cef-4177-42c2-9807-5f729eab2eca",
   "metadata": {},
   "source": [
    "## purpose"
   ]
  },
  {
   "cell_type": "code",
   "execution_count": 337,
   "id": "cd96838e-dfc9-4a72-bc7b-6eafaf43d98d",
   "metadata": {},
   "outputs": [
    {
     "data": {
      "text/html": [
       "<div>\n",
       "<style scoped>\n",
       "    .dataframe tbody tr th:only-of-type {\n",
       "        vertical-align: middle;\n",
       "    }\n",
       "\n",
       "    .dataframe tbody tr th {\n",
       "        vertical-align: top;\n",
       "    }\n",
       "\n",
       "    .dataframe thead th {\n",
       "        text-align: right;\n",
       "    }\n",
       "</style>\n",
       "<table border=\"1\" class=\"dataframe\">\n",
       "  <thead>\n",
       "    <tr style=\"text-align: right;\">\n",
       "      <th>loan_status</th>\n",
       "      <th>Charged Off</th>\n",
       "      <th>Fully Paid</th>\n",
       "      <th>All</th>\n",
       "      <th>pct_0</th>\n",
       "      <th>pct_1</th>\n",
       "    </tr>\n",
       "    <tr>\n",
       "      <th>purpose</th>\n",
       "      <th></th>\n",
       "      <th></th>\n",
       "      <th></th>\n",
       "      <th></th>\n",
       "      <th></th>\n",
       "    </tr>\n",
       "  </thead>\n",
       "  <tbody>\n",
       "    <tr>\n",
       "      <th>All</th>\n",
       "      <td>49949</td>\n",
       "      <td>266872</td>\n",
       "      <td>316821</td>\n",
       "      <td>15.765685</td>\n",
       "      <td>84.234315</td>\n",
       "    </tr>\n",
       "    <tr>\n",
       "      <th>debt_consolidation</th>\n",
       "      <td>31170</td>\n",
       "      <td>155842</td>\n",
       "      <td>187012</td>\n",
       "      <td>16.667380</td>\n",
       "      <td>83.332620</td>\n",
       "    </tr>\n",
       "    <tr>\n",
       "      <th>credit_card</th>\n",
       "      <td>9012</td>\n",
       "      <td>58010</td>\n",
       "      <td>67022</td>\n",
       "      <td>13.446331</td>\n",
       "      <td>86.553669</td>\n",
       "    </tr>\n",
       "    <tr>\n",
       "      <th>home_improvement</th>\n",
       "      <td>2579</td>\n",
       "      <td>16639</td>\n",
       "      <td>19218</td>\n",
       "      <td>13.419711</td>\n",
       "      <td>86.580289</td>\n",
       "    </tr>\n",
       "    <tr>\n",
       "      <th>other</th>\n",
       "      <td>2952</td>\n",
       "      <td>13965</td>\n",
       "      <td>16917</td>\n",
       "      <td>17.449902</td>\n",
       "      <td>82.550098</td>\n",
       "    </tr>\n",
       "    <tr>\n",
       "      <th>major_purchase</th>\n",
       "      <td>914</td>\n",
       "      <td>6157</td>\n",
       "      <td>7071</td>\n",
       "      <td>12.926036</td>\n",
       "      <td>87.073964</td>\n",
       "    </tr>\n",
       "    <tr>\n",
       "      <th>small_business</th>\n",
       "      <td>1110</td>\n",
       "      <td>3377</td>\n",
       "      <td>4487</td>\n",
       "      <td>24.738132</td>\n",
       "      <td>75.261868</td>\n",
       "    </tr>\n",
       "    <tr>\n",
       "      <th>car</th>\n",
       "      <td>405</td>\n",
       "      <td>3423</td>\n",
       "      <td>3828</td>\n",
       "      <td>10.579937</td>\n",
       "      <td>89.420063</td>\n",
       "    </tr>\n",
       "    <tr>\n",
       "      <th>medical</th>\n",
       "      <td>584</td>\n",
       "      <td>2770</td>\n",
       "      <td>3354</td>\n",
       "      <td>17.412045</td>\n",
       "      <td>82.587955</td>\n",
       "    </tr>\n",
       "    <tr>\n",
       "      <th>moving</th>\n",
       "      <td>437</td>\n",
       "      <td>1812</td>\n",
       "      <td>2249</td>\n",
       "      <td>19.430858</td>\n",
       "      <td>80.569142</td>\n",
       "    </tr>\n",
       "    <tr>\n",
       "      <th>vacation</th>\n",
       "      <td>302</td>\n",
       "      <td>1661</td>\n",
       "      <td>1963</td>\n",
       "      <td>15.384615</td>\n",
       "      <td>84.615385</td>\n",
       "    </tr>\n",
       "    <tr>\n",
       "      <th>house</th>\n",
       "      <td>267</td>\n",
       "      <td>1502</td>\n",
       "      <td>1769</td>\n",
       "      <td>15.093273</td>\n",
       "      <td>84.906727</td>\n",
       "    </tr>\n",
       "    <tr>\n",
       "      <th>wedding</th>\n",
       "      <td>140</td>\n",
       "      <td>1322</td>\n",
       "      <td>1462</td>\n",
       "      <td>9.575923</td>\n",
       "      <td>90.424077</td>\n",
       "    </tr>\n",
       "    <tr>\n",
       "      <th>renewable_energy</th>\n",
       "      <td>50</td>\n",
       "      <td>207</td>\n",
       "      <td>257</td>\n",
       "      <td>19.455253</td>\n",
       "      <td>80.544747</td>\n",
       "    </tr>\n",
       "    <tr>\n",
       "      <th>educational</th>\n",
       "      <td>27</td>\n",
       "      <td>185</td>\n",
       "      <td>212</td>\n",
       "      <td>12.735849</td>\n",
       "      <td>87.264151</td>\n",
       "    </tr>\n",
       "  </tbody>\n",
       "</table>\n",
       "</div>"
      ],
      "text/plain": [
       "loan_status         Charged Off  Fully Paid     All      pct_0      pct_1\n",
       "purpose                                                                  \n",
       "All                       49949      266872  316821  15.765685  84.234315\n",
       "debt_consolidation        31170      155842  187012  16.667380  83.332620\n",
       "credit_card                9012       58010   67022  13.446331  86.553669\n",
       "home_improvement           2579       16639   19218  13.419711  86.580289\n",
       "other                      2952       13965   16917  17.449902  82.550098\n",
       "major_purchase              914        6157    7071  12.926036  87.073964\n",
       "small_business             1110        3377    4487  24.738132  75.261868\n",
       "car                         405        3423    3828  10.579937  89.420063\n",
       "medical                     584        2770    3354  17.412045  82.587955\n",
       "moving                      437        1812    2249  19.430858  80.569142\n",
       "vacation                    302        1661    1963  15.384615  84.615385\n",
       "house                       267        1502    1769  15.093273  84.906727\n",
       "wedding                     140        1322    1462   9.575923  90.424077\n",
       "renewable_energy             50         207     257  19.455253  80.544747\n",
       "educational                  27         185     212  12.735849  87.264151"
      ]
     },
     "execution_count": 337,
     "metadata": {},
     "output_type": "execute_result"
    }
   ],
   "source": [
    "crosstab_target(df, 'purpose').sort_values('All', ascending=False)"
   ]
  },
  {
   "cell_type": "code",
   "execution_count": 338,
   "id": "28070b7a-84b2-46af-9909-f783a7967459",
   "metadata": {},
   "outputs": [
    {
     "data": {
      "text/plain": [
       "Index(['car', 'credit_card', 'debt_consolidation', 'educational',\n",
       "       'home_improvement', 'house', 'major_purchase', 'medical', 'moving',\n",
       "       'other', 'renewable_energy', 'small_business', 'vacation', 'wedding'],\n",
       "      dtype='object')"
      ]
     },
     "execution_count": 338,
     "metadata": {},
     "output_type": "execute_result"
    }
   ],
   "source": [
    "df.purpose.astype('category').cat.categories"
   ]
  },
  {
   "cell_type": "code",
   "execution_count": 339,
   "id": "b976b92e-05d8-4ae7-94a4-a71f5e163966",
   "metadata": {},
   "outputs": [],
   "source": [
    "categories = ['other', 'car', 'credit_card', 'debt_consolidation', 'educational',\n",
    "               'home_improvement', 'house', 'major_purchase', 'medical', 'moving',\n",
    "               'renewable_energy', 'small_business', 'vacation', 'wedding']\n",
    "df.purpose = df.purpose.astype(pd.CategoricalDtype(categories=categories))"
   ]
  },
  {
   "cell_type": "code",
   "execution_count": 340,
   "id": "272717d5-6c4f-4508-8ff9-64348ae453c1",
   "metadata": {},
   "outputs": [
    {
     "data": {
      "text/plain": [
       "debt_consolidation    0.590277\n",
       "credit_card           0.211545\n",
       "home_improvement      0.060659\n",
       "other                 0.053396\n",
       "major_purchase        0.022319\n",
       "small_business        0.014163\n",
       "car                   0.012083\n",
       "medical               0.010586\n",
       "moving                0.007099\n",
       "vacation              0.006196\n",
       "house                 0.005584\n",
       "wedding               0.004615\n",
       "renewable_energy      0.000811\n",
       "educational           0.000669\n",
       "Name: purpose, dtype: float64"
      ]
     },
     "execution_count": 340,
     "metadata": {},
     "output_type": "execute_result"
    }
   ],
   "source": [
    "df.purpose.value_counts(dropna=False, normalize=True)"
   ]
  },
  {
   "cell_type": "markdown",
   "id": "86e20a71-c4ea-4611-b9cd-c0e1ac81246c",
   "metadata": {},
   "source": [
    "## initial_list_status"
   ]
  },
  {
   "cell_type": "code",
   "execution_count": 341,
   "id": "4cf1db23-440f-44c7-8233-63124cb7c38c",
   "metadata": {},
   "outputs": [],
   "source": [
    "df.initial_list_status = df.initial_list_status.astype('category')"
   ]
  },
  {
   "cell_type": "code",
   "execution_count": 342,
   "id": "3344ffb6-a09b-4a70-8b48-ff076e39f7c1",
   "metadata": {},
   "outputs": [
    {
     "data": {
      "text/html": [
       "<div>\n",
       "<style scoped>\n",
       "    .dataframe tbody tr th:only-of-type {\n",
       "        vertical-align: middle;\n",
       "    }\n",
       "\n",
       "    .dataframe tbody tr th {\n",
       "        vertical-align: top;\n",
       "    }\n",
       "\n",
       "    .dataframe thead th {\n",
       "        text-align: right;\n",
       "    }\n",
       "</style>\n",
       "<table border=\"1\" class=\"dataframe\">\n",
       "  <thead>\n",
       "    <tr style=\"text-align: right;\">\n",
       "      <th>loan_status</th>\n",
       "      <th>Charged Off</th>\n",
       "      <th>Fully Paid</th>\n",
       "      <th>All</th>\n",
       "      <th>pct_0</th>\n",
       "      <th>pct_1</th>\n",
       "    </tr>\n",
       "    <tr>\n",
       "      <th>initial_list_status</th>\n",
       "      <th></th>\n",
       "      <th></th>\n",
       "      <th></th>\n",
       "      <th></th>\n",
       "      <th></th>\n",
       "    </tr>\n",
       "  </thead>\n",
       "  <tbody>\n",
       "    <tr>\n",
       "      <th>f</th>\n",
       "      <td>29534</td>\n",
       "      <td>161118</td>\n",
       "      <td>190652</td>\n",
       "      <td>15.491052</td>\n",
       "      <td>84.508948</td>\n",
       "    </tr>\n",
       "    <tr>\n",
       "      <th>w</th>\n",
       "      <td>20415</td>\n",
       "      <td>105754</td>\n",
       "      <td>126169</td>\n",
       "      <td>16.180678</td>\n",
       "      <td>83.819322</td>\n",
       "    </tr>\n",
       "    <tr>\n",
       "      <th>All</th>\n",
       "      <td>49949</td>\n",
       "      <td>266872</td>\n",
       "      <td>316821</td>\n",
       "      <td>15.765685</td>\n",
       "      <td>84.234315</td>\n",
       "    </tr>\n",
       "  </tbody>\n",
       "</table>\n",
       "</div>"
      ],
      "text/plain": [
       "loan_status          Charged Off  Fully Paid     All      pct_0      pct_1\n",
       "initial_list_status                                                       \n",
       "f                          29534      161118  190652  15.491052  84.508948\n",
       "w                          20415      105754  126169  16.180678  83.819322\n",
       "All                        49949      266872  316821  15.765685  84.234315"
      ]
     },
     "execution_count": 342,
     "metadata": {},
     "output_type": "execute_result"
    }
   ],
   "source": [
    "crosstab_target(df, 'initial_list_status')"
   ]
  },
  {
   "cell_type": "markdown",
   "id": "028e7f29-2840-45ff-b01b-7cb71c07ca0c",
   "metadata": {},
   "source": [
    "## application_type"
   ]
  },
  {
   "cell_type": "code",
   "execution_count": 343,
   "id": "41a42d17-6452-45cd-aae7-7b4a0c92c89a",
   "metadata": {},
   "outputs": [
    {
     "data": {
      "text/html": [
       "<div>\n",
       "<style scoped>\n",
       "    .dataframe tbody tr th:only-of-type {\n",
       "        vertical-align: middle;\n",
       "    }\n",
       "\n",
       "    .dataframe tbody tr th {\n",
       "        vertical-align: top;\n",
       "    }\n",
       "\n",
       "    .dataframe thead th {\n",
       "        text-align: right;\n",
       "    }\n",
       "</style>\n",
       "<table border=\"1\" class=\"dataframe\">\n",
       "  <thead>\n",
       "    <tr style=\"text-align: right;\">\n",
       "      <th>loan_status</th>\n",
       "      <th>Charged Off</th>\n",
       "      <th>Fully Paid</th>\n",
       "      <th>All</th>\n",
       "      <th>pct_0</th>\n",
       "      <th>pct_1</th>\n",
       "    </tr>\n",
       "    <tr>\n",
       "      <th>application_type</th>\n",
       "      <th></th>\n",
       "      <th></th>\n",
       "      <th></th>\n",
       "      <th></th>\n",
       "      <th></th>\n",
       "    </tr>\n",
       "  </thead>\n",
       "  <tbody>\n",
       "    <tr>\n",
       "      <th>DIRECT_PAY</th>\n",
       "      <td>61</td>\n",
       "      <td>155</td>\n",
       "      <td>216</td>\n",
       "      <td>28.240741</td>\n",
       "      <td>71.759259</td>\n",
       "    </tr>\n",
       "    <tr>\n",
       "      <th>INDIVIDUAL</th>\n",
       "      <td>49854</td>\n",
       "      <td>266416</td>\n",
       "      <td>316270</td>\n",
       "      <td>15.763114</td>\n",
       "      <td>84.236886</td>\n",
       "    </tr>\n",
       "    <tr>\n",
       "      <th>JOINT</th>\n",
       "      <td>34</td>\n",
       "      <td>301</td>\n",
       "      <td>335</td>\n",
       "      <td>10.149254</td>\n",
       "      <td>89.850746</td>\n",
       "    </tr>\n",
       "    <tr>\n",
       "      <th>All</th>\n",
       "      <td>49949</td>\n",
       "      <td>266872</td>\n",
       "      <td>316821</td>\n",
       "      <td>15.765685</td>\n",
       "      <td>84.234315</td>\n",
       "    </tr>\n",
       "  </tbody>\n",
       "</table>\n",
       "</div>"
      ],
      "text/plain": [
       "loan_status       Charged Off  Fully Paid     All      pct_0      pct_1\n",
       "application_type                                                       \n",
       "DIRECT_PAY                 61         155     216  28.240741  71.759259\n",
       "INDIVIDUAL              49854      266416  316270  15.763114  84.236886\n",
       "JOINT                      34         301     335  10.149254  89.850746\n",
       "All                     49949      266872  316821  15.765685  84.234315"
      ]
     },
     "execution_count": 343,
     "metadata": {},
     "output_type": "execute_result"
    }
   ],
   "source": [
    "crosstab_target(df, 'application_type')"
   ]
  },
  {
   "cell_type": "code",
   "execution_count": 344,
   "id": "b8b74d12-3d05-4315-a5df-5a29c5546226",
   "metadata": {},
   "outputs": [
    {
     "data": {
      "text/plain": [
       "INDIVIDUAL    0.998261\n",
       "JOINT         0.001057\n",
       "DIRECT_PAY    0.000682\n",
       "Name: application_type, dtype: float64"
      ]
     },
     "execution_count": 344,
     "metadata": {},
     "output_type": "execute_result"
    }
   ],
   "source": [
    "categories = ['INDIVIDUAL', 'JOINT', 'DIRECT_PAY']\n",
    "df.application_type = df.application_type.astype(pd.CategoricalDtype(categories=categories))\n",
    "df.application_type.value_counts(dropna=False, normalize=True)"
   ]
  },
  {
   "cell_type": "markdown",
   "id": "bde344c0-0c41-4420-ac5c-40d4c017e7e0",
   "metadata": {},
   "source": [
    "## address"
   ]
  },
  {
   "cell_type": "markdown",
   "id": "f03794c5-3982-45de-9ca0-61b542b99ec0",
   "metadata": {},
   "source": [
    "### state"
   ]
  },
  {
   "cell_type": "code",
   "execution_count": 345,
   "id": "1c9361a7-11d0-44ac-a655-371d2980c166",
   "metadata": {},
   "outputs": [],
   "source": [
    "df['state'] = df.address.str.split('[\\s,]', regex=True).apply(lambda x: x[-2])"
   ]
  },
  {
   "cell_type": "code",
   "execution_count": 346,
   "id": "98615c43-4b6a-4e61-a679-4b90d54f999a",
   "metadata": {},
   "outputs": [
    {
     "data": {
      "text/html": [
       "<div>\n",
       "<style scoped>\n",
       "    .dataframe tbody tr th:only-of-type {\n",
       "        vertical-align: middle;\n",
       "    }\n",
       "\n",
       "    .dataframe tbody tr th {\n",
       "        vertical-align: top;\n",
       "    }\n",
       "\n",
       "    .dataframe thead th {\n",
       "        text-align: right;\n",
       "    }\n",
       "</style>\n",
       "<table border=\"1\" class=\"dataframe\">\n",
       "  <thead>\n",
       "    <tr style=\"text-align: right;\">\n",
       "      <th>loan_status</th>\n",
       "      <th>Charged Off</th>\n",
       "      <th>Fully Paid</th>\n",
       "      <th>All</th>\n",
       "      <th>pct_0</th>\n",
       "      <th>pct_1</th>\n",
       "    </tr>\n",
       "    <tr>\n",
       "      <th>state</th>\n",
       "      <th></th>\n",
       "      <th></th>\n",
       "      <th></th>\n",
       "      <th></th>\n",
       "      <th></th>\n",
       "    </tr>\n",
       "  </thead>\n",
       "  <tbody>\n",
       "    <tr>\n",
       "      <th>AA</th>\n",
       "      <td>1775</td>\n",
       "      <td>9406</td>\n",
       "      <td>11181</td>\n",
       "      <td>15.875145</td>\n",
       "      <td>84.124855</td>\n",
       "    </tr>\n",
       "    <tr>\n",
       "      <th>AE</th>\n",
       "      <td>1759</td>\n",
       "      <td>9513</td>\n",
       "      <td>11272</td>\n",
       "      <td>15.605039</td>\n",
       "      <td>84.394961</td>\n",
       "    </tr>\n",
       "    <tr>\n",
       "      <th>AK</th>\n",
       "      <td>860</td>\n",
       "      <td>4773</td>\n",
       "      <td>5633</td>\n",
       "      <td>15.267176</td>\n",
       "      <td>84.732824</td>\n",
       "    </tr>\n",
       "    <tr>\n",
       "      <th>AL</th>\n",
       "      <td>857</td>\n",
       "      <td>4666</td>\n",
       "      <td>5523</td>\n",
       "      <td>15.516929</td>\n",
       "      <td>84.483071</td>\n",
       "    </tr>\n",
       "    <tr>\n",
       "      <th>AP</th>\n",
       "      <td>1867</td>\n",
       "      <td>9600</td>\n",
       "      <td>11467</td>\n",
       "      <td>16.281503</td>\n",
       "      <td>83.718497</td>\n",
       "    </tr>\n",
       "    <tr>\n",
       "      <th>AR</th>\n",
       "      <td>869</td>\n",
       "      <td>4664</td>\n",
       "      <td>5533</td>\n",
       "      <td>15.705765</td>\n",
       "      <td>84.294235</td>\n",
       "    </tr>\n",
       "    <tr>\n",
       "      <th>AZ</th>\n",
       "      <td>875</td>\n",
       "      <td>4678</td>\n",
       "      <td>5553</td>\n",
       "      <td>15.757248</td>\n",
       "      <td>84.242752</td>\n",
       "    </tr>\n",
       "    <tr>\n",
       "      <th>CA</th>\n",
       "      <td>849</td>\n",
       "      <td>4678</td>\n",
       "      <td>5527</td>\n",
       "      <td>15.360955</td>\n",
       "      <td>84.639045</td>\n",
       "    </tr>\n",
       "    <tr>\n",
       "      <th>CO</th>\n",
       "      <td>886</td>\n",
       "      <td>4670</td>\n",
       "      <td>5556</td>\n",
       "      <td>15.946724</td>\n",
       "      <td>84.053276</td>\n",
       "    </tr>\n",
       "    <tr>\n",
       "      <th>CT</th>\n",
       "      <td>862</td>\n",
       "      <td>4651</td>\n",
       "      <td>5513</td>\n",
       "      <td>15.635770</td>\n",
       "      <td>84.364230</td>\n",
       "    </tr>\n",
       "    <tr>\n",
       "      <th>DC</th>\n",
       "      <td>880</td>\n",
       "      <td>4615</td>\n",
       "      <td>5495</td>\n",
       "      <td>16.014559</td>\n",
       "      <td>83.985441</td>\n",
       "    </tr>\n",
       "    <tr>\n",
       "      <th>DE</th>\n",
       "      <td>857</td>\n",
       "      <td>4642</td>\n",
       "      <td>5499</td>\n",
       "      <td>15.584652</td>\n",
       "      <td>84.415348</td>\n",
       "    </tr>\n",
       "    <tr>\n",
       "      <th>FL</th>\n",
       "      <td>884</td>\n",
       "      <td>4686</td>\n",
       "      <td>5570</td>\n",
       "      <td>15.870736</td>\n",
       "      <td>84.129264</td>\n",
       "    </tr>\n",
       "    <tr>\n",
       "      <th>GA</th>\n",
       "      <td>875</td>\n",
       "      <td>4688</td>\n",
       "      <td>5563</td>\n",
       "      <td>15.728923</td>\n",
       "      <td>84.271077</td>\n",
       "    </tr>\n",
       "    <tr>\n",
       "      <th>HI</th>\n",
       "      <td>856</td>\n",
       "      <td>4682</td>\n",
       "      <td>5538</td>\n",
       "      <td>15.456844</td>\n",
       "      <td>84.543156</td>\n",
       "    </tr>\n",
       "    <tr>\n",
       "      <th>IA</th>\n",
       "      <td>793</td>\n",
       "      <td>4687</td>\n",
       "      <td>5480</td>\n",
       "      <td>14.470803</td>\n",
       "      <td>85.529197</td>\n",
       "    </tr>\n",
       "    <tr>\n",
       "      <th>ID</th>\n",
       "      <td>871</td>\n",
       "      <td>4641</td>\n",
       "      <td>5512</td>\n",
       "      <td>15.801887</td>\n",
       "      <td>84.198113</td>\n",
       "    </tr>\n",
       "    <tr>\n",
       "      <th>IL</th>\n",
       "      <td>894</td>\n",
       "      <td>4655</td>\n",
       "      <td>5549</td>\n",
       "      <td>16.111011</td>\n",
       "      <td>83.888989</td>\n",
       "    </tr>\n",
       "    <tr>\n",
       "      <th>IN</th>\n",
       "      <td>857</td>\n",
       "      <td>4719</td>\n",
       "      <td>5576</td>\n",
       "      <td>15.369440</td>\n",
       "      <td>84.630560</td>\n",
       "    </tr>\n",
       "    <tr>\n",
       "      <th>KS</th>\n",
       "      <td>903</td>\n",
       "      <td>4652</td>\n",
       "      <td>5555</td>\n",
       "      <td>16.255626</td>\n",
       "      <td>83.744374</td>\n",
       "    </tr>\n",
       "    <tr>\n",
       "      <th>KY</th>\n",
       "      <td>848</td>\n",
       "      <td>4558</td>\n",
       "      <td>5406</td>\n",
       "      <td>15.686275</td>\n",
       "      <td>84.313725</td>\n",
       "    </tr>\n",
       "    <tr>\n",
       "      <th>LA</th>\n",
       "      <td>892</td>\n",
       "      <td>4781</td>\n",
       "      <td>5673</td>\n",
       "      <td>15.723603</td>\n",
       "      <td>84.276397</td>\n",
       "    </tr>\n",
       "    <tr>\n",
       "      <th>MA</th>\n",
       "      <td>901</td>\n",
       "      <td>4744</td>\n",
       "      <td>5645</td>\n",
       "      <td>15.961027</td>\n",
       "      <td>84.038973</td>\n",
       "    </tr>\n",
       "    <tr>\n",
       "      <th>MD</th>\n",
       "      <td>861</td>\n",
       "      <td>4674</td>\n",
       "      <td>5535</td>\n",
       "      <td>15.555556</td>\n",
       "      <td>84.444444</td>\n",
       "    </tr>\n",
       "    <tr>\n",
       "      <th>ME</th>\n",
       "      <td>884</td>\n",
       "      <td>4701</td>\n",
       "      <td>5585</td>\n",
       "      <td>15.828111</td>\n",
       "      <td>84.171889</td>\n",
       "    </tr>\n",
       "    <tr>\n",
       "      <th>MI</th>\n",
       "      <td>852</td>\n",
       "      <td>4588</td>\n",
       "      <td>5440</td>\n",
       "      <td>15.661765</td>\n",
       "      <td>84.338235</td>\n",
       "    </tr>\n",
       "    <tr>\n",
       "      <th>MN</th>\n",
       "      <td>832</td>\n",
       "      <td>4745</td>\n",
       "      <td>5577</td>\n",
       "      <td>14.918415</td>\n",
       "      <td>85.081585</td>\n",
       "    </tr>\n",
       "    <tr>\n",
       "      <th>MO</th>\n",
       "      <td>870</td>\n",
       "      <td>4620</td>\n",
       "      <td>5490</td>\n",
       "      <td>15.846995</td>\n",
       "      <td>84.153005</td>\n",
       "    </tr>\n",
       "    <tr>\n",
       "      <th>MS</th>\n",
       "      <td>914</td>\n",
       "      <td>4662</td>\n",
       "      <td>5576</td>\n",
       "      <td>16.391679</td>\n",
       "      <td>83.608321</td>\n",
       "    </tr>\n",
       "    <tr>\n",
       "      <th>MT</th>\n",
       "      <td>895</td>\n",
       "      <td>4679</td>\n",
       "      <td>5574</td>\n",
       "      <td>16.056692</td>\n",
       "      <td>83.943308</td>\n",
       "    </tr>\n",
       "    <tr>\n",
       "      <th>NC</th>\n",
       "      <td>907</td>\n",
       "      <td>4632</td>\n",
       "      <td>5539</td>\n",
       "      <td>16.374797</td>\n",
       "      <td>83.625203</td>\n",
       "    </tr>\n",
       "    <tr>\n",
       "      <th>ND</th>\n",
       "      <td>867</td>\n",
       "      <td>4606</td>\n",
       "      <td>5473</td>\n",
       "      <td>15.841403</td>\n",
       "      <td>84.158597</td>\n",
       "    </tr>\n",
       "    <tr>\n",
       "      <th>NE</th>\n",
       "      <td>883</td>\n",
       "      <td>4644</td>\n",
       "      <td>5527</td>\n",
       "      <td>15.976117</td>\n",
       "      <td>84.023883</td>\n",
       "    </tr>\n",
       "    <tr>\n",
       "      <th>NH</th>\n",
       "      <td>862</td>\n",
       "      <td>4655</td>\n",
       "      <td>5517</td>\n",
       "      <td>15.624434</td>\n",
       "      <td>84.375566</td>\n",
       "    </tr>\n",
       "    <tr>\n",
       "      <th>NJ</th>\n",
       "      <td>874</td>\n",
       "      <td>4759</td>\n",
       "      <td>5633</td>\n",
       "      <td>15.515711</td>\n",
       "      <td>84.484289</td>\n",
       "    </tr>\n",
       "    <tr>\n",
       "      <th>NM</th>\n",
       "      <td>872</td>\n",
       "      <td>4633</td>\n",
       "      <td>5505</td>\n",
       "      <td>15.840145</td>\n",
       "      <td>84.159855</td>\n",
       "    </tr>\n",
       "    <tr>\n",
       "      <th>NV</th>\n",
       "      <td>956</td>\n",
       "      <td>4739</td>\n",
       "      <td>5695</td>\n",
       "      <td>16.786655</td>\n",
       "      <td>83.213345</td>\n",
       "    </tr>\n",
       "    <tr>\n",
       "      <th>NY</th>\n",
       "      <td>811</td>\n",
       "      <td>4796</td>\n",
       "      <td>5607</td>\n",
       "      <td>14.464063</td>\n",
       "      <td>85.535937</td>\n",
       "    </tr>\n",
       "    <tr>\n",
       "      <th>OH</th>\n",
       "      <td>874</td>\n",
       "      <td>4716</td>\n",
       "      <td>5590</td>\n",
       "      <td>15.635063</td>\n",
       "      <td>84.364937</td>\n",
       "    </tr>\n",
       "    <tr>\n",
       "      <th>OK</th>\n",
       "      <td>833</td>\n",
       "      <td>4718</td>\n",
       "      <td>5551</td>\n",
       "      <td>15.006305</td>\n",
       "      <td>84.993695</td>\n",
       "    </tr>\n",
       "    <tr>\n",
       "      <th>OR</th>\n",
       "      <td>852</td>\n",
       "      <td>4627</td>\n",
       "      <td>5479</td>\n",
       "      <td>15.550283</td>\n",
       "      <td>84.449717</td>\n",
       "    </tr>\n",
       "    <tr>\n",
       "      <th>PA</th>\n",
       "      <td>859</td>\n",
       "      <td>4537</td>\n",
       "      <td>5396</td>\n",
       "      <td>15.919199</td>\n",
       "      <td>84.080801</td>\n",
       "    </tr>\n",
       "    <tr>\n",
       "      <th>RI</th>\n",
       "      <td>874</td>\n",
       "      <td>4673</td>\n",
       "      <td>5547</td>\n",
       "      <td>15.756265</td>\n",
       "      <td>84.243735</td>\n",
       "    </tr>\n",
       "    <tr>\n",
       "      <th>SC</th>\n",
       "      <td>857</td>\n",
       "      <td>4687</td>\n",
       "      <td>5544</td>\n",
       "      <td>15.458153</td>\n",
       "      <td>84.541847</td>\n",
       "    </tr>\n",
       "    <tr>\n",
       "      <th>SD</th>\n",
       "      <td>865</td>\n",
       "      <td>4644</td>\n",
       "      <td>5509</td>\n",
       "      <td>15.701579</td>\n",
       "      <td>84.298421</td>\n",
       "    </tr>\n",
       "    <tr>\n",
       "      <th>TN</th>\n",
       "      <td>872</td>\n",
       "      <td>4629</td>\n",
       "      <td>5501</td>\n",
       "      <td>15.851663</td>\n",
       "      <td>84.148337</td>\n",
       "    </tr>\n",
       "    <tr>\n",
       "      <th>TX</th>\n",
       "      <td>908</td>\n",
       "      <td>4696</td>\n",
       "      <td>5604</td>\n",
       "      <td>16.202712</td>\n",
       "      <td>83.797288</td>\n",
       "    </tr>\n",
       "    <tr>\n",
       "      <th>UT</th>\n",
       "      <td>877</td>\n",
       "      <td>4666</td>\n",
       "      <td>5543</td>\n",
       "      <td>15.821757</td>\n",
       "      <td>84.178243</td>\n",
       "    </tr>\n",
       "    <tr>\n",
       "      <th>VA</th>\n",
       "      <td>861</td>\n",
       "      <td>4810</td>\n",
       "      <td>5671</td>\n",
       "      <td>15.182507</td>\n",
       "      <td>84.817493</td>\n",
       "    </tr>\n",
       "    <tr>\n",
       "      <th>VT</th>\n",
       "      <td>868</td>\n",
       "      <td>4774</td>\n",
       "      <td>5642</td>\n",
       "      <td>15.384615</td>\n",
       "      <td>84.615385</td>\n",
       "    </tr>\n",
       "    <tr>\n",
       "      <th>WA</th>\n",
       "      <td>890</td>\n",
       "      <td>4560</td>\n",
       "      <td>5450</td>\n",
       "      <td>16.330275</td>\n",
       "      <td>83.669725</td>\n",
       "    </tr>\n",
       "    <tr>\n",
       "      <th>WI</th>\n",
       "      <td>881</td>\n",
       "      <td>4738</td>\n",
       "      <td>5619</td>\n",
       "      <td>15.678946</td>\n",
       "      <td>84.321054</td>\n",
       "    </tr>\n",
       "    <tr>\n",
       "      <th>WV</th>\n",
       "      <td>902</td>\n",
       "      <td>4631</td>\n",
       "      <td>5533</td>\n",
       "      <td>16.302187</td>\n",
       "      <td>83.697813</td>\n",
       "    </tr>\n",
       "    <tr>\n",
       "      <th>WY</th>\n",
       "      <td>966</td>\n",
       "      <td>4584</td>\n",
       "      <td>5550</td>\n",
       "      <td>17.405405</td>\n",
       "      <td>82.594595</td>\n",
       "    </tr>\n",
       "    <tr>\n",
       "      <th>All</th>\n",
       "      <td>49949</td>\n",
       "      <td>266872</td>\n",
       "      <td>316821</td>\n",
       "      <td>15.765685</td>\n",
       "      <td>84.234315</td>\n",
       "    </tr>\n",
       "  </tbody>\n",
       "</table>\n",
       "</div>"
      ],
      "text/plain": [
       "loan_status  Charged Off  Fully Paid     All      pct_0      pct_1\n",
       "state                                                             \n",
       "AA                  1775        9406   11181  15.875145  84.124855\n",
       "AE                  1759        9513   11272  15.605039  84.394961\n",
       "AK                   860        4773    5633  15.267176  84.732824\n",
       "AL                   857        4666    5523  15.516929  84.483071\n",
       "AP                  1867        9600   11467  16.281503  83.718497\n",
       "AR                   869        4664    5533  15.705765  84.294235\n",
       "AZ                   875        4678    5553  15.757248  84.242752\n",
       "CA                   849        4678    5527  15.360955  84.639045\n",
       "CO                   886        4670    5556  15.946724  84.053276\n",
       "CT                   862        4651    5513  15.635770  84.364230\n",
       "DC                   880        4615    5495  16.014559  83.985441\n",
       "DE                   857        4642    5499  15.584652  84.415348\n",
       "FL                   884        4686    5570  15.870736  84.129264\n",
       "GA                   875        4688    5563  15.728923  84.271077\n",
       "HI                   856        4682    5538  15.456844  84.543156\n",
       "IA                   793        4687    5480  14.470803  85.529197\n",
       "ID                   871        4641    5512  15.801887  84.198113\n",
       "IL                   894        4655    5549  16.111011  83.888989\n",
       "IN                   857        4719    5576  15.369440  84.630560\n",
       "KS                   903        4652    5555  16.255626  83.744374\n",
       "KY                   848        4558    5406  15.686275  84.313725\n",
       "LA                   892        4781    5673  15.723603  84.276397\n",
       "MA                   901        4744    5645  15.961027  84.038973\n",
       "MD                   861        4674    5535  15.555556  84.444444\n",
       "ME                   884        4701    5585  15.828111  84.171889\n",
       "MI                   852        4588    5440  15.661765  84.338235\n",
       "MN                   832        4745    5577  14.918415  85.081585\n",
       "MO                   870        4620    5490  15.846995  84.153005\n",
       "MS                   914        4662    5576  16.391679  83.608321\n",
       "MT                   895        4679    5574  16.056692  83.943308\n",
       "NC                   907        4632    5539  16.374797  83.625203\n",
       "ND                   867        4606    5473  15.841403  84.158597\n",
       "NE                   883        4644    5527  15.976117  84.023883\n",
       "NH                   862        4655    5517  15.624434  84.375566\n",
       "NJ                   874        4759    5633  15.515711  84.484289\n",
       "NM                   872        4633    5505  15.840145  84.159855\n",
       "NV                   956        4739    5695  16.786655  83.213345\n",
       "NY                   811        4796    5607  14.464063  85.535937\n",
       "OH                   874        4716    5590  15.635063  84.364937\n",
       "OK                   833        4718    5551  15.006305  84.993695\n",
       "OR                   852        4627    5479  15.550283  84.449717\n",
       "PA                   859        4537    5396  15.919199  84.080801\n",
       "RI                   874        4673    5547  15.756265  84.243735\n",
       "SC                   857        4687    5544  15.458153  84.541847\n",
       "SD                   865        4644    5509  15.701579  84.298421\n",
       "TN                   872        4629    5501  15.851663  84.148337\n",
       "TX                   908        4696    5604  16.202712  83.797288\n",
       "UT                   877        4666    5543  15.821757  84.178243\n",
       "VA                   861        4810    5671  15.182507  84.817493\n",
       "VT                   868        4774    5642  15.384615  84.615385\n",
       "WA                   890        4560    5450  16.330275  83.669725\n",
       "WI                   881        4738    5619  15.678946  84.321054\n",
       "WV                   902        4631    5533  16.302187  83.697813\n",
       "WY                   966        4584    5550  17.405405  82.594595\n",
       "All                49949      266872  316821  15.765685  84.234315"
      ]
     },
     "execution_count": 346,
     "metadata": {},
     "output_type": "execute_result"
    }
   ],
   "source": [
    "crosstab_target(df, 'state')"
   ]
  },
  {
   "cell_type": "markdown",
   "id": "3b4d772f-ba1a-4f9d-a239-4df2dd7cfcf5",
   "metadata": {},
   "source": [
    "### Encoding state with income\n",
    "Experiment with median, mean, coefficient of variation, and robust coefficient of variation on income by state"
   ]
  },
  {
   "cell_type": "code",
   "execution_count": 347,
   "id": "cb0b25cd-fe0e-416d-915e-40ba4d40a716",
   "metadata": {},
   "outputs": [],
   "source": [
    "def coefficient_var(x):\n",
    "    return np.std(x)/np.mean(x)\n",
    "\n",
    "def robust_coefficient_var(x):\n",
    "    q1, q3 = np.percentile(x, [25,75])\n",
    "    return (q3 - q1) / (q3 + q1)\n",
    "\n",
    "df['state_inc_med'] = df.groupby('state').annual_inc.transform('median')\n",
    "df['state_inc_mean'] = df.groupby('state').annual_inc.transform('mean')\n",
    "df['state_inc_cv'] = df.groupby('state').annual_inc.transform(coefficient_var)\n",
    "df['state_inc_rcv'] = df.groupby('state').annual_inc.transform(robust_coefficient_var)"
   ]
  },
  {
   "cell_type": "markdown",
   "id": "50c1d5dd-d223-4e70-a2d7-38d8ed33bd68",
   "metadata": {},
   "source": [
    "# Date variables"
   ]
  },
  {
   "cell_type": "markdown",
   "id": "5043ade3-4e47-47ad-8176-12b3fddb6e40",
   "metadata": {},
   "source": [
    "## earliest_cr_line"
   ]
  },
  {
   "cell_type": "code",
   "execution_count": 348,
   "id": "6a4b756f-6af0-4900-aeac-5ac9ea7d28e8",
   "metadata": {},
   "outputs": [
    {
     "data": {
      "image/png": "[encoded data removed]",
      "text/plain": [
       "<Figure size 288x720 with 1 Axes>"
      ]
     },
     "metadata": {
      "needs_background": "light"
     },
     "output_type": "display_data"
    }
   ],
   "source": [
    "df.earliest_cr_line.dt.year.value_counts().sort_index().plot.barh(figsize=(4,10));"
   ]
  },
  {
   "cell_type": "markdown",
   "id": "e8a44d61-4ddf-438f-9774-62d15cb261c1",
   "metadata": {},
   "source": [
    "There are future dates, assuming this is not correct and will impute this with max year"
   ]
  },
  {
   "cell_type": "markdown",
   "id": "ab1f2acd-4e16-4edd-86d7-2dcd2a9df202",
   "metadata": {},
   "source": [
    "### earliest_cr_year"
   ]
  },
  {
   "cell_type": "code",
   "execution_count": 360,
   "id": "f400835b-2894-4a02-9998-a1ccebc2aa32",
   "metadata": {},
   "outputs": [],
   "source": [
    "df['earliest_cr_year'] = df.earliest_cr_line.dt.year\n",
    "df.earliest_cr_year = df.earliest_cr_year.apply(lambda x: x if x < 2013 else 2013).astype(int)"
   ]
  },
  {
   "cell_type": "markdown",
   "id": "db08886e-a047-4ed8-9997-4887a2d2edc0",
   "metadata": {},
   "source": [
    "# Target\n",
    "\n",
    "According to the test instruction\n",
    "> The outcome is to determine whether each borrower ID has loan status with percentage of likelihood of being ‘Fully Paid’. \n",
    "\n",
    "Fully Paid = postiive label = 1  \n",
    "Charged Off = negative lebel = 0"
   ]
  },
  {
   "cell_type": "code",
   "execution_count": 362,
   "id": "d0dd0a92-cf5d-4200-966b-6697370f7f8f",
   "metadata": {},
   "outputs": [
    {
     "data": {
      "text/plain": [
       "0         Charged Off\n",
       "1          Fully Paid\n",
       "2         Charged Off\n",
       "3          Fully Paid\n",
       "4          Fully Paid\n",
       "             ...     \n",
       "316817     Fully Paid\n",
       "316818     Fully Paid\n",
       "316819     Fully Paid\n",
       "316820     Fully Paid\n",
       "316821     Fully Paid\n",
       "Name: loan_status, Length: 316821, dtype: category\n",
       "Categories (2, object): ['Charged Off', 'Fully Paid']"
      ]
     },
     "execution_count": 362,
     "metadata": {},
     "output_type": "execute_result"
    }
   ],
   "source": [
    "categories = ['Charged Off', 'Fully Paid']\n",
    "df.loan_status = df.loan_status.astype(pd.CategoricalDtype(categories=categories))\n",
    "df.loan_status"
   ]
  },
  {
   "cell_type": "markdown",
   "id": "2049064c-052e-499f-b93e-548722222570",
   "metadata": {},
   "source": [
    "# Save file"
   ]
  },
  {
   "cell_type": "code",
   "execution_count": 366,
   "id": "a95e0d0a-1ae0-4d22-b18d-a8846e8e6ef5",
   "metadata": {},
   "outputs": [],
   "source": [
    "# my beloved parquet doesn't support category type :(\n",
    "df.to_pickle('data/02_prep.pkl')"
   ]
  },
  {
   "cell_type": "markdown",
   "id": "f587ea3e-4a26-41e9-b4fa-6eb08ef3c24b",
   "metadata": {},
   "source": [
    "# Categorical Encoding\n",
    "\n",
    "Let's assume this is the first iteration of model development. I'll try to keep things simple.\n",
    "I plan to use Tree-based models and they are fine with Ordinal encoding even if the categorical variable supposed to be One-hot encoded."
   ]
  },
  {
   "cell_type": "code",
   "execution_count": 367,
   "id": "b23f74bf-3d1b-4405-a7fa-2be24f18f5f4",
   "metadata": {},
   "outputs": [
    {
     "name": "stdout",
     "output_type": "stream",
     "text": [
      "<class 'pandas.core.frame.DataFrame'>\n",
      "Int64Index: 316821 entries, 0 to 316821\n",
      "Data columns (total 48 columns):\n",
      " #   Column                    Non-Null Count   Dtype         \n",
      "---  ------                    --------------   -----         \n",
      " 0   id                        316821 non-null  object        \n",
      " 1   loan_amnt                 316821 non-null  int32         \n",
      " 2   term                      316821 non-null  int32         \n",
      " 3   int_rate                  316821 non-null  float64       \n",
      " 4   installment               316821 non-null  float64       \n",
      " 5   grade                     316821 non-null  int32         \n",
      " 6   sub_grade                 316821 non-null  int32         \n",
      " 7   emp_title                 316821 non-null  object        \n",
      " 8   emp_length                316821 non-null  int32         \n",
      " 9   home_ownership            316821 non-null  int32         \n",
      " 10  annual_inc                316821 non-null  float64       \n",
      " 11  verification_status       316821 non-null  int32         \n",
      " 12  loan_status               316821 non-null  int32         \n",
      " 13  purpose                   316821 non-null  int32         \n",
      " 14  title                     316821 non-null  object        \n",
      " 15  dti                       316821 non-null  float64       \n",
      " 16  earliest_cr_line          316821 non-null  datetime64[ns]\n",
      " 17  open_acc                  316821 non-null  int32         \n",
      " 18  pub_rec                   316821 non-null  int32         \n",
      " 19  revol_bal                 316821 non-null  int32         \n",
      " 20  revol_util                316600 non-null  float64       \n",
      " 21  total_acc                 316821 non-null  int32         \n",
      " 22  initial_list_status       316821 non-null  int32         \n",
      " 23  application_type          316821 non-null  int32         \n",
      " 24  mort_acc                  286038 non-null  float64       \n",
      " 25  pub_rec_bankruptcies      316388 non-null  float64       \n",
      " 26  address                   316821 non-null  object        \n",
      " 27  annual_inc_adj            316821 non-null  float64       \n",
      " 28  annual_inc_q              316821 non-null  int32         \n",
      " 29  installment_inc_ratio     316821 non-null  float64       \n",
      " 30  dti_adj                   316821 non-null  float64       \n",
      " 31  dti_q                     316821 non-null  int32         \n",
      " 32  has_pub_rec               316821 non-null  int32         \n",
      " 33  revol_bal_adj             316821 non-null  float64       \n",
      " 34  revol_util_adj            316821 non-null  float64       \n",
      " 35  mort_acc_adj              316821 non-null  float64       \n",
      " 36  mort_acc_missing          316821 non-null  int32         \n",
      " 37  pub_rec_bankruptcies_adj  316821 non-null  float64       \n",
      " 38  home_rent                 316821 non-null  int32         \n",
      " 39  home_own                  316821 non-null  int32         \n",
      " 40  home_mortgage             316821 non-null  int32         \n",
      " 41  inc_verified              316821 non-null  int32         \n",
      " 42  state                     316821 non-null  object        \n",
      " 43  state_inc_med             316821 non-null  float64       \n",
      " 44  state_inc_mean            316821 non-null  float64       \n",
      " 45  state_inc_cv              316821 non-null  float64       \n",
      " 46  state_inc_rcv             316821 non-null  float64       \n",
      " 47  earliest_cr_year          316821 non-null  int32         \n",
      "dtypes: datetime64[ns](1), float64(18), int32(24), object(5)\n",
      "memory usage: 97.5+ MB\n"
     ]
    }
   ],
   "source": [
    "data = df.copy()\n",
    "\n",
    "\n",
    "\n",
    "category_cols = ['term', 'grade', 'sub_grade', 'emp_length', 'home_ownership',\n",
    "                   'verification_status', 'loan_status', 'purpose', 'initial_list_status',\n",
    "                   'application_type', 'annual_inc_q', 'dti_q']\n",
    "\n",
    "\n",
    "# encode categorical\n",
    "for col in category_cols:\n",
    "    data[col] = data[col].cat.codes.astype(int)\n",
    "data.info()"
   ]
  },
  {
   "cell_type": "code",
   "execution_count": 368,
   "id": "a2522aa4-b61a-4dae-affd-13c24e0675a4",
   "metadata": {},
   "outputs": [],
   "source": [
    "data.to_pickle('data/03_preprocessed.pkl')"
   ]
  },
  {
   "cell_type": "code",
   "execution_count": null,
   "id": "319934d3-41f4-4b40-a99f-baacecd35e7e",
   "metadata": {},
   "outputs": [],
   "source": []
  }
 ],
 "metadata": {
  "kernelspec": {
   "display_name": "Python 3 (ipykernel)",
   "language": "python",
   "name": "python3"
  },
  "language_info": {
   "codemirror_mode": {
    "name": "ipython",
    "version": 3
   },
   "file_extension": ".py",
   "mimetype": "text/x-python",
   "name": "python",
   "nbconvert_exporter": "python",
   "pygments_lexer": "ipython3",
   "version": "3.9.12"
  }
 },
 "nbformat": 4,
 "nbformat_minor": 5
}
