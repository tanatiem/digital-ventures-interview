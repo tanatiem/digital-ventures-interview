{
 "cells": [
  {
   "cell_type": "markdown",
   "id": "ea1e6c56-8c09-48d1-803d-439fdd7138ce",
   "metadata": {},
   "source": [
    "# Data Cleaning"
   ]
  },
  {
   "cell_type": "markdown",
   "id": "2fa16faf-0d41-43d7-a229-9413b5783d66",
   "metadata": {},
   "source": [
    "It seems there are quite a number of 'intended' challenges putting in the dataset file. 😂  \n",
    "Pandas read_csv doesn't work"
   ]
  },
  {
   "cell_type": "code",
   "execution_count": 822,
   "id": "e7603b13-79e6-4498-af8c-1fbd499d842b",
   "metadata": {},
   "outputs": [],
   "source": [
    "import pandas as pd\n",
    "import numpy as np\n",
    "import matplotlib.pyplot as plt\n",
    "import csv"
   ]
  },
  {
   "cell_type": "code",
   "execution_count": 823,
   "id": "7436b1b7-d03f-4b98-8a68-0f05d0554a37",
   "metadata": {},
   "outputs": [
    {
     "name": "stdout",
     "output_type": "stream",
     "text": [
      "(316827, 3)\n"
     ]
    },
    {
     "data": {
      "text/html": [
       "<div>\n",
       "<style scoped>\n",
       "    .dataframe tbody tr th:only-of-type {\n",
       "        vertical-align: middle;\n",
       "    }\n",
       "\n",
       "    .dataframe tbody tr th {\n",
       "        vertical-align: top;\n",
       "    }\n",
       "\n",
       "    .dataframe thead th {\n",
       "        text-align: right;\n",
       "    }\n",
       "</style>\n",
       "<table border=\"1\" class=\"dataframe\">\n",
       "  <thead>\n",
       "    <tr style=\"text-align: right;\">\n",
       "      <th></th>\n",
       "      <th>first</th>\n",
       "      <th>row</th>\n",
       "      <th>ncol</th>\n",
       "    </tr>\n",
       "  </thead>\n",
       "  <tbody>\n",
       "    <tr>\n",
       "      <th>0</th>\n",
       "      <td>id</td>\n",
       "      <td>[id, loan_amnt, term, int_rate, installment, g...</td>\n",
       "      <td>27</td>\n",
       "    </tr>\n",
       "    <tr>\n",
       "      <th>1</th>\n",
       "      <td>1</td>\n",
       "      <td>[1, 10000,  60 months, 18.55, 256.94, E, E2, S...</td>\n",
       "      <td>27</td>\n",
       "    </tr>\n",
       "    <tr>\n",
       "      <th>2</th>\n",
       "      <td>2</td>\n",
       "      <td>[2, 12250,  36 months, 11.55, 404.25, B, B3, c...</td>\n",
       "      <td>27</td>\n",
       "    </tr>\n",
       "    <tr>\n",
       "      <th>3</th>\n",
       "      <td>3</td>\n",
       "      <td>[3, 4200,  36 months, 17.77, 151.36, D, D1, MV...</td>\n",
       "      <td>27</td>\n",
       "    </tr>\n",
       "    <tr>\n",
       "      <th>4</th>\n",
       "      <td>4</td>\n",
       "      <td>[4, 6000,  36 months, 15.22, 208.64, C, C3, Co...</td>\n",
       "      <td>27</td>\n",
       "    </tr>\n",
       "  </tbody>\n",
       "</table>\n",
       "</div>"
      ],
      "text/plain": [
       "  first                                                row  ncol\n",
       "0    id  [id, loan_amnt, term, int_rate, installment, g...    27\n",
       "1     1  [1, 10000,  60 months, 18.55, 256.94, E, E2, S...    27\n",
       "2     2  [2, 12250,  36 months, 11.55, 404.25, B, B3, c...    27\n",
       "3     3  [3, 4200,  36 months, 17.77, 151.36, D, D1, MV...    27\n",
       "4     4  [4, 6000,  36 months, 15.22, 208.64, C, C3, Co...    27"
      ]
     },
     "execution_count": 823,
     "metadata": {},
     "output_type": "execute_result"
    }
   ],
   "source": [
    "filename = 'data/dataset.csv'\n",
    "\n",
    "rows = []\n",
    "firsts = []\n",
    "ncols = []\n",
    "\n",
    "# with this setting, the problems of 'newline' character embeded in address column' are handled\n",
    "with open(filename,'r',newline='') as file:\n",
    "    reader = csv.reader(file, quotechar='\"', delimiter=',',doublequote=True)#quoting=csv.QUOTE_ALL)\n",
    "    for row in reader:\n",
    "        rows.append(row)\n",
    "        firsts.append(row[0]) # for quick check of ids\n",
    "        ncols.append(len(row)) # check number parsed columns\n",
    "        \n",
    "temp = pd.DataFrame({'first': firsts, 'row': rows, 'ncol' : ncols})\n",
    "print(temp.shape)\n",
    "temp.head()"
   ]
  },
  {
   "cell_type": "code",
   "execution_count": 824,
   "id": "8f5ab870-28c8-49c2-b95a-17f6f888872c",
   "metadata": {},
   "outputs": [
    {
     "data": {
      "text/html": [
       "<div>\n",
       "<style scoped>\n",
       "    .dataframe tbody tr th:only-of-type {\n",
       "        vertical-align: middle;\n",
       "    }\n",
       "\n",
       "    .dataframe tbody tr th {\n",
       "        vertical-align: top;\n",
       "    }\n",
       "\n",
       "    .dataframe thead th {\n",
       "        text-align: right;\n",
       "    }\n",
       "</style>\n",
       "<table border=\"1\" class=\"dataframe\">\n",
       "  <thead>\n",
       "    <tr style=\"text-align: right;\">\n",
       "      <th></th>\n",
       "      <th>first</th>\n",
       "      <th>row</th>\n",
       "      <th>ncol</th>\n",
       "    </tr>\n",
       "  </thead>\n",
       "  <tbody>\n",
       "    <tr>\n",
       "      <th>271</th>\n",
       "      <td>356</td>\n",
       "      <td>[356, 20000,  36 months, 14.33, 686.77, C, C1,...</td>\n",
       "      <td>9</td>\n",
       "    </tr>\n",
       "    <tr>\n",
       "      <th>34791</th>\n",
       "      <td>97478</td>\n",
       "      <td>[97478, 21500,  60 months, 18.25, 548.89, D, D...</td>\n",
       "      <td>32</td>\n",
       "    </tr>\n",
       "    <tr>\n",
       "      <th>78154</th>\n",
       "      <td>West Katiefort</td>\n",
       "      <td>[West Katiefort,  SD 93700\"]</td>\n",
       "      <td>2</td>\n",
       "    </tr>\n",
       "  </tbody>\n",
       "</table>\n",
       "</div>"
      ],
      "text/plain": [
       "                first                                                row  ncol\n",
       "271               356  [356, 20000,  36 months, 14.33, 686.77, C, C1,...     9\n",
       "34791           97478  [97478, 21500,  60 months, 18.25, 548.89, D, D...    32\n",
       "78154  West Katiefort                       [West Katiefort,  SD 93700\"]     2"
      ]
     },
     "execution_count": 824,
     "metadata": {},
     "output_type": "execute_result"
    }
   ],
   "source": [
    "# find rows with issues\n",
    "temp[temp.ncol != 27]"
   ]
  },
  {
   "cell_type": "markdown",
   "id": "ab63cfcb-467b-40f3-a115-3efb370f0d3e",
   "metadata": {},
   "source": [
    "And this row's address seems to be trampled. Just before 78154"
   ]
  },
  {
   "cell_type": "code",
   "execution_count": 825,
   "id": "17a03978-64a2-40c7-89f2-8a28dfd57315",
   "metadata": {},
   "outputs": [
    {
     "data": {
      "text/plain": [
       "['54313',\n",
       " '9000',\n",
       " ' 36 months',\n",
       " '7.49',\n",
       " '279.92',\n",
       " 'A',\n",
       " 'A4',\n",
       " 'friendship center golf cars',\n",
       " '4 years',\n",
       " 'RENT',\n",
       " '40000.0',\n",
       " 'Not Verified',\n",
       " 'Fully Paid',\n",
       " 'debt_consolidation',\n",
       " 'personal loan',\n",
       " '22.41',\n",
       " 'Apr-2000',\n",
       " '15',\n",
       " '0',\n",
       " '13414',\n",
       " '21.9',\n",
       " '29',\n",
       " 'f',\n",
       " 'INDIVIDUAL',\n",
       " '',\n",
       " '0.0',\n",
       " '49842 Deanna Street Apt. 820\\r\\nNorth Deborah, Mn,Debt consolidation,37.1,Sep-2004,24,0,5293,8.4,53,w,INDIVIDUAL,4.0,0.0,49778 Nancy Lake Apt. 783']"
      ]
     },
     "execution_count": 825,
     "metadata": {},
     "output_type": "execute_result"
    }
   ],
   "source": [
    "temp.iloc[78153].row"
   ]
  },
  {
   "cell_type": "code",
   "execution_count": 826,
   "id": "447f80fc-89cb-492e-9726-be9741d8e1c0",
   "metadata": {},
   "outputs": [
    {
     "data": {
      "text/plain": [
       "(316822, 27)"
      ]
     },
     "execution_count": 826,
     "metadata": {},
     "output_type": "execute_result"
    }
   ],
   "source": [
    "col_names = temp.iloc[0,1]\n",
    "exclude_rec_no = [0, 271, 34791, 78153, 78154]\n",
    "df = pd.DataFrame(temp.loc[~temp.index.isin(exclude_rec_no), 'row'].tolist(), columns=col_names)\n",
    "df.shape"
   ]
  },
  {
   "cell_type": "code",
   "execution_count": 827,
   "id": "367c7fc5-b5c1-4ec1-a3e8-00e1743f1d18",
   "metadata": {},
   "outputs": [
    {
     "data": {
      "text/html": [
       "<div>\n",
       "<style scoped>\n",
       "    .dataframe tbody tr th:only-of-type {\n",
       "        vertical-align: middle;\n",
       "    }\n",
       "\n",
       "    .dataframe tbody tr th {\n",
       "        vertical-align: top;\n",
       "    }\n",
       "\n",
       "    .dataframe thead th {\n",
       "        text-align: right;\n",
       "    }\n",
       "</style>\n",
       "<table border=\"1\" class=\"dataframe\">\n",
       "  <thead>\n",
       "    <tr style=\"text-align: right;\">\n",
       "      <th></th>\n",
       "      <th>id</th>\n",
       "      <th>loan_amnt</th>\n",
       "      <th>term</th>\n",
       "      <th>int_rate</th>\n",
       "      <th>installment</th>\n",
       "      <th>grade</th>\n",
       "      <th>sub_grade</th>\n",
       "      <th>emp_title</th>\n",
       "      <th>emp_length</th>\n",
       "      <th>home_ownership</th>\n",
       "      <th>...</th>\n",
       "      <th>open_acc</th>\n",
       "      <th>pub_rec</th>\n",
       "      <th>revol_bal</th>\n",
       "      <th>revol_util</th>\n",
       "      <th>total_acc</th>\n",
       "      <th>initial_list_status</th>\n",
       "      <th>application_type</th>\n",
       "      <th>mort_acc</th>\n",
       "      <th>pub_rec_bankruptcies</th>\n",
       "      <th>address</th>\n",
       "    </tr>\n",
       "  </thead>\n",
       "  <tbody>\n",
       "    <tr>\n",
       "      <th>0</th>\n",
       "      <td>1</td>\n",
       "      <td>10000</td>\n",
       "      <td>60 months</td>\n",
       "      <td>18.55</td>\n",
       "      <td>256.94</td>\n",
       "      <td>E</td>\n",
       "      <td>E2</td>\n",
       "      <td>Sr. Director OF Marketing &amp; Business Dev</td>\n",
       "      <td>5 years</td>\n",
       "      <td>MORTGAGE</td>\n",
       "      <td>...</td>\n",
       "      <td>16</td>\n",
       "      <td>0</td>\n",
       "      <td>151198</td>\n",
       "      <td>92.4</td>\n",
       "      <td>31</td>\n",
       "      <td>f</td>\n",
       "      <td>INDIVIDUAL</td>\n",
       "      <td>3.0</td>\n",
       "      <td>0.0</td>\n",
       "      <td>257 Smith Circles Apt. 186\\r\\nWilsonland, NH 1...</td>\n",
       "    </tr>\n",
       "    <tr>\n",
       "      <th>1</th>\n",
       "      <td>2</td>\n",
       "      <td>12250</td>\n",
       "      <td>36 months</td>\n",
       "      <td>11.55</td>\n",
       "      <td>404.25</td>\n",
       "      <td>B</td>\n",
       "      <td>B3</td>\n",
       "      <td>clearwater towing</td>\n",
       "      <td>2 years</td>\n",
       "      <td>OWN</td>\n",
       "      <td>...</td>\n",
       "      <td>8</td>\n",
       "      <td>0</td>\n",
       "      <td>16125</td>\n",
       "      <td>79.4</td>\n",
       "      <td>16</td>\n",
       "      <td>f</td>\n",
       "      <td>INDIVIDUAL</td>\n",
       "      <td>0.0</td>\n",
       "      <td>0.0</td>\n",
       "      <td>632 Villanueva View\\r\\nLawrencechester, NM 00813</td>\n",
       "    </tr>\n",
       "    <tr>\n",
       "      <th>2</th>\n",
       "      <td>3</td>\n",
       "      <td>4200</td>\n",
       "      <td>36 months</td>\n",
       "      <td>17.77</td>\n",
       "      <td>151.36</td>\n",
       "      <td>D</td>\n",
       "      <td>D1</td>\n",
       "      <td>MV Transportation</td>\n",
       "      <td>4 years</td>\n",
       "      <td>RENT</td>\n",
       "      <td>...</td>\n",
       "      <td>6</td>\n",
       "      <td>0</td>\n",
       "      <td>9525</td>\n",
       "      <td>73.8</td>\n",
       "      <td>7</td>\n",
       "      <td>f</td>\n",
       "      <td>INDIVIDUAL</td>\n",
       "      <td>0.0</td>\n",
       "      <td>0.0</td>\n",
       "      <td>612 Gillespie Island\\r\\nDavisside, KY 93700</td>\n",
       "    </tr>\n",
       "    <tr>\n",
       "      <th>3</th>\n",
       "      <td>4</td>\n",
       "      <td>6000</td>\n",
       "      <td>36 months</td>\n",
       "      <td>15.22</td>\n",
       "      <td>208.64</td>\n",
       "      <td>C</td>\n",
       "      <td>C3</td>\n",
       "      <td>County of Santa Clara</td>\n",
       "      <td>10+ years</td>\n",
       "      <td>RENT</td>\n",
       "      <td>...</td>\n",
       "      <td>9</td>\n",
       "      <td>0</td>\n",
       "      <td>12832</td>\n",
       "      <td>82.8</td>\n",
       "      <td>16</td>\n",
       "      <td>w</td>\n",
       "      <td>INDIVIDUAL</td>\n",
       "      <td>0.0</td>\n",
       "      <td>0.0</td>\n",
       "      <td>781 Jessica Trail\\r\\nRyanton, FL 05113</td>\n",
       "    </tr>\n",
       "    <tr>\n",
       "      <th>4</th>\n",
       "      <td>5</td>\n",
       "      <td>16200</td>\n",
       "      <td>36 months</td>\n",
       "      <td>10.16</td>\n",
       "      <td>523.95</td>\n",
       "      <td>B</td>\n",
       "      <td>B1</td>\n",
       "      <td>Memorial Hermann</td>\n",
       "      <td>&lt; 1 year</td>\n",
       "      <td>MORTGAGE</td>\n",
       "      <td>...</td>\n",
       "      <td>8</td>\n",
       "      <td>0</td>\n",
       "      <td>27084</td>\n",
       "      <td>71.7</td>\n",
       "      <td>24</td>\n",
       "      <td>f</td>\n",
       "      <td>INDIVIDUAL</td>\n",
       "      <td>4.0</td>\n",
       "      <td>0.0</td>\n",
       "      <td>261 Ashley Knolls\\r\\nNew Victor, CO 70466</td>\n",
       "    </tr>\n",
       "  </tbody>\n",
       "</table>\n",
       "<p>5 rows × 27 columns</p>\n",
       "</div>"
      ],
      "text/plain": [
       "  id loan_amnt        term int_rate installment grade sub_grade  \\\n",
       "0  1     10000   60 months    18.55      256.94     E        E2   \n",
       "1  2     12250   36 months    11.55      404.25     B        B3   \n",
       "2  3      4200   36 months    17.77      151.36     D        D1   \n",
       "3  4      6000   36 months    15.22      208.64     C        C3   \n",
       "4  5     16200   36 months    10.16      523.95     B        B1   \n",
       "\n",
       "                                  emp_title emp_length home_ownership  ...  \\\n",
       "0  Sr. Director OF Marketing & Business Dev    5 years       MORTGAGE  ...   \n",
       "1                         clearwater towing    2 years            OWN  ...   \n",
       "2                         MV Transportation    4 years           RENT  ...   \n",
       "3                     County of Santa Clara  10+ years           RENT  ...   \n",
       "4                          Memorial Hermann   < 1 year       MORTGAGE  ...   \n",
       "\n",
       "  open_acc pub_rec revol_bal revol_util total_acc initial_list_status  \\\n",
       "0       16       0    151198       92.4        31                   f   \n",
       "1        8       0     16125       79.4        16                   f   \n",
       "2        6       0      9525       73.8         7                   f   \n",
       "3        9       0     12832       82.8        16                   w   \n",
       "4        8       0     27084       71.7        24                   f   \n",
       "\n",
       "  application_type mort_acc pub_rec_bankruptcies  \\\n",
       "0       INDIVIDUAL      3.0                  0.0   \n",
       "1       INDIVIDUAL      0.0                  0.0   \n",
       "2       INDIVIDUAL      0.0                  0.0   \n",
       "3       INDIVIDUAL      0.0                  0.0   \n",
       "4       INDIVIDUAL      4.0                  0.0   \n",
       "\n",
       "                                             address  \n",
       "0  257 Smith Circles Apt. 186\\r\\nWilsonland, NH 1...  \n",
       "1   632 Villanueva View\\r\\nLawrencechester, NM 00813  \n",
       "2        612 Gillespie Island\\r\\nDavisside, KY 93700  \n",
       "3             781 Jessica Trail\\r\\nRyanton, FL 05113  \n",
       "4          261 Ashley Knolls\\r\\nNew Victor, CO 70466  \n",
       "\n",
       "[5 rows x 27 columns]"
      ]
     },
     "execution_count": 827,
     "metadata": {},
     "output_type": "execute_result"
    }
   ],
   "source": [
    "df.head()"
   ]
  },
  {
   "cell_type": "code",
   "execution_count": 828,
   "id": "db2ff517-6691-4175-9592-f7401dbf7ecc",
   "metadata": {},
   "outputs": [
    {
     "name": "stdout",
     "output_type": "stream",
     "text": [
      "<class 'pandas.core.frame.DataFrame'>\n",
      "RangeIndex: 316822 entries, 0 to 316821\n",
      "Data columns (total 27 columns):\n",
      " #   Column                Non-Null Count   Dtype \n",
      "---  ------                --------------   ----- \n",
      " 0   id                    316822 non-null  object\n",
      " 1   loan_amnt             316822 non-null  object\n",
      " 2   term                  316822 non-null  object\n",
      " 3   int_rate              316822 non-null  object\n",
      " 4   installment           316822 non-null  object\n",
      " 5   grade                 316822 non-null  object\n",
      " 6   sub_grade             316822 non-null  object\n",
      " 7   emp_title             316822 non-null  object\n",
      " 8   emp_length            316822 non-null  object\n",
      " 9   home_ownership        316822 non-null  object\n",
      " 10  annual_inc            316822 non-null  object\n",
      " 11  verification_status   316822 non-null  object\n",
      " 12  loan_status           316822 non-null  object\n",
      " 13  purpose               316822 non-null  object\n",
      " 14  title                 316822 non-null  object\n",
      " 15  dti                   316822 non-null  object\n",
      " 16  earliest_cr_line      316822 non-null  object\n",
      " 17  open_acc              316822 non-null  object\n",
      " 18  pub_rec               316822 non-null  object\n",
      " 19  revol_bal             316822 non-null  object\n",
      " 20  revol_util            316822 non-null  object\n",
      " 21  total_acc             316822 non-null  object\n",
      " 22  initial_list_status   316822 non-null  object\n",
      " 23  application_type      316822 non-null  object\n",
      " 24  mort_acc              316822 non-null  object\n",
      " 25  pub_rec_bankruptcies  316822 non-null  object\n",
      " 26  address               316822 non-null  object\n",
      "dtypes: object(27)\n",
      "memory usage: 65.3+ MB\n"
     ]
    }
   ],
   "source": [
    "df.info()"
   ]
  },
  {
   "cell_type": "markdown",
   "id": "6bdcb6df-0135-40fa-b82a-d378d4014d7d",
   "metadata": {},
   "source": [
    "- No (physical) missing values\n",
    "- Will go through data types, uniqueness, data validity, etc."
   ]
  },
  {
   "cell_type": "markdown",
   "id": "171a6029-c547-4c85-96e4-ae042cc3cc05",
   "metadata": {},
   "source": [
    "# Data Cleansing\n",
    "\n",
    "And doing some basic EDA along the way."
   ]
  },
  {
   "cell_type": "markdown",
   "id": "d2486966-755e-4e65-9c10-c95c5095d53b",
   "metadata": {},
   "source": [
    "### ID"
   ]
  },
  {
   "cell_type": "code",
   "execution_count": 829,
   "id": "3f9f5a68-edc8-4d5d-ac20-ce3c38379369",
   "metadata": {},
   "outputs": [
    {
     "data": {
      "text/plain": [
       "(316822, 316822)"
      ]
     },
     "execution_count": 829,
     "metadata": {},
     "output_type": "execute_result"
    }
   ],
   "source": [
    "# check uniqueness, ok no duplicate id\n",
    "df.shape[0], df.id.nunique()"
   ]
  },
  {
   "cell_type": "code",
   "execution_count": 830,
   "id": "93727528-3b2b-4f21-b1cc-8720347f61ac",
   "metadata": {},
   "outputs": [
    {
     "data": {
      "text/plain": [
       "0              1\n",
       "1              2\n",
       "2              3\n",
       "3              4\n",
       "4              5\n",
       "           ...  \n",
       "316817    396023\n",
       "316818    396026\n",
       "316819    396027\n",
       "316820    396028\n",
       "316821    396029\n",
       "Name: id, Length: 316822, dtype: int32"
      ]
     },
     "execution_count": 830,
     "metadata": {},
     "output_type": "execute_result"
    }
   ],
   "source": [
    "# just to make sure that id looks numeric, but we'll just keep it as object\n",
    "df.id.astype(int)"
   ]
  },
  {
   "cell_type": "markdown",
   "id": "d8b63714-634b-4433-8594-0d5a156efc58",
   "metadata": {},
   "source": [
    "### Loan amount"
   ]
  },
  {
   "cell_type": "code",
   "execution_count": 831,
   "id": "99e37935-f940-4e12-ad1e-b8265ad1633f",
   "metadata": {},
   "outputs": [
    {
     "data": {
      "text/plain": [
       "-1    316822\n",
       "Name: loan_amnt, dtype: int64"
      ]
     },
     "execution_count": 831,
     "metadata": {},
     "output_type": "execute_result"
    }
   ],
   "source": [
    "# see if it contain decimal point, if no -> integer\n",
    "df.loan_amnt.str.find('.').value_counts()"
   ]
  },
  {
   "cell_type": "code",
   "execution_count": 832,
   "id": "84e95b80-e767-46a4-87c3-6eb3ccebeb78",
   "metadata": {},
   "outputs": [
    {
     "data": {
      "image/png": "[encoded data removed]",
      "text/plain": [
       "<Figure size 432x288 with 1 Axes>"
      ]
     },
     "metadata": {
      "needs_background": "light"
     },
     "output_type": "display_data"
    }
   ],
   "source": [
    "# see if there's an error in conversion\n",
    "df.loan_amnt.astype(int).hist(bins=50);"
   ]
  },
  {
   "cell_type": "code",
   "execution_count": 833,
   "id": "2dd0366c-970a-4405-a4f0-162d54d38930",
   "metadata": {},
   "outputs": [],
   "source": [
    "# convert\n",
    "df.loan_amnt = df.loan_amnt.astype(int)"
   ]
  },
  {
   "cell_type": "markdown",
   "id": "9286f37c-891f-40cd-9924-61e3e18e0964",
   "metadata": {},
   "source": [
    "### Term"
   ]
  },
  {
   "cell_type": "code",
   "execution_count": 834,
   "id": "b01ca202-c688-467f-98e6-63f534939839",
   "metadata": {},
   "outputs": [
    {
     "data": {
      "text/plain": [
       " 36 months    243903\n",
       " 60 months     72919\n",
       "Name: term, dtype: int64"
      ]
     },
     "execution_count": 834,
     "metadata": {},
     "output_type": "execute_result"
    }
   ],
   "source": [
    "df.term.value_counts()"
   ]
  },
  {
   "cell_type": "code",
   "execution_count": 835,
   "id": "c6edecdd-b723-4ed7-8ad1-194ad04aec2b",
   "metadata": {},
   "outputs": [
    {
     "data": {
      "image/png": "[encoded data removed]",
      "text/plain": [
       "<Figure size 432x288 with 1 Axes>"
      ]
     },
     "metadata": {
      "needs_background": "light"
     },
     "output_type": "display_data"
    }
   ],
   "source": [
    "df.term = df.term.str.strip()\n",
    "df.term.value_counts(normalize=True).plot.bar();"
   ]
  },
  {
   "cell_type": "markdown",
   "id": "766b9d46-8db1-4d11-9b93-07c4986b9b45",
   "metadata": {},
   "source": [
    "### Interest Rate"
   ]
  },
  {
   "cell_type": "code",
   "execution_count": 836,
   "id": "2e5deef3-abc5-452c-bfb4-ae5cd6b814eb",
   "metadata": {},
   "outputs": [
    {
     "data": {
      "image/png": "[encoded data removed]",
      "text/plain": [
       "<Figure size 432x288 with 1 Axes>"
      ]
     },
     "metadata": {
      "needs_background": "light"
     },
     "output_type": "display_data"
    }
   ],
   "source": [
    "df.int_rate.astype('float').hist(bins=50);"
   ]
  },
  {
   "cell_type": "code",
   "execution_count": 837,
   "id": "e8994595-7280-4768-b348-1eee2495f039",
   "metadata": {},
   "outputs": [],
   "source": [
    "df.int_rate = df.int_rate.astype('float')"
   ]
  },
  {
   "cell_type": "markdown",
   "id": "ebcf3680-4f93-4ee7-8090-7f019ef5f447",
   "metadata": {},
   "source": [
    "### Installment"
   ]
  },
  {
   "cell_type": "code",
   "execution_count": 838,
   "id": "20d4c6b3-1b7f-475f-b879-37a4747749fe",
   "metadata": {},
   "outputs": [
    {
     "data": {
      "image/png": "[encoded data removed]",
      "text/plain": [
       "<Figure size 432x288 with 1 Axes>"
      ]
     },
     "metadata": {
      "needs_background": "light"
     },
     "output_type": "display_data"
    }
   ],
   "source": [
    "df.installment.astype(float).hist(bins=50);"
   ]
  },
  {
   "cell_type": "code",
   "execution_count": 839,
   "id": "cba2afa0-8960-4d4d-8872-5112f5f9fe92",
   "metadata": {},
   "outputs": [],
   "source": [
    "df.installment = df.installment.astype('float')"
   ]
  },
  {
   "cell_type": "markdown",
   "id": "3deaa78f-5155-410d-ac5b-34b72e60a5eb",
   "metadata": {},
   "source": [
    "### Grade & Sub-grade"
   ]
  },
  {
   "cell_type": "code",
   "execution_count": 840,
   "id": "70306307-f894-4777-af78-2298cedf3e12",
   "metadata": {},
   "outputs": [
    {
     "data": {
      "image/png": "[encoded data removed]",
      "text/plain": [
       "<Figure size 432x288 with 1 Axes>"
      ]
     },
     "metadata": {
      "needs_background": "light"
     },
     "output_type": "display_data"
    }
   ],
   "source": [
    "df.grade.value_counts(normalize=True, sort=False).sort_index(ascending=False).plot.barh();"
   ]
  },
  {
   "cell_type": "code",
   "execution_count": 841,
   "id": "c01f9175-8ea3-462f-9428-620b4bc3541e",
   "metadata": {},
   "outputs": [
    {
     "data": {
      "image/png": "[encoded data removed]",
      "text/plain": [
       "<Figure size 432x432 with 1 Axes>"
      ]
     },
     "metadata": {
      "needs_background": "light"
     },
     "output_type": "display_data"
    }
   ],
   "source": [
    "df.sub_grade.value_counts(normalize=True, sort=False).sort_index(ascending=False).plot.barh(figsize=(6,6));"
   ]
  },
  {
   "cell_type": "markdown",
   "id": "7a9340e7-d218-4e6c-957e-0177cb0aead5",
   "metadata": {},
   "source": [
    "### Employment Title"
   ]
  },
  {
   "cell_type": "code",
   "execution_count": 842,
   "id": "577adb49-aab6-4b7c-b891-6b723d79e153",
   "metadata": {},
   "outputs": [
    {
     "data": {
      "text/plain": [
       "                        5.704781\n",
       "manager                 1.468964\n",
       "teacher                 1.396368\n",
       "supervisor              0.701656\n",
       "registered nurse        0.696290\n",
       "                          ...   \n",
       "recreation supt.        0.000316\n",
       "washfloor               0.000316\n",
       "legal expert            0.000316\n",
       "st. clair hospital      0.000316\n",
       "shubert organization    0.000316\n",
       "Name: emp_title, Length: 124808, dtype: float64"
      ]
     },
     "execution_count": 842,
     "metadata": {},
     "output_type": "execute_result"
    }
   ],
   "source": [
    "df.emp_title = df.emp_title.str.strip().str.lower()\n",
    "df.emp_title.value_counts(normalize=True, dropna=False)*100"
   ]
  },
  {
   "cell_type": "code",
   "execution_count": 843,
   "id": "7eff4c39-1c83-4bbb-8cd0-e82792052087",
   "metadata": {},
   "outputs": [
    {
     "data": {
      "text/plain": [
       "124808"
      ]
     },
     "execution_count": 843,
     "metadata": {},
     "output_type": "execute_result"
    }
   ],
   "source": [
    "df.emp_title.nunique()"
   ]
  },
  {
   "cell_type": "markdown",
   "id": "cb4ed033-b266-47b3-a4e1-4ace0e42444a",
   "metadata": {},
   "source": [
    "Too high cardinality, we need an appropriate way to group them, probably, using NLP or Universal Sentence Encoder + K-means to categorize.\n",
    "But for this test, I'll leave it."
   ]
  },
  {
   "cell_type": "markdown",
   "id": "03235f70-581d-4d6d-a80d-114d73e16d20",
   "metadata": {},
   "source": [
    "### Employment length"
   ]
  },
  {
   "cell_type": "code",
   "execution_count": 844,
   "id": "f6c8f845-a301-4f14-bbbd-289b66afa0b1",
   "metadata": {},
   "outputs": [
    {
     "data": {
      "text/plain": [
       "10+ years    101131\n",
       "2 years       28732\n",
       "3 years       25355\n",
       "< 1 year      25255\n",
       "5 years       21284\n",
       "1 year        20676\n",
       "4 years       19233\n",
       "6 years       16708\n",
       "7 years       16544\n",
       "8 years       15412\n",
       "              14333\n",
       "9 years       12159\n",
       "Name: emp_length, dtype: int64"
      ]
     },
     "execution_count": 844,
     "metadata": {},
     "output_type": "execute_result"
    }
   ],
   "source": [
    "df.emp_length.value_counts()"
   ]
  },
  {
   "cell_type": "code",
   "execution_count": 845,
   "id": "5da0b13b-2c93-43ea-abd2-59fa80700537",
   "metadata": {},
   "outputs": [
    {
     "data": {
      "image/png": "[encoded data removed]",
      "text/plain": [
       "<Figure size 432x288 with 1 Axes>"
      ]
     },
     "metadata": {
      "needs_background": "light"
     },
     "output_type": "display_data"
    }
   ],
   "source": [
    "df.emp_length.value_counts(normalize=True).sort_index().plot.barh();"
   ]
  },
  {
   "cell_type": "markdown",
   "id": "a1ce01fd-2a88-4df6-93a6-db72c827d5d0",
   "metadata": {},
   "source": [
    "### Home ownership"
   ]
  },
  {
   "cell_type": "code",
   "execution_count": 846,
   "id": "e92f202f-26a2-4e6a-87c7-e8cadf761b7a",
   "metadata": {},
   "outputs": [
    {
     "data": {
      "text/plain": [
       "MORTGAGE    159670\n",
       "RENT        126957\n",
       "OWN          30077\n",
       "OTHER           93\n",
       "NONE            23\n",
       "ANY              2\n",
       "Name: home_ownership, dtype: int64"
      ]
     },
     "execution_count": 846,
     "metadata": {},
     "output_type": "execute_result"
    }
   ],
   "source": [
    "df.home_ownership.value_counts()"
   ]
  },
  {
   "cell_type": "markdown",
   "id": "a1933d3b-9122-4a4c-970e-5f6a66e83114",
   "metadata": {},
   "source": [
    "### Annual income"
   ]
  },
  {
   "cell_type": "code",
   "execution_count": 847,
   "id": "2ad7e09a-7228-4216-8f01-36481cda76b4",
   "metadata": {},
   "outputs": [
    {
     "data": {
      "text/plain": [
       "count    3.168220e+05\n",
       "mean     7.453170e+04\n",
       "std      6.289009e+04\n",
       "min      0.000000e+00\n",
       "25%      4.500000e+04\n",
       "50%      6.450000e+04\n",
       "75%      9.000000e+04\n",
       "max      8.706582e+06\n",
       "Name: annual_inc, dtype: float64"
      ]
     },
     "execution_count": 847,
     "metadata": {},
     "output_type": "execute_result"
    }
   ],
   "source": [
    "df.annual_inc = df.annual_inc.astype('float')\n",
    "df.annual_inc.describe()"
   ]
  },
  {
   "cell_type": "markdown",
   "id": "25771dd7-579a-42a6-bc5b-6a0000a70750",
   "metadata": {},
   "source": [
    "### Verification status"
   ]
  },
  {
   "cell_type": "code",
   "execution_count": 848,
   "id": "138bea11-2e6e-485e-9889-a5044eda0d63",
   "metadata": {},
   "outputs": [
    {
     "data": {
      "text/plain": [
       "Verified           0.349250\n",
       "Source Verified    0.330103\n",
       "Not Verified       0.320647\n",
       "Name: verification_status, dtype: float64"
      ]
     },
     "execution_count": 848,
     "metadata": {},
     "output_type": "execute_result"
    }
   ],
   "source": [
    "df.verification_status.value_counts(normalize=True)"
   ]
  },
  {
   "cell_type": "markdown",
   "id": "8aa186ab-fab7-4ec8-bf23-d73e96b5cf60",
   "metadata": {},
   "source": [
    "### Loan status"
   ]
  },
  {
   "cell_type": "code",
   "execution_count": 849,
   "id": "33506a30-3a4c-43dd-a6f3-7621f431c0ef",
   "metadata": {},
   "outputs": [
    {
     "data": {
      "text/plain": [
       "Fully Paid     0.84234\n",
       "Charged Off    0.15766\n",
       "Name: loan_status, dtype: float64"
      ]
     },
     "execution_count": 849,
     "metadata": {},
     "output_type": "execute_result"
    }
   ],
   "source": [
    "df.loan_status.value_counts(normalize=True)"
   ]
  },
  {
   "cell_type": "markdown",
   "id": "31922bf8-ae92-4d89-84a1-9e422b574ec0",
   "metadata": {},
   "source": [
    "- Imbalanced\n",
    "- Will encode 0/1 : Charged Off/Fully Paid later"
   ]
  },
  {
   "cell_type": "markdown",
   "id": "523addb1-9b10-4e39-ad94-60a3be828ccb",
   "metadata": {},
   "source": [
    "### Purpose"
   ]
  },
  {
   "cell_type": "code",
   "execution_count": 850,
   "id": "7190b1d5-af57-4aed-ab9f-3c28da793ba9",
   "metadata": {},
   "outputs": [
    {
     "data": {
      "text/plain": [
       "debt_consolidation    59.027467\n",
       "credit_card           21.154781\n",
       "home_improvement       6.065867\n",
       "other                  5.339591\n",
       "major_purchase         2.231853\n",
       "small_business         1.416253\n",
       "car                    1.208249\n",
       "medical                1.058639\n",
       "moving                 0.709862\n",
       "vacation               0.619591\n",
       "house                  0.558358\n",
       "wedding                0.461458\n",
       "renewable_energy       0.081118\n",
       "educational            0.066915\n",
       "Name: purpose, dtype: float64"
      ]
     },
     "execution_count": 850,
     "metadata": {},
     "output_type": "execute_result"
    }
   ],
   "source": [
    "df.purpose = df.purpose.str.strip().str.lower()\n",
    "df.purpose.value_counts(normalize=True)*100"
   ]
  },
  {
   "cell_type": "markdown",
   "id": "e192c107-7b24-4a1e-ba0d-a2adc6eb6a46",
   "metadata": {},
   "source": [
    "### Title"
   ]
  },
  {
   "cell_type": "code",
   "execution_count": 851,
   "id": "029bc76f-c97a-40bd-9ab5-2db017dc313f",
   "metadata": {},
   "outputs": [
    {
     "data": {
      "text/plain": [
       "40694"
      ]
     },
     "execution_count": 851,
     "metadata": {},
     "output_type": "execute_result"
    }
   ],
   "source": [
    "df.title.nunique()"
   ]
  },
  {
   "cell_type": "code",
   "execution_count": 852,
   "id": "09e4a826-0f15-40a2-a383-79986918b02f",
   "metadata": {},
   "outputs": [
    {
     "data": {
      "text/plain": [
       "33496"
      ]
     },
     "execution_count": 852,
     "metadata": {},
     "output_type": "execute_result"
    }
   ],
   "source": [
    "df.title = df.title.str.strip().str.lower()\n",
    "df.title.nunique()"
   ]
  },
  {
   "cell_type": "markdown",
   "id": "86591e51-bfb0-472f-9079-a9644f8d2c96",
   "metadata": {},
   "source": [
    "### DTI (Debt-to-Income)"
   ]
  },
  {
   "cell_type": "code",
   "execution_count": 853,
   "id": "6886a747-d345-4f8f-8d67-85a219245cfa",
   "metadata": {},
   "outputs": [],
   "source": [
    "df.dti = df.dti.astype('float')"
   ]
  },
  {
   "cell_type": "code",
   "execution_count": 854,
   "id": "d33150ff-a2b4-4289-bda8-9169a632920b",
   "metadata": {},
   "outputs": [
    {
     "data": {
      "text/plain": [
       "count    316822.000000\n",
       "mean         17.278282\n",
       "std          19.720789\n",
       "min           0.000000\n",
       "25%          11.200000\n",
       "50%          16.790000\n",
       "75%          22.850000\n",
       "95%          31.450000\n",
       "99%          36.280000\n",
       "max        9999.000000\n",
       "Name: dti, dtype: float64"
      ]
     },
     "execution_count": 854,
     "metadata": {},
     "output_type": "execute_result"
    }
   ],
   "source": [
    "df.dti.describe(percentiles=[.25,.75,.95,.99])"
   ]
  },
  {
   "cell_type": "code",
   "execution_count": 855,
   "id": "2775a6a4-5c1b-49ee-bbcb-1cbac6157311",
   "metadata": {},
   "outputs": [
    {
     "data": {
      "text/plain": [
       "62497       49.25\n",
       "294         49.38\n",
       "168180      49.38\n",
       "179584      49.42\n",
       "299739      49.55\n",
       "31950       49.56\n",
       "19010       50.10\n",
       "63932       51.20\n",
       "135782      52.02\n",
       "307587      52.80\n",
       "57803       54.90\n",
       "48102       55.42\n",
       "208054      55.53\n",
       "302542      57.14\n",
       "126565      58.90\n",
       "44524       59.26\n",
       "189152      62.70\n",
       "289732      62.80\n",
       "43528       63.10\n",
       "291252      63.98\n",
       "284940      71.40\n",
       "58042       77.95\n",
       "69884       88.21\n",
       "133032      92.13\n",
       "216394     107.55\n",
       "155401     120.66\n",
       "170082     138.03\n",
       "58658      145.65\n",
       "49521      189.90\n",
       "138862     380.53\n",
       "297147    1622.00\n",
       "74807     9999.00\n",
       "Name: dti, dtype: float64"
      ]
     },
     "execution_count": 855,
     "metadata": {},
     "output_type": "execute_result"
    }
   ],
   "source": [
    "# will have to handle extreme values later\n",
    "df[df.dti > df.dti.quantile(.9999)].dti.sort_values()"
   ]
  },
  {
   "cell_type": "markdown",
   "id": "fef9ce9b-bcc5-4e47-b480-e50a7d69d7a5",
   "metadata": {},
   "source": [
    "### Earliest cr line"
   ]
  },
  {
   "cell_type": "code",
   "execution_count": 856,
   "id": "f7d0cbc9-42b8-4484-8f31-3e7e68b20bc2",
   "metadata": {},
   "outputs": [
    {
     "data": {
      "text/plain": [
       "0         Feb-2001\n",
       "1         Aug-2002\n",
       "2         Dec-2006\n",
       "3         Jun-1987\n",
       "4         Aug-1990\n",
       "            ...   \n",
       "316817    Oct-1997\n",
       "316818    Feb-2003\n",
       "316819    Aug-1989\n",
       "316820    May-2007\n",
       "316821    May-1982\n",
       "Name: earliest_cr_line, Length: 316822, dtype: object"
      ]
     },
     "execution_count": 856,
     "metadata": {},
     "output_type": "execute_result"
    }
   ],
   "source": [
    "df.earliest_cr_line"
   ]
  },
  {
   "cell_type": "code",
   "execution_count": 857,
   "id": "865cccb6-44d5-4ee7-9b35-0feae4ee1759",
   "metadata": {},
   "outputs": [
    {
     "data": {
      "text/plain": [
       "0        2001-02-01\n",
       "1        2002-08-01\n",
       "2        2006-12-01\n",
       "3        1987-06-01\n",
       "4        1990-08-01\n",
       "            ...    \n",
       "316817   1997-10-01\n",
       "316818   2003-02-01\n",
       "316819   1989-08-01\n",
       "316820   2007-05-01\n",
       "316821   1982-05-01\n",
       "Name: earliest_cr_line, Length: 316822, dtype: datetime64[ns]"
      ]
     },
     "execution_count": 857,
     "metadata": {},
     "output_type": "execute_result"
    }
   ],
   "source": [
    "df.earliest_cr_line = pd.to_datetime(df.earliest_cr_line)\n",
    "df.earliest_cr_line"
   ]
  },
  {
   "cell_type": "markdown",
   "id": "b1c37c35-399c-4c04-9780-08ec8314cd56",
   "metadata": {},
   "source": [
    "### open_acc"
   ]
  },
  {
   "cell_type": "code",
   "execution_count": 858,
   "id": "e0905d10-770c-436d-8d2b-01dc8fc103ef",
   "metadata": {},
   "outputs": [
    {
     "data": {
      "image/png": "[encoded data removed]",
      "text/plain": [
       "<Figure size 432x288 with 1 Axes>"
      ]
     },
     "metadata": {
      "needs_background": "light"
     },
     "output_type": "display_data"
    }
   ],
   "source": [
    "df.open_acc = df.open_acc.astype('int')\n",
    "df.open_acc.hist(bins=50);"
   ]
  },
  {
   "cell_type": "markdown",
   "id": "3b2685c6-c5ad-4990-808b-e474d2fff0ed",
   "metadata": {},
   "source": [
    "### pub_rec"
   ]
  },
  {
   "cell_type": "code",
   "execution_count": 859,
   "id": "39d4debb-e40f-486a-bbda-506e6e6e46f3",
   "metadata": {},
   "outputs": [
    {
     "data": {
      "text/plain": [
       "0     270856\n",
       "1      39610\n",
       "2       4349\n",
       "3       1220\n",
       "4        403\n",
       "5        184\n",
       "6         99\n",
       "7         42\n",
       "8         26\n",
       "9          8\n",
       "11         8\n",
       "10         7\n",
       "13         4\n",
       "86         1\n",
       "24         1\n",
       "40         1\n",
       "19         1\n",
       "17         1\n",
       "12         1\n",
       "Name: pub_rec, dtype: int64"
      ]
     },
     "execution_count": 859,
     "metadata": {},
     "output_type": "execute_result"
    }
   ],
   "source": [
    "df.pub_rec = df.pub_rec.astype('int')\n",
    "df.pub_rec.value_counts()"
   ]
  },
  {
   "cell_type": "markdown",
   "id": "b85cd361-dddf-4043-869f-225a6991da13",
   "metadata": {},
   "source": [
    "### revol_bal"
   ]
  },
  {
   "cell_type": "code",
   "execution_count": 860,
   "id": "1243bd5e-db24-478d-8397-98a0c707f100",
   "metadata": {},
   "outputs": [],
   "source": [
    "df.revol_bal = df.revol_bal.astype('int')"
   ]
  },
  {
   "cell_type": "code",
   "execution_count": 861,
   "id": "ecfa1506-349d-4fe9-8a19-a38c9c5d842b",
   "metadata": {},
   "outputs": [
    {
     "data": {
      "image/png": "[encoded data removed]",
      "text/plain": [
       "<Figure size 432x288 with 1 Axes>"
      ]
     },
     "metadata": {
      "needs_background": "light"
     },
     "output_type": "display_data"
    }
   ],
   "source": [
    "df.revol_bal.hist(bins=50);"
   ]
  },
  {
   "cell_type": "code",
   "execution_count": 862,
   "id": "a2234adb-206b-4373-a315-8413d0b83dcb",
   "metadata": {},
   "outputs": [
    {
     "data": {
      "image/png": "[encoded data removed]",
      "text/plain": [
       "<Figure size 432x288 with 1 Axes>"
      ]
     },
     "metadata": {
      "needs_background": "light"
     },
     "output_type": "display_data"
    }
   ],
   "source": [
    "plt.hist(np.log(df.revol_bal+.000001), bins=50)\n",
    "plt.show()"
   ]
  },
  {
   "cell_type": "markdown",
   "id": "baf4a7d6-4656-4ad8-95b1-ee609737267f",
   "metadata": {},
   "source": [
    "### revol_util"
   ]
  },
  {
   "cell_type": "code",
   "execution_count": 863,
   "id": "44a00de6-55ea-4431-836e-c0627be9f532",
   "metadata": {},
   "outputs": [
    {
     "data": {
      "text/plain": [
       "4    301394\n",
       "3     14183\n",
       "5      1024\n",
       "0       221\n",
       "Name: revol_util, dtype: int64"
      ]
     },
     "execution_count": 863,
     "metadata": {},
     "output_type": "execute_result"
    }
   ],
   "source": [
    "df.revol_util.str.len().value_counts()"
   ]
  },
  {
   "cell_type": "code",
   "execution_count": 864,
   "id": "6f40a6e4-6ad9-44fa-afac-6445837a2258",
   "metadata": {},
   "outputs": [
    {
     "data": {
      "text/plain": [
       "221"
      ]
     },
     "execution_count": 864,
     "metadata": {},
     "output_type": "execute_result"
    }
   ],
   "source": [
    "df.revol_util = df.revol_util.replace({'':np.nan}).astype('float')\n",
    "df.revol_util.isna().sum()"
   ]
  },
  {
   "cell_type": "code",
   "execution_count": 865,
   "id": "505847b1-7929-4189-8fbf-e3ba761f929c",
   "metadata": {},
   "outputs": [
    {
     "data": {
      "text/plain": [
       "count    316601.000000\n",
       "mean         53.606244\n",
       "std          24.477154\n",
       "min           0.000000\n",
       "25%          35.600000\n",
       "50%          54.600000\n",
       "75%          72.700000\n",
       "90%          86.000000\n",
       "99%          98.000000\n",
       "max         892.300000\n",
       "Name: revol_util, dtype: float64"
      ]
     },
     "execution_count": 865,
     "metadata": {},
     "output_type": "execute_result"
    }
   ],
   "source": [
    "df.revol_util.describe(percentiles=[.25,.75,.9,.99])"
   ]
  },
  {
   "cell_type": "markdown",
   "id": "4879995f-cf69-4e84-bf62-7cbcda713f0f",
   "metadata": {},
   "source": [
    "### total_acc"
   ]
  },
  {
   "cell_type": "code",
   "execution_count": 866,
   "id": "9d3e2a08-e03d-4047-883f-4f7bf5d24b19",
   "metadata": {},
   "outputs": [
    {
     "data": {
      "image/png": "[encoded data removed]",
      "text/plain": [
       "<Figure size 432x288 with 1 Axes>"
      ]
     },
     "metadata": {
      "needs_background": "light"
     },
     "output_type": "display_data"
    }
   ],
   "source": [
    "df.total_acc = df.total_acc.astype('int')\n",
    "df.total_acc.hist(bins=50);"
   ]
  },
  {
   "cell_type": "markdown",
   "id": "fe6ca05a-15bb-452f-8d64-ff09feff2ed4",
   "metadata": {},
   "source": [
    "### initial_list"
   ]
  },
  {
   "cell_type": "code",
   "execution_count": 867,
   "id": "57218b7a-6386-4b48-89a1-0d8abec90543",
   "metadata": {},
   "outputs": [
    {
     "data": {
      "text/plain": [
       "f    60.176692\n",
       "w    39.823308\n",
       "Name: initial_list_status, dtype: float64"
      ]
     },
     "execution_count": 867,
     "metadata": {},
     "output_type": "execute_result"
    }
   ],
   "source": [
    "df.initial_list_status.value_counts(normalize=True)*100"
   ]
  },
  {
   "cell_type": "markdown",
   "id": "6dc456d5-0a17-4994-a4bf-acd40c1235c6",
   "metadata": {},
   "source": [
    "### application_type"
   ]
  },
  {
   "cell_type": "code",
   "execution_count": 868,
   "id": "c9587fa1-0e68-40f0-b2da-966e6299ab8a",
   "metadata": {},
   "outputs": [
    {
     "data": {
      "text/plain": [
       "INDIVIDUAL    99.825770\n",
       "JOINT          0.106053\n",
       "DIRECT_PAY     0.068177\n",
       "Name: application_type, dtype: float64"
      ]
     },
     "execution_count": 868,
     "metadata": {},
     "output_type": "execute_result"
    }
   ],
   "source": [
    "df.application_type.value_counts(normalize=True)*100"
   ]
  },
  {
   "cell_type": "markdown",
   "id": "3ddaf05a-e72f-4456-aeb9-15b7220b04dc",
   "metadata": {},
   "source": [
    "### mort_acc"
   ]
  },
  {
   "cell_type": "code",
   "execution_count": 869,
   "id": "3594759e-b60f-42a2-885b-17253a08c5d7",
   "metadata": {},
   "outputs": [
    {
     "data": {
      "text/plain": [
       "0.0     110669\n",
       "1.0      48269\n",
       "2.0      40006\n",
       "         30783\n",
       "3.0      30468\n",
       "4.0      22474\n",
       "5.0      14706\n",
       "6.0       8906\n",
       "7.0       4953\n",
       "8.0       2552\n",
       "9.0       1344\n",
       "10.0       709\n",
       "11.0       393\n",
       "12.0       208\n",
       "13.0       121\n",
       "14.0        91\n",
       "15.0        51\n",
       "16.0        28\n",
       "17.0        21\n",
       "18.0        15\n",
       "19.0        11\n",
       "20.0        10\n",
       "24.0         8\n",
       "22.0         6\n",
       "21.0         4\n",
       "25.0         4\n",
       "32.0         2\n",
       "23.0         2\n",
       "26.0         2\n",
       "31.0         2\n",
       "27.0         1\n",
       "34.0         1\n",
       "30.0         1\n",
       "28.0         1\n",
       "Name: mort_acc, dtype: int64"
      ]
     },
     "execution_count": 869,
     "metadata": {},
     "output_type": "execute_result"
    }
   ],
   "source": [
    "df.mort_acc.value_counts()"
   ]
  },
  {
   "cell_type": "code",
   "execution_count": 870,
   "id": "3747e4dd-bdd3-43d2-ab00-110193a8a8c7",
   "metadata": {},
   "outputs": [
    {
     "data": {
      "text/plain": [
       "30783"
      ]
     },
     "execution_count": 870,
     "metadata": {},
     "output_type": "execute_result"
    }
   ],
   "source": [
    "df.mort_acc = df.mort_acc.replace({'':np.nan}).astype('float')\n",
    "df.mort_acc.isna().sum()"
   ]
  },
  {
   "cell_type": "markdown",
   "id": "179199a3-96cf-4119-97be-2035703cd44a",
   "metadata": {},
   "source": [
    "### pub_rec_backrupticies"
   ]
  },
  {
   "cell_type": "code",
   "execution_count": 871,
   "id": "b75c2c3d-df1a-4a22-bedc-aad93669820d",
   "metadata": {},
   "outputs": [
    {
     "data": {
      "text/plain": [
       "433"
      ]
     },
     "execution_count": 871,
     "metadata": {},
     "output_type": "execute_result"
    }
   ],
   "source": [
    "df.pub_rec_bankruptcies = df.pub_rec_bankruptcies.replace({'':np.nan}).astype('float')\n",
    "df.pub_rec_bankruptcies.isna().sum()"
   ]
  },
  {
   "cell_type": "markdown",
   "id": "8ca48767-17ef-4b94-adef-63d218eb277f",
   "metadata": {},
   "source": [
    "### Address"
   ]
  },
  {
   "cell_type": "code",
   "execution_count": 872,
   "id": "575a867f-04cc-4d3d-81da-390bacb35381",
   "metadata": {},
   "outputs": [
    {
     "data": {
      "text/plain": [
       "0         257 Smith Circles Apt. 186\\r\\nWilsonland, NH 1...\n",
       "1          632 Villanueva View\\r\\nLawrencechester, NM 00813\n",
       "2               612 Gillespie Island\\r\\nDavisside, KY 93700\n",
       "3                    781 Jessica Trail\\r\\nRyanton, FL 05113\n",
       "4                 261 Ashley Knolls\\r\\nNew Victor, CO 70466\n",
       "                                ...                        \n",
       "316817      156 Kimberly Square\\r\\nGabriellehaven, FL 05113\n",
       "316818    2675 Ingram Curve Apt. 481\\r\\nWest Heatherberg...\n",
       "316819    49145 Vaughn Island Apt. 497\\r\\nManuelchester,...\n",
       "316820         0230 Juan Trafficway\\r\\nShaneburgh, AL 48052\n",
       "316821     82246 Barnes Run Apt. 473\\r\\nBakerfort, AR 29597\n",
       "Name: address, Length: 316822, dtype: object"
      ]
     },
     "execution_count": 872,
     "metadata": {},
     "output_type": "execute_result"
    }
   ],
   "source": [
    "df.address"
   ]
  },
  {
   "cell_type": "code",
   "execution_count": 873,
   "id": "15f0ad79-f200-43e1-855f-64990a26d227",
   "metadata": {},
   "outputs": [
    {
     "data": {
      "text/plain": [
       "0           257 Smith Circles Apt. 186 Wilsonland, NH 11650\n",
       "1             632 Villanueva View Lawrencechester, NM 00813\n",
       "2                  612 Gillespie Island Davisside, KY 93700\n",
       "3                       781 Jessica Trail Ryanton, FL 05113\n",
       "4                    261 Ashley Knolls New Victor, CO 70466\n",
       "                                ...                        \n",
       "316817         156 Kimberly Square Gabriellehaven, FL 05113\n",
       "316818    2675 Ingram Curve Apt. 481 West Heatherberg, F...\n",
       "316819    49145 Vaughn Island Apt. 497 Manuelchester, TN...\n",
       "316820            0230 Juan Trafficway Shaneburgh, AL 48052\n",
       "316821        82246 Barnes Run Apt. 473 Bakerfort, AR 29597\n",
       "Name: address, Length: 316822, dtype: object"
      ]
     },
     "execution_count": 873,
     "metadata": {},
     "output_type": "execute_result"
    }
   ],
   "source": [
    "df.address = df.address.str.replace(r'\\s+',' ', regex=True)\n",
    "df.address"
   ]
  },
  {
   "cell_type": "markdown",
   "id": "935bd41e-4bbd-4a41-861e-f97a7553e920",
   "metadata": {},
   "source": [
    "## Removing rows\n",
    "\n",
    "Annual Income should be required for loan application.  \n",
    "There's only one row with `annual_inc == 0`"
   ]
  },
  {
   "cell_type": "code",
   "execution_count": 874,
   "id": "570b5dae-5333-4c0b-b2de-4bb8d884379d",
   "metadata": {},
   "outputs": [],
   "source": [
    "df = df[df.annual_inc > 0]"
   ]
  },
  {
   "cell_type": "markdown",
   "id": "76b96664-8806-4e13-b09e-20ab37be3ed5",
   "metadata": {},
   "source": [
    "## Save cleansed data"
   ]
  },
  {
   "cell_type": "code",
   "execution_count": 875,
   "id": "c9d1cf71-7651-486d-a69a-7364eb485323",
   "metadata": {},
   "outputs": [
    {
     "name": "stdout",
     "output_type": "stream",
     "text": [
      "<class 'pandas.core.frame.DataFrame'>\n",
      "Int64Index: 316821 entries, 0 to 316821\n",
      "Data columns (total 27 columns):\n",
      " #   Column                Non-Null Count   Dtype         \n",
      "---  ------                --------------   -----         \n",
      " 0   id                    316821 non-null  object        \n",
      " 1   loan_amnt             316821 non-null  int32         \n",
      " 2   term                  316821 non-null  object        \n",
      " 3   int_rate              316821 non-null  float64       \n",
      " 4   installment           316821 non-null  float64       \n",
      " 5   grade                 316821 non-null  object        \n",
      " 6   sub_grade             316821 non-null  object        \n",
      " 7   emp_title             316821 non-null  object        \n",
      " 8   emp_length            316821 non-null  object        \n",
      " 9   home_ownership        316821 non-null  object        \n",
      " 10  annual_inc            316821 non-null  float64       \n",
      " 11  verification_status   316821 non-null  object        \n",
      " 12  loan_status           316821 non-null  object        \n",
      " 13  purpose               316821 non-null  object        \n",
      " 14  title                 316821 non-null  object        \n",
      " 15  dti                   316821 non-null  float64       \n",
      " 16  earliest_cr_line      316821 non-null  datetime64[ns]\n",
      " 17  open_acc              316821 non-null  int32         \n",
      " 18  pub_rec               316821 non-null  int32         \n",
      " 19  revol_bal             316821 non-null  int32         \n",
      " 20  revol_util            316600 non-null  float64       \n",
      " 21  total_acc             316821 non-null  int32         \n",
      " 22  initial_list_status   316821 non-null  object        \n",
      " 23  application_type      316821 non-null  object        \n",
      " 24  mort_acc              286038 non-null  float64       \n",
      " 25  pub_rec_bankruptcies  316388 non-null  float64       \n",
      " 26  address               316821 non-null  object        \n",
      "dtypes: datetime64[ns](1), float64(7), int32(5), object(14)\n",
      "memory usage: 61.6+ MB\n"
     ]
    }
   ],
   "source": [
    "df.info()"
   ]
  },
  {
   "cell_type": "code",
   "execution_count": 876,
   "id": "62ed6c51-b2b0-47df-a487-8c3496a4eb2f",
   "metadata": {},
   "outputs": [],
   "source": [
    "# df.to_parquet('data/01_cleansed.parquet')\n",
    "df.to_pickle('data/01_cleansed.pkl')"
   ]
  },
  {
   "cell_type": "code",
   "execution_count": null,
   "id": "94dd1379-38ed-4792-ad6d-cdcfb288793f",
   "metadata": {},
   "outputs": [],
   "source": []
  }
 ],
 "metadata": {
  "kernelspec": {
   "display_name": "Python 3 (ipykernel)",
   "language": "python",
   "name": "python3"
  },
  "language_info": {
   "codemirror_mode": {
    "name": "ipython",
    "version": 3
   },
   "file_extension": ".py",
   "mimetype": "text/x-python",
   "name": "python",
   "nbconvert_exporter": "python",
   "pygments_lexer": "ipython3",
   "version": "3.9.12"
  }
 },
 "nbformat": 4,
 "nbformat_minor": 5
}
